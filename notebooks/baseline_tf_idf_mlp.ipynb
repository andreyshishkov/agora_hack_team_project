{
  "nbformat": 4,
  "nbformat_minor": 0,
  "metadata": {
    "colab": {
      "name": "agora_hack.ipynb",
      "provenance": []
    },
    "kernelspec": {
      "name": "python3",
      "display_name": "Python 3"
    },
    "language_info": {
      "name": "python"
    }
  },
  "cells": [
    {
      "cell_type": "code",
      "execution_count": 1,
      "metadata": {
        "id": "fe7cRoftkPNh"
      },
      "outputs": [],
      "source": [
        "import numpy as np\n",
        "import pandas as pd  \n",
        "import matplotlib.pyplot as plt\n",
        "%matplotlib inline"
      ]
    },
    {
      "cell_type": "code",
      "source": [
        "df = pd.read_json('/content/drive/MyDrive/agora_hack_products.json')"
      ],
      "metadata": {
        "id": "YpS7dfmFkhUW"
      },
      "execution_count": 2,
      "outputs": []
    },
    {
      "cell_type": "code",
      "source": [
        "df.head()"
      ],
      "metadata": {
        "colab": {
          "base_uri": "https://localhost:8080/",
          "height": 206
        },
        "id": "0FshX16sk-uC",
        "outputId": "e9865940-041c-4242-8641-f194149a880c"
      },
      "execution_count": 3,
      "outputs": [
        {
          "output_type": "execute_result",
          "data": {
            "text/plain": [
              "         product_id                                               name  \\\n",
              "0  0007302f2fe1d54d  Классическая сплит-система ROYAL CLIMA PANDORA...   \n",
              "1  000740b6c1cc763e  Смартфон Xiaomi Redmi Note 10S NFC 6/128 ГБ RU...   \n",
              "2  0039af5efceac4ab                             Холодильник Бирюса 118   \n",
              "3  004f2158acb8165c            ASUS TUF-GTX1660S-O6G-GAMING Видеокарта   \n",
              "4  005cddb29e1677ec  Кофемашина Saeco Lirika One Touch Cappuccino, ...   \n",
              "\n",
              "                                               props  is_reference  \\\n",
              "0  [Класс  энергоэффективности\\tA, Мощность  конд...         False   \n",
              "1  [Экран\\t6.43\" (2400x1080) AMOLED 60 Гц, 4 каме...          True   \n",
              "2              [Мощность  замораживания  4 кг/сутки]         False   \n",
              "3  [Объем  видеопамяти\\t6144 МБ, Частота  памяти\\...         False   \n",
              "4  [Приготовление  капучино\\tавтоматическое, Мате...         False   \n",
              "\n",
              "       reference_id  \n",
              "0  f497219eb0077f84  \n",
              "1              None  \n",
              "2  28085e941cde1639  \n",
              "3  9afe55bb4bf1e8a8  \n",
              "4  1f21918ceb5d345c  "
            ],
            "text/html": [
              "\n",
              "  <div id=\"df-90fae26c-8c8a-4cf3-b75f-ca7536b21736\">\n",
              "    <div class=\"colab-df-container\">\n",
              "      <div>\n",
              "<style scoped>\n",
              "    .dataframe tbody tr th:only-of-type {\n",
              "        vertical-align: middle;\n",
              "    }\n",
              "\n",
              "    .dataframe tbody tr th {\n",
              "        vertical-align: top;\n",
              "    }\n",
              "\n",
              "    .dataframe thead th {\n",
              "        text-align: right;\n",
              "    }\n",
              "</style>\n",
              "<table border=\"1\" class=\"dataframe\">\n",
              "  <thead>\n",
              "    <tr style=\"text-align: right;\">\n",
              "      <th></th>\n",
              "      <th>product_id</th>\n",
              "      <th>name</th>\n",
              "      <th>props</th>\n",
              "      <th>is_reference</th>\n",
              "      <th>reference_id</th>\n",
              "    </tr>\n",
              "  </thead>\n",
              "  <tbody>\n",
              "    <tr>\n",
              "      <th>0</th>\n",
              "      <td>0007302f2fe1d54d</td>\n",
              "      <td>Классическая сплит-система ROYAL CLIMA PANDORA...</td>\n",
              "      <td>[Класс  энергоэффективности\\tA, Мощность  конд...</td>\n",
              "      <td>False</td>\n",
              "      <td>f497219eb0077f84</td>\n",
              "    </tr>\n",
              "    <tr>\n",
              "      <th>1</th>\n",
              "      <td>000740b6c1cc763e</td>\n",
              "      <td>Смартфон Xiaomi Redmi Note 10S NFC 6/128 ГБ RU...</td>\n",
              "      <td>[Экран\\t6.43\" (2400x1080) AMOLED 60 Гц, 4 каме...</td>\n",
              "      <td>True</td>\n",
              "      <td>None</td>\n",
              "    </tr>\n",
              "    <tr>\n",
              "      <th>2</th>\n",
              "      <td>0039af5efceac4ab</td>\n",
              "      <td>Холодильник Бирюса 118</td>\n",
              "      <td>[Мощность  замораживания  4 кг/сутки]</td>\n",
              "      <td>False</td>\n",
              "      <td>28085e941cde1639</td>\n",
              "    </tr>\n",
              "    <tr>\n",
              "      <th>3</th>\n",
              "      <td>004f2158acb8165c</td>\n",
              "      <td>ASUS TUF-GTX1660S-O6G-GAMING Видеокарта</td>\n",
              "      <td>[Объем  видеопамяти\\t6144 МБ, Частота  памяти\\...</td>\n",
              "      <td>False</td>\n",
              "      <td>9afe55bb4bf1e8a8</td>\n",
              "    </tr>\n",
              "    <tr>\n",
              "      <th>4</th>\n",
              "      <td>005cddb29e1677ec</td>\n",
              "      <td>Кофемашина Saeco Lirika One Touch Cappuccino, ...</td>\n",
              "      <td>[Приготовление  капучино\\tавтоматическое, Мате...</td>\n",
              "      <td>False</td>\n",
              "      <td>1f21918ceb5d345c</td>\n",
              "    </tr>\n",
              "  </tbody>\n",
              "</table>\n",
              "</div>\n",
              "      <button class=\"colab-df-convert\" onclick=\"convertToInteractive('df-90fae26c-8c8a-4cf3-b75f-ca7536b21736')\"\n",
              "              title=\"Convert this dataframe to an interactive table.\"\n",
              "              style=\"display:none;\">\n",
              "        \n",
              "  <svg xmlns=\"http://www.w3.org/2000/svg\" height=\"24px\"viewBox=\"0 0 24 24\"\n",
              "       width=\"24px\">\n",
              "    <path d=\"M0 0h24v24H0V0z\" fill=\"none\"/>\n",
              "    <path d=\"M18.56 5.44l.94 2.06.94-2.06 2.06-.94-2.06-.94-.94-2.06-.94 2.06-2.06.94zm-11 1L8.5 8.5l.94-2.06 2.06-.94-2.06-.94L8.5 2.5l-.94 2.06-2.06.94zm10 10l.94 2.06.94-2.06 2.06-.94-2.06-.94-.94-2.06-.94 2.06-2.06.94z\"/><path d=\"M17.41 7.96l-1.37-1.37c-.4-.4-.92-.59-1.43-.59-.52 0-1.04.2-1.43.59L10.3 9.45l-7.72 7.72c-.78.78-.78 2.05 0 2.83L4 21.41c.39.39.9.59 1.41.59.51 0 1.02-.2 1.41-.59l7.78-7.78 2.81-2.81c.8-.78.8-2.07 0-2.86zM5.41 20L4 18.59l7.72-7.72 1.47 1.35L5.41 20z\"/>\n",
              "  </svg>\n",
              "      </button>\n",
              "      \n",
              "  <style>\n",
              "    .colab-df-container {\n",
              "      display:flex;\n",
              "      flex-wrap:wrap;\n",
              "      gap: 12px;\n",
              "    }\n",
              "\n",
              "    .colab-df-convert {\n",
              "      background-color: #E8F0FE;\n",
              "      border: none;\n",
              "      border-radius: 50%;\n",
              "      cursor: pointer;\n",
              "      display: none;\n",
              "      fill: #1967D2;\n",
              "      height: 32px;\n",
              "      padding: 0 0 0 0;\n",
              "      width: 32px;\n",
              "    }\n",
              "\n",
              "    .colab-df-convert:hover {\n",
              "      background-color: #E2EBFA;\n",
              "      box-shadow: 0px 1px 2px rgba(60, 64, 67, 0.3), 0px 1px 3px 1px rgba(60, 64, 67, 0.15);\n",
              "      fill: #174EA6;\n",
              "    }\n",
              "\n",
              "    [theme=dark] .colab-df-convert {\n",
              "      background-color: #3B4455;\n",
              "      fill: #D2E3FC;\n",
              "    }\n",
              "\n",
              "    [theme=dark] .colab-df-convert:hover {\n",
              "      background-color: #434B5C;\n",
              "      box-shadow: 0px 1px 3px 1px rgba(0, 0, 0, 0.15);\n",
              "      filter: drop-shadow(0px 1px 2px rgba(0, 0, 0, 0.3));\n",
              "      fill: #FFFFFF;\n",
              "    }\n",
              "  </style>\n",
              "\n",
              "      <script>\n",
              "        const buttonEl =\n",
              "          document.querySelector('#df-90fae26c-8c8a-4cf3-b75f-ca7536b21736 button.colab-df-convert');\n",
              "        buttonEl.style.display =\n",
              "          google.colab.kernel.accessAllowed ? 'block' : 'none';\n",
              "\n",
              "        async function convertToInteractive(key) {\n",
              "          const element = document.querySelector('#df-90fae26c-8c8a-4cf3-b75f-ca7536b21736');\n",
              "          const dataTable =\n",
              "            await google.colab.kernel.invokeFunction('convertToInteractive',\n",
              "                                                     [key], {});\n",
              "          if (!dataTable) return;\n",
              "\n",
              "          const docLinkHtml = 'Like what you see? Visit the ' +\n",
              "            '<a target=\"_blank\" href=https://colab.research.google.com/notebooks/data_table.ipynb>data table notebook</a>'\n",
              "            + ' to learn more about interactive tables.';\n",
              "          element.innerHTML = '';\n",
              "          dataTable['output_type'] = 'display_data';\n",
              "          await google.colab.output.renderOutput(dataTable, element);\n",
              "          const docLink = document.createElement('div');\n",
              "          docLink.innerHTML = docLinkHtml;\n",
              "          element.appendChild(docLink);\n",
              "        }\n",
              "      </script>\n",
              "    </div>\n",
              "  </div>\n",
              "  "
            ]
          },
          "metadata": {},
          "execution_count": 3
        }
      ]
    },
    {
      "cell_type": "code",
      "source": [
        "df.info()"
      ],
      "metadata": {
        "colab": {
          "base_uri": "https://localhost:8080/"
        },
        "id": "isO2olqIlNgF",
        "outputId": "f78d73e5-ed40-45d8-de37-f9981352b923"
      },
      "execution_count": 4,
      "outputs": [
        {
          "output_type": "stream",
          "name": "stdout",
          "text": [
            "<class 'pandas.core.frame.DataFrame'>\n",
            "RangeIndex: 3251 entries, 0 to 3250\n",
            "Data columns (total 5 columns):\n",
            " #   Column        Non-Null Count  Dtype \n",
            "---  ------        --------------  ----- \n",
            " 0   product_id    3251 non-null   object\n",
            " 1   name          3251 non-null   object\n",
            " 2   props         3251 non-null   object\n",
            " 3   is_reference  3251 non-null   bool  \n",
            " 4   reference_id  2780 non-null   object\n",
            "dtypes: bool(1), object(4)\n",
            "memory usage: 104.9+ KB\n"
          ]
        }
      ]
    },
    {
      "cell_type": "code",
      "source": [
        "df.reference_id.value_counts()"
      ],
      "metadata": {
        "colab": {
          "base_uri": "https://localhost:8080/"
        },
        "id": "MLk-AH0qlb2n",
        "outputId": "d6c82b91-1785-4230-fdd4-99ea7b296ba0"
      },
      "execution_count": 5,
      "outputs": [
        {
          "output_type": "execute_result",
          "data": {
            "text/plain": [
              "116c9e6140857b4b    37\n",
              "d4ebc4a26700d5e0    34\n",
              "b91a686bdeee3b59    22\n",
              "d7d28d1201ba8bde    22\n",
              "b6f6e9b5ead263ae    21\n",
              "                    ..\n",
              "53a206146d4ecba5     1\n",
              "c24becbb7f823904     1\n",
              "e2e227ddf732c1ca     1\n",
              "d82bc0afa73ab4e0     1\n",
              "c23587593162a13a     1\n",
              "Name: reference_id, Length: 471, dtype: int64"
            ]
          },
          "metadata": {},
          "execution_count": 5
        }
      ]
    },
    {
      "cell_type": "code",
      "source": [
        "df['string_props'] = df['props'].apply(lambda x: ' '.join(x).lower())"
      ],
      "metadata": {
        "id": "PHPn8l6blya6"
      },
      "execution_count": 8,
      "outputs": []
    },
    {
      "cell_type": "code",
      "source": [
        "df.head()"
      ],
      "metadata": {
        "colab": {
          "base_uri": "https://localhost:8080/",
          "height": 206
        },
        "id": "_EL6hh7cmngR",
        "outputId": "065e006b-a39f-4ff3-ab21-b253d2f6a9bc"
      },
      "execution_count": 9,
      "outputs": [
        {
          "output_type": "execute_result",
          "data": {
            "text/plain": [
              "         product_id                                               name  \\\n",
              "0  0007302f2fe1d54d  Классическая сплит-система ROYAL CLIMA PANDORA...   \n",
              "1  000740b6c1cc763e  Смартфон Xiaomi Redmi Note 10S NFC 6/128 ГБ RU...   \n",
              "2  0039af5efceac4ab                             Холодильник Бирюса 118   \n",
              "3  004f2158acb8165c            ASUS TUF-GTX1660S-O6G-GAMING Видеокарта   \n",
              "4  005cddb29e1677ec  Кофемашина Saeco Lirika One Touch Cappuccino, ...   \n",
              "\n",
              "                                               props  is_reference  \\\n",
              "0  [Класс  энергоэффективности\\tA, Мощность  конд...         False   \n",
              "1  [Экран\\t6.43\" (2400x1080) AMOLED 60 Гц, 4 каме...          True   \n",
              "2              [Мощность  замораживания  4 кг/сутки]         False   \n",
              "3  [Объем  видеопамяти\\t6144 МБ, Частота  памяти\\...         False   \n",
              "4  [Приготовление  капучино\\tавтоматическое, Мате...         False   \n",
              "\n",
              "       reference_id                                       string_props  \n",
              "0  f497219eb0077f84  класс  энергоэффективности\\ta мощность  кондиц...  \n",
              "1              None  экран\\t6.43\" (2400x1080) amoled 60 гц 4 камеры...  \n",
              "2  28085e941cde1639                мощность  замораживания  4 кг/сутки  \n",
              "3  9afe55bb4bf1e8a8  объем  видеопамяти\\t6144 мб частота  памяти\\t1...  \n",
              "4  1f21918ceb5d345c  приготовление  капучино\\tавтоматическое матери...  "
            ],
            "text/html": [
              "\n",
              "  <div id=\"df-345a0629-8258-48bc-be89-11933d96dfa7\">\n",
              "    <div class=\"colab-df-container\">\n",
              "      <div>\n",
              "<style scoped>\n",
              "    .dataframe tbody tr th:only-of-type {\n",
              "        vertical-align: middle;\n",
              "    }\n",
              "\n",
              "    .dataframe tbody tr th {\n",
              "        vertical-align: top;\n",
              "    }\n",
              "\n",
              "    .dataframe thead th {\n",
              "        text-align: right;\n",
              "    }\n",
              "</style>\n",
              "<table border=\"1\" class=\"dataframe\">\n",
              "  <thead>\n",
              "    <tr style=\"text-align: right;\">\n",
              "      <th></th>\n",
              "      <th>product_id</th>\n",
              "      <th>name</th>\n",
              "      <th>props</th>\n",
              "      <th>is_reference</th>\n",
              "      <th>reference_id</th>\n",
              "      <th>string_props</th>\n",
              "    </tr>\n",
              "  </thead>\n",
              "  <tbody>\n",
              "    <tr>\n",
              "      <th>0</th>\n",
              "      <td>0007302f2fe1d54d</td>\n",
              "      <td>Классическая сплит-система ROYAL CLIMA PANDORA...</td>\n",
              "      <td>[Класс  энергоэффективности\\tA, Мощность  конд...</td>\n",
              "      <td>False</td>\n",
              "      <td>f497219eb0077f84</td>\n",
              "      <td>класс  энергоэффективности\\ta мощность  кондиц...</td>\n",
              "    </tr>\n",
              "    <tr>\n",
              "      <th>1</th>\n",
              "      <td>000740b6c1cc763e</td>\n",
              "      <td>Смартфон Xiaomi Redmi Note 10S NFC 6/128 ГБ RU...</td>\n",
              "      <td>[Экран\\t6.43\" (2400x1080) AMOLED 60 Гц, 4 каме...</td>\n",
              "      <td>True</td>\n",
              "      <td>None</td>\n",
              "      <td>экран\\t6.43\" (2400x1080) amoled 60 гц 4 камеры...</td>\n",
              "    </tr>\n",
              "    <tr>\n",
              "      <th>2</th>\n",
              "      <td>0039af5efceac4ab</td>\n",
              "      <td>Холодильник Бирюса 118</td>\n",
              "      <td>[Мощность  замораживания  4 кг/сутки]</td>\n",
              "      <td>False</td>\n",
              "      <td>28085e941cde1639</td>\n",
              "      <td>мощность  замораживания  4 кг/сутки</td>\n",
              "    </tr>\n",
              "    <tr>\n",
              "      <th>3</th>\n",
              "      <td>004f2158acb8165c</td>\n",
              "      <td>ASUS TUF-GTX1660S-O6G-GAMING Видеокарта</td>\n",
              "      <td>[Объем  видеопамяти\\t6144 МБ, Частота  памяти\\...</td>\n",
              "      <td>False</td>\n",
              "      <td>9afe55bb4bf1e8a8</td>\n",
              "      <td>объем  видеопамяти\\t6144 мб частота  памяти\\t1...</td>\n",
              "    </tr>\n",
              "    <tr>\n",
              "      <th>4</th>\n",
              "      <td>005cddb29e1677ec</td>\n",
              "      <td>Кофемашина Saeco Lirika One Touch Cappuccino, ...</td>\n",
              "      <td>[Приготовление  капучино\\tавтоматическое, Мате...</td>\n",
              "      <td>False</td>\n",
              "      <td>1f21918ceb5d345c</td>\n",
              "      <td>приготовление  капучино\\tавтоматическое матери...</td>\n",
              "    </tr>\n",
              "  </tbody>\n",
              "</table>\n",
              "</div>\n",
              "      <button class=\"colab-df-convert\" onclick=\"convertToInteractive('df-345a0629-8258-48bc-be89-11933d96dfa7')\"\n",
              "              title=\"Convert this dataframe to an interactive table.\"\n",
              "              style=\"display:none;\">\n",
              "        \n",
              "  <svg xmlns=\"http://www.w3.org/2000/svg\" height=\"24px\"viewBox=\"0 0 24 24\"\n",
              "       width=\"24px\">\n",
              "    <path d=\"M0 0h24v24H0V0z\" fill=\"none\"/>\n",
              "    <path d=\"M18.56 5.44l.94 2.06.94-2.06 2.06-.94-2.06-.94-.94-2.06-.94 2.06-2.06.94zm-11 1L8.5 8.5l.94-2.06 2.06-.94-2.06-.94L8.5 2.5l-.94 2.06-2.06.94zm10 10l.94 2.06.94-2.06 2.06-.94-2.06-.94-.94-2.06-.94 2.06-2.06.94z\"/><path d=\"M17.41 7.96l-1.37-1.37c-.4-.4-.92-.59-1.43-.59-.52 0-1.04.2-1.43.59L10.3 9.45l-7.72 7.72c-.78.78-.78 2.05 0 2.83L4 21.41c.39.39.9.59 1.41.59.51 0 1.02-.2 1.41-.59l7.78-7.78 2.81-2.81c.8-.78.8-2.07 0-2.86zM5.41 20L4 18.59l7.72-7.72 1.47 1.35L5.41 20z\"/>\n",
              "  </svg>\n",
              "      </button>\n",
              "      \n",
              "  <style>\n",
              "    .colab-df-container {\n",
              "      display:flex;\n",
              "      flex-wrap:wrap;\n",
              "      gap: 12px;\n",
              "    }\n",
              "\n",
              "    .colab-df-convert {\n",
              "      background-color: #E8F0FE;\n",
              "      border: none;\n",
              "      border-radius: 50%;\n",
              "      cursor: pointer;\n",
              "      display: none;\n",
              "      fill: #1967D2;\n",
              "      height: 32px;\n",
              "      padding: 0 0 0 0;\n",
              "      width: 32px;\n",
              "    }\n",
              "\n",
              "    .colab-df-convert:hover {\n",
              "      background-color: #E2EBFA;\n",
              "      box-shadow: 0px 1px 2px rgba(60, 64, 67, 0.3), 0px 1px 3px 1px rgba(60, 64, 67, 0.15);\n",
              "      fill: #174EA6;\n",
              "    }\n",
              "\n",
              "    [theme=dark] .colab-df-convert {\n",
              "      background-color: #3B4455;\n",
              "      fill: #D2E3FC;\n",
              "    }\n",
              "\n",
              "    [theme=dark] .colab-df-convert:hover {\n",
              "      background-color: #434B5C;\n",
              "      box-shadow: 0px 1px 3px 1px rgba(0, 0, 0, 0.15);\n",
              "      filter: drop-shadow(0px 1px 2px rgba(0, 0, 0, 0.3));\n",
              "      fill: #FFFFFF;\n",
              "    }\n",
              "  </style>\n",
              "\n",
              "      <script>\n",
              "        const buttonEl =\n",
              "          document.querySelector('#df-345a0629-8258-48bc-be89-11933d96dfa7 button.colab-df-convert');\n",
              "        buttonEl.style.display =\n",
              "          google.colab.kernel.accessAllowed ? 'block' : 'none';\n",
              "\n",
              "        async function convertToInteractive(key) {\n",
              "          const element = document.querySelector('#df-345a0629-8258-48bc-be89-11933d96dfa7');\n",
              "          const dataTable =\n",
              "            await google.colab.kernel.invokeFunction('convertToInteractive',\n",
              "                                                     [key], {});\n",
              "          if (!dataTable) return;\n",
              "\n",
              "          const docLinkHtml = 'Like what you see? Visit the ' +\n",
              "            '<a target=\"_blank\" href=https://colab.research.google.com/notebooks/data_table.ipynb>data table notebook</a>'\n",
              "            + ' to learn more about interactive tables.';\n",
              "          element.innerHTML = '';\n",
              "          dataTable['output_type'] = 'display_data';\n",
              "          await google.colab.output.renderOutput(dataTable, element);\n",
              "          const docLink = document.createElement('div');\n",
              "          docLink.innerHTML = docLinkHtml;\n",
              "          element.appendChild(docLink);\n",
              "        }\n",
              "      </script>\n",
              "    </div>\n",
              "  </div>\n",
              "  "
            ]
          },
          "metadata": {},
          "execution_count": 9
        }
      ]
    },
    {
      "cell_type": "code",
      "source": [
        "df['text'] = df['name'] + '. ' + df['string_props']"
      ],
      "metadata": {
        "id": "OATLdIjQmzrZ"
      },
      "execution_count": 10,
      "outputs": []
    },
    {
      "cell_type": "code",
      "source": [
        "df.head()"
      ],
      "metadata": {
        "colab": {
          "base_uri": "https://localhost:8080/",
          "height": 337
        },
        "id": "1yPal8j6nEmo",
        "outputId": "d879abdd-9b23-46c3-8efa-e7efddd70a97"
      },
      "execution_count": 11,
      "outputs": [
        {
          "output_type": "execute_result",
          "data": {
            "text/plain": [
              "         product_id                                               name  \\\n",
              "0  0007302f2fe1d54d  Классическая сплит-система ROYAL CLIMA PANDORA...   \n",
              "1  000740b6c1cc763e  Смартфон Xiaomi Redmi Note 10S NFC 6/128 ГБ RU...   \n",
              "2  0039af5efceac4ab                             Холодильник Бирюса 118   \n",
              "3  004f2158acb8165c            ASUS TUF-GTX1660S-O6G-GAMING Видеокарта   \n",
              "4  005cddb29e1677ec  Кофемашина Saeco Lirika One Touch Cappuccino, ...   \n",
              "\n",
              "                                               props  is_reference  \\\n",
              "0  [Класс  энергоэффективности\\tA, Мощность  конд...         False   \n",
              "1  [Экран\\t6.43\" (2400x1080) AMOLED 60 Гц, 4 каме...          True   \n",
              "2              [Мощность  замораживания  4 кг/сутки]         False   \n",
              "3  [Объем  видеопамяти\\t6144 МБ, Частота  памяти\\...         False   \n",
              "4  [Приготовление  капучино\\tавтоматическое, Мате...         False   \n",
              "\n",
              "       reference_id                                       string_props  \\\n",
              "0  f497219eb0077f84  класс  энергоэффективности\\ta мощность  кондиц...   \n",
              "1              None  экран\\t6.43\" (2400x1080) amoled 60 гц 4 камеры...   \n",
              "2  28085e941cde1639                мощность  замораживания  4 кг/сутки   \n",
              "3  9afe55bb4bf1e8a8  объем  видеопамяти\\t6144 мб частота  памяти\\t1...   \n",
              "4  1f21918ceb5d345c  приготовление  капучино\\tавтоматическое матери...   \n",
              "\n",
              "                                                text  \n",
              "0  Классическая сплит-система ROYAL CLIMA PANDORA...  \n",
              "1  Смартфон Xiaomi Redmi Note 10S NFC 6/128 ГБ RU...  \n",
              "2  Холодильник Бирюса 118. мощность  замораживани...  \n",
              "3  ASUS TUF-GTX1660S-O6G-GAMING Видеокарта. объем...  \n",
              "4  Кофемашина Saeco Lirika One Touch Cappuccino, ...  "
            ],
            "text/html": [
              "\n",
              "  <div id=\"df-af24f067-ca7a-4996-9fa2-3785ed1a581d\">\n",
              "    <div class=\"colab-df-container\">\n",
              "      <div>\n",
              "<style scoped>\n",
              "    .dataframe tbody tr th:only-of-type {\n",
              "        vertical-align: middle;\n",
              "    }\n",
              "\n",
              "    .dataframe tbody tr th {\n",
              "        vertical-align: top;\n",
              "    }\n",
              "\n",
              "    .dataframe thead th {\n",
              "        text-align: right;\n",
              "    }\n",
              "</style>\n",
              "<table border=\"1\" class=\"dataframe\">\n",
              "  <thead>\n",
              "    <tr style=\"text-align: right;\">\n",
              "      <th></th>\n",
              "      <th>product_id</th>\n",
              "      <th>name</th>\n",
              "      <th>props</th>\n",
              "      <th>is_reference</th>\n",
              "      <th>reference_id</th>\n",
              "      <th>string_props</th>\n",
              "      <th>text</th>\n",
              "    </tr>\n",
              "  </thead>\n",
              "  <tbody>\n",
              "    <tr>\n",
              "      <th>0</th>\n",
              "      <td>0007302f2fe1d54d</td>\n",
              "      <td>Классическая сплит-система ROYAL CLIMA PANDORA...</td>\n",
              "      <td>[Класс  энергоэффективности\\tA, Мощность  конд...</td>\n",
              "      <td>False</td>\n",
              "      <td>f497219eb0077f84</td>\n",
              "      <td>класс  энергоэффективности\\ta мощность  кондиц...</td>\n",
              "      <td>Классическая сплит-система ROYAL CLIMA PANDORA...</td>\n",
              "    </tr>\n",
              "    <tr>\n",
              "      <th>1</th>\n",
              "      <td>000740b6c1cc763e</td>\n",
              "      <td>Смартфон Xiaomi Redmi Note 10S NFC 6/128 ГБ RU...</td>\n",
              "      <td>[Экран\\t6.43\" (2400x1080) AMOLED 60 Гц, 4 каме...</td>\n",
              "      <td>True</td>\n",
              "      <td>None</td>\n",
              "      <td>экран\\t6.43\" (2400x1080) amoled 60 гц 4 камеры...</td>\n",
              "      <td>Смартфон Xiaomi Redmi Note 10S NFC 6/128 ГБ RU...</td>\n",
              "    </tr>\n",
              "    <tr>\n",
              "      <th>2</th>\n",
              "      <td>0039af5efceac4ab</td>\n",
              "      <td>Холодильник Бирюса 118</td>\n",
              "      <td>[Мощность  замораживания  4 кг/сутки]</td>\n",
              "      <td>False</td>\n",
              "      <td>28085e941cde1639</td>\n",
              "      <td>мощность  замораживания  4 кг/сутки</td>\n",
              "      <td>Холодильник Бирюса 118. мощность  замораживани...</td>\n",
              "    </tr>\n",
              "    <tr>\n",
              "      <th>3</th>\n",
              "      <td>004f2158acb8165c</td>\n",
              "      <td>ASUS TUF-GTX1660S-O6G-GAMING Видеокарта</td>\n",
              "      <td>[Объем  видеопамяти\\t6144 МБ, Частота  памяти\\...</td>\n",
              "      <td>False</td>\n",
              "      <td>9afe55bb4bf1e8a8</td>\n",
              "      <td>объем  видеопамяти\\t6144 мб частота  памяти\\t1...</td>\n",
              "      <td>ASUS TUF-GTX1660S-O6G-GAMING Видеокарта. объем...</td>\n",
              "    </tr>\n",
              "    <tr>\n",
              "      <th>4</th>\n",
              "      <td>005cddb29e1677ec</td>\n",
              "      <td>Кофемашина Saeco Lirika One Touch Cappuccino, ...</td>\n",
              "      <td>[Приготовление  капучино\\tавтоматическое, Мате...</td>\n",
              "      <td>False</td>\n",
              "      <td>1f21918ceb5d345c</td>\n",
              "      <td>приготовление  капучино\\tавтоматическое матери...</td>\n",
              "      <td>Кофемашина Saeco Lirika One Touch Cappuccino, ...</td>\n",
              "    </tr>\n",
              "  </tbody>\n",
              "</table>\n",
              "</div>\n",
              "      <button class=\"colab-df-convert\" onclick=\"convertToInteractive('df-af24f067-ca7a-4996-9fa2-3785ed1a581d')\"\n",
              "              title=\"Convert this dataframe to an interactive table.\"\n",
              "              style=\"display:none;\">\n",
              "        \n",
              "  <svg xmlns=\"http://www.w3.org/2000/svg\" height=\"24px\"viewBox=\"0 0 24 24\"\n",
              "       width=\"24px\">\n",
              "    <path d=\"M0 0h24v24H0V0z\" fill=\"none\"/>\n",
              "    <path d=\"M18.56 5.44l.94 2.06.94-2.06 2.06-.94-2.06-.94-.94-2.06-.94 2.06-2.06.94zm-11 1L8.5 8.5l.94-2.06 2.06-.94-2.06-.94L8.5 2.5l-.94 2.06-2.06.94zm10 10l.94 2.06.94-2.06 2.06-.94-2.06-.94-.94-2.06-.94 2.06-2.06.94z\"/><path d=\"M17.41 7.96l-1.37-1.37c-.4-.4-.92-.59-1.43-.59-.52 0-1.04.2-1.43.59L10.3 9.45l-7.72 7.72c-.78.78-.78 2.05 0 2.83L4 21.41c.39.39.9.59 1.41.59.51 0 1.02-.2 1.41-.59l7.78-7.78 2.81-2.81c.8-.78.8-2.07 0-2.86zM5.41 20L4 18.59l7.72-7.72 1.47 1.35L5.41 20z\"/>\n",
              "  </svg>\n",
              "      </button>\n",
              "      \n",
              "  <style>\n",
              "    .colab-df-container {\n",
              "      display:flex;\n",
              "      flex-wrap:wrap;\n",
              "      gap: 12px;\n",
              "    }\n",
              "\n",
              "    .colab-df-convert {\n",
              "      background-color: #E8F0FE;\n",
              "      border: none;\n",
              "      border-radius: 50%;\n",
              "      cursor: pointer;\n",
              "      display: none;\n",
              "      fill: #1967D2;\n",
              "      height: 32px;\n",
              "      padding: 0 0 0 0;\n",
              "      width: 32px;\n",
              "    }\n",
              "\n",
              "    .colab-df-convert:hover {\n",
              "      background-color: #E2EBFA;\n",
              "      box-shadow: 0px 1px 2px rgba(60, 64, 67, 0.3), 0px 1px 3px 1px rgba(60, 64, 67, 0.15);\n",
              "      fill: #174EA6;\n",
              "    }\n",
              "\n",
              "    [theme=dark] .colab-df-convert {\n",
              "      background-color: #3B4455;\n",
              "      fill: #D2E3FC;\n",
              "    }\n",
              "\n",
              "    [theme=dark] .colab-df-convert:hover {\n",
              "      background-color: #434B5C;\n",
              "      box-shadow: 0px 1px 3px 1px rgba(0, 0, 0, 0.15);\n",
              "      filter: drop-shadow(0px 1px 2px rgba(0, 0, 0, 0.3));\n",
              "      fill: #FFFFFF;\n",
              "    }\n",
              "  </style>\n",
              "\n",
              "      <script>\n",
              "        const buttonEl =\n",
              "          document.querySelector('#df-af24f067-ca7a-4996-9fa2-3785ed1a581d button.colab-df-convert');\n",
              "        buttonEl.style.display =\n",
              "          google.colab.kernel.accessAllowed ? 'block' : 'none';\n",
              "\n",
              "        async function convertToInteractive(key) {\n",
              "          const element = document.querySelector('#df-af24f067-ca7a-4996-9fa2-3785ed1a581d');\n",
              "          const dataTable =\n",
              "            await google.colab.kernel.invokeFunction('convertToInteractive',\n",
              "                                                     [key], {});\n",
              "          if (!dataTable) return;\n",
              "\n",
              "          const docLinkHtml = 'Like what you see? Visit the ' +\n",
              "            '<a target=\"_blank\" href=https://colab.research.google.com/notebooks/data_table.ipynb>data table notebook</a>'\n",
              "            + ' to learn more about interactive tables.';\n",
              "          element.innerHTML = '';\n",
              "          dataTable['output_type'] = 'display_data';\n",
              "          await google.colab.output.renderOutput(dataTable, element);\n",
              "          const docLink = document.createElement('div');\n",
              "          docLink.innerHTML = docLinkHtml;\n",
              "          element.appendChild(docLink);\n",
              "        }\n",
              "      </script>\n",
              "    </div>\n",
              "  </div>\n",
              "  "
            ]
          },
          "metadata": {},
          "execution_count": 11
        }
      ]
    },
    {
      "cell_type": "code",
      "source": [
        "df['text'] = df['text'].apply(lambda x: x.replace('\\t', ' '))"
      ],
      "metadata": {
        "id": "VH62Wez3nPgP"
      },
      "execution_count": 13,
      "outputs": []
    },
    {
      "cell_type": "code",
      "source": [
        ""
      ],
      "metadata": {
        "id": "9ewpMo3Enzq-"
      },
      "execution_count": null,
      "outputs": []
    },
    {
      "cell_type": "markdown",
      "source": [
        "Create data for learning"
      ],
      "metadata": {
        "id": "31ajR73Hn8Kz"
      }
    },
    {
      "cell_type": "code",
      "source": [
        "data = df[df['is_reference'] == False].loc[:, ['text', 'reference_id']]"
      ],
      "metadata": {
        "id": "1b9ybIrhoA5X"
      },
      "execution_count": 18,
      "outputs": []
    },
    {
      "cell_type": "code",
      "source": [
        "data.head()"
      ],
      "metadata": {
        "colab": {
          "base_uri": "https://localhost:8080/",
          "height": 206
        },
        "id": "4a-XYrMUpFsJ",
        "outputId": "6275807e-42a3-407c-96ca-350e310219a3"
      },
      "execution_count": 19,
      "outputs": [
        {
          "output_type": "execute_result",
          "data": {
            "text/plain": [
              "                                                text      reference_id\n",
              "0  Классическая сплит-система ROYAL CLIMA PANDORA...  f497219eb0077f84\n",
              "2  Холодильник Бирюса 118. мощность  замораживани...  28085e941cde1639\n",
              "3  ASUS TUF-GTX1660S-O6G-GAMING Видеокарта. объем...  9afe55bb4bf1e8a8\n",
              "4  Кофемашина Saeco Lirika One Touch Cappuccino, ...  1f21918ceb5d345c\n",
              "6  Lenovo 62A8KAT1EU Монитор. яркость 250   кд/м²...  8f9c8fcf9cb2862c"
            ],
            "text/html": [
              "\n",
              "  <div id=\"df-70d54be6-654d-45f4-9a5c-8e1dd7cd4d50\">\n",
              "    <div class=\"colab-df-container\">\n",
              "      <div>\n",
              "<style scoped>\n",
              "    .dataframe tbody tr th:only-of-type {\n",
              "        vertical-align: middle;\n",
              "    }\n",
              "\n",
              "    .dataframe tbody tr th {\n",
              "        vertical-align: top;\n",
              "    }\n",
              "\n",
              "    .dataframe thead th {\n",
              "        text-align: right;\n",
              "    }\n",
              "</style>\n",
              "<table border=\"1\" class=\"dataframe\">\n",
              "  <thead>\n",
              "    <tr style=\"text-align: right;\">\n",
              "      <th></th>\n",
              "      <th>text</th>\n",
              "      <th>reference_id</th>\n",
              "    </tr>\n",
              "  </thead>\n",
              "  <tbody>\n",
              "    <tr>\n",
              "      <th>0</th>\n",
              "      <td>Классическая сплит-система ROYAL CLIMA PANDORA...</td>\n",
              "      <td>f497219eb0077f84</td>\n",
              "    </tr>\n",
              "    <tr>\n",
              "      <th>2</th>\n",
              "      <td>Холодильник Бирюса 118. мощность  замораживани...</td>\n",
              "      <td>28085e941cde1639</td>\n",
              "    </tr>\n",
              "    <tr>\n",
              "      <th>3</th>\n",
              "      <td>ASUS TUF-GTX1660S-O6G-GAMING Видеокарта. объем...</td>\n",
              "      <td>9afe55bb4bf1e8a8</td>\n",
              "    </tr>\n",
              "    <tr>\n",
              "      <th>4</th>\n",
              "      <td>Кофемашина Saeco Lirika One Touch Cappuccino, ...</td>\n",
              "      <td>1f21918ceb5d345c</td>\n",
              "    </tr>\n",
              "    <tr>\n",
              "      <th>6</th>\n",
              "      <td>Lenovo 62A8KAT1EU Монитор. яркость 250   кд/м²...</td>\n",
              "      <td>8f9c8fcf9cb2862c</td>\n",
              "    </tr>\n",
              "  </tbody>\n",
              "</table>\n",
              "</div>\n",
              "      <button class=\"colab-df-convert\" onclick=\"convertToInteractive('df-70d54be6-654d-45f4-9a5c-8e1dd7cd4d50')\"\n",
              "              title=\"Convert this dataframe to an interactive table.\"\n",
              "              style=\"display:none;\">\n",
              "        \n",
              "  <svg xmlns=\"http://www.w3.org/2000/svg\" height=\"24px\"viewBox=\"0 0 24 24\"\n",
              "       width=\"24px\">\n",
              "    <path d=\"M0 0h24v24H0V0z\" fill=\"none\"/>\n",
              "    <path d=\"M18.56 5.44l.94 2.06.94-2.06 2.06-.94-2.06-.94-.94-2.06-.94 2.06-2.06.94zm-11 1L8.5 8.5l.94-2.06 2.06-.94-2.06-.94L8.5 2.5l-.94 2.06-2.06.94zm10 10l.94 2.06.94-2.06 2.06-.94-2.06-.94-.94-2.06-.94 2.06-2.06.94z\"/><path d=\"M17.41 7.96l-1.37-1.37c-.4-.4-.92-.59-1.43-.59-.52 0-1.04.2-1.43.59L10.3 9.45l-7.72 7.72c-.78.78-.78 2.05 0 2.83L4 21.41c.39.39.9.59 1.41.59.51 0 1.02-.2 1.41-.59l7.78-7.78 2.81-2.81c.8-.78.8-2.07 0-2.86zM5.41 20L4 18.59l7.72-7.72 1.47 1.35L5.41 20z\"/>\n",
              "  </svg>\n",
              "      </button>\n",
              "      \n",
              "  <style>\n",
              "    .colab-df-container {\n",
              "      display:flex;\n",
              "      flex-wrap:wrap;\n",
              "      gap: 12px;\n",
              "    }\n",
              "\n",
              "    .colab-df-convert {\n",
              "      background-color: #E8F0FE;\n",
              "      border: none;\n",
              "      border-radius: 50%;\n",
              "      cursor: pointer;\n",
              "      display: none;\n",
              "      fill: #1967D2;\n",
              "      height: 32px;\n",
              "      padding: 0 0 0 0;\n",
              "      width: 32px;\n",
              "    }\n",
              "\n",
              "    .colab-df-convert:hover {\n",
              "      background-color: #E2EBFA;\n",
              "      box-shadow: 0px 1px 2px rgba(60, 64, 67, 0.3), 0px 1px 3px 1px rgba(60, 64, 67, 0.15);\n",
              "      fill: #174EA6;\n",
              "    }\n",
              "\n",
              "    [theme=dark] .colab-df-convert {\n",
              "      background-color: #3B4455;\n",
              "      fill: #D2E3FC;\n",
              "    }\n",
              "\n",
              "    [theme=dark] .colab-df-convert:hover {\n",
              "      background-color: #434B5C;\n",
              "      box-shadow: 0px 1px 3px 1px rgba(0, 0, 0, 0.15);\n",
              "      filter: drop-shadow(0px 1px 2px rgba(0, 0, 0, 0.3));\n",
              "      fill: #FFFFFF;\n",
              "    }\n",
              "  </style>\n",
              "\n",
              "      <script>\n",
              "        const buttonEl =\n",
              "          document.querySelector('#df-70d54be6-654d-45f4-9a5c-8e1dd7cd4d50 button.colab-df-convert');\n",
              "        buttonEl.style.display =\n",
              "          google.colab.kernel.accessAllowed ? 'block' : 'none';\n",
              "\n",
              "        async function convertToInteractive(key) {\n",
              "          const element = document.querySelector('#df-70d54be6-654d-45f4-9a5c-8e1dd7cd4d50');\n",
              "          const dataTable =\n",
              "            await google.colab.kernel.invokeFunction('convertToInteractive',\n",
              "                                                     [key], {});\n",
              "          if (!dataTable) return;\n",
              "\n",
              "          const docLinkHtml = 'Like what you see? Visit the ' +\n",
              "            '<a target=\"_blank\" href=https://colab.research.google.com/notebooks/data_table.ipynb>data table notebook</a>'\n",
              "            + ' to learn more about interactive tables.';\n",
              "          element.innerHTML = '';\n",
              "          dataTable['output_type'] = 'display_data';\n",
              "          await google.colab.output.renderOutput(dataTable, element);\n",
              "          const docLink = document.createElement('div');\n",
              "          docLink.innerHTML = docLinkHtml;\n",
              "          element.appendChild(docLink);\n",
              "        }\n",
              "      </script>\n",
              "    </div>\n",
              "  </div>\n",
              "  "
            ]
          },
          "metadata": {},
          "execution_count": 19
        }
      ]
    },
    {
      "cell_type": "code",
      "source": [
        "X = data['text']\n",
        "y = data['reference_id']"
      ],
      "metadata": {
        "id": "4IZCfyejpIIA"
      },
      "execution_count": 20,
      "outputs": []
    },
    {
      "cell_type": "code",
      "source": [
        "from sklearn.model_selection import train_test_split"
      ],
      "metadata": {
        "id": "qFZNjbOFpZ_7"
      },
      "execution_count": 21,
      "outputs": []
    },
    {
      "cell_type": "code",
      "source": [
        "X_train, X_test, y_train, y_test = train_test_split(X, y, test_size=0.2, random_state=42)"
      ],
      "metadata": {
        "id": "Aa7crzbdpT_W"
      },
      "execution_count": 22,
      "outputs": []
    },
    {
      "cell_type": "markdown",
      "source": [
        "Model"
      ],
      "metadata": {
        "id": "XrM1E496pxNd"
      }
    },
    {
      "cell_type": "code",
      "source": [
        "import re\n",
        "TOKEN_RE=re.compile(r'[\\w\\d]+')\n",
        "def tokenize_text_simple_regex(txt, min_size=4):\n",
        "  txt=txt.lower()\n",
        "  all_toks=TOKEN_RE.findall(txt)\n",
        "  return [tok for tok in all_toks if len(tok)>=min_size]"
      ],
      "metadata": {
        "id": "67hErGRcqWEB"
      },
      "execution_count": 23,
      "outputs": []
    },
    {
      "cell_type": "code",
      "source": [
        "from sklearn.feature_extraction.text import TfidfVectorizer\n",
        "from sklearn.pipeline import Pipeline\n",
        "from sklearn.neural_network import MLPClassifier\n",
        "\n",
        "MAX_DF=0.8\n",
        "MIN_COUNT=5\n",
        "sklearn_pipeline = Pipeline((('vect', TfidfVectorizer(tokenizer=tokenize_text_simple_regex,\n",
        "                                                      max_df=MAX_DF,\n",
        "                                                      min_df=MIN_COUNT)),\n",
        "                             ('cls', MLPClassifier(solver='lbfgs', alpha=1e-5, hidden_layer_sizes=(350, ), random_state=1))))\n",
        "sklearn_pipeline.fit(X_train, y_train)"
      ],
      "metadata": {
        "colab": {
          "base_uri": "https://localhost:8080/"
        },
        "id": "QDAe-Uecpsc1",
        "outputId": "dca6d66e-a1ae-46d6-811e-aad581026dcf"
      },
      "execution_count": 24,
      "outputs": [
        {
          "output_type": "execute_result",
          "data": {
            "text/plain": [
              "Pipeline(steps=[('vect',\n",
              "                 TfidfVectorizer(max_df=0.8, min_df=5,\n",
              "                                 tokenizer=<function tokenize_text_simple_regex at 0x7fd266a408c0>)),\n",
              "                ('cls',\n",
              "                 MLPClassifier(alpha=1e-05, hidden_layer_sizes=(350,),\n",
              "                               random_state=1, solver='lbfgs'))])"
            ]
          },
          "metadata": {},
          "execution_count": 24
        }
      ]
    },
    {
      "cell_type": "code",
      "source": [
        "sklearn_pipeline.score(X_test, y_test)"
      ],
      "metadata": {
        "colab": {
          "base_uri": "https://localhost:8080/"
        },
        "id": "tQ2tyEIbqhud",
        "outputId": "87dbd7e3-fdaf-429a-b084-85290105cb18"
      },
      "execution_count": 25,
      "outputs": [
        {
          "output_type": "execute_result",
          "data": {
            "text/plain": [
              "0.5881294964028777"
            ]
          },
          "metadata": {},
          "execution_count": 25
        }
      ]
    },
    {
      "cell_type": "markdown",
      "source": [
        "Bert"
      ],
      "metadata": {
        "id": "N0uaXFftstHb"
      }
    },
    {
      "cell_type": "code",
      "source": [
        ""
      ],
      "metadata": {
        "id": "Wr5C7SlBszdW"
      },
      "execution_count": null,
      "outputs": []
    }
  ]
}