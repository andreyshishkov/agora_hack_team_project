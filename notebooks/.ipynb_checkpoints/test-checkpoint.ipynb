{
<<<<<<< HEAD
 "cells": [
  {
   "cell_type": "code",
   "execution_count": 50,
   "id": "30e6ab97",
   "metadata": {},
   "outputs": [
    {
     "name": "stderr",
     "output_type": "stream",
     "text": [
      "/usr/lib/python3/dist-packages/requests/__init__.py:89: RequestsDependencyWarning: urllib3 (1.26.11) or chardet (3.0.4) doesn't match a supported version!\n",
      "  warnings.warn(\"urllib3 ({}) or chardet ({}) doesn't match a supported \"\n"
     ]
    }
   ],
   "source": [
    "import requests"
   ]
  },
  {
   "cell_type": "code",
   "execution_count": 51,
   "id": "c3411efa",
   "metadata": {},
   "outputs": [],
   "source": [
    "import pandas as pd"
   ]
  },
  {
   "cell_type": "code",
   "execution_count": 53,
   "id": "39cc1ce0",
   "metadata": {},
   "outputs": [],
   "source": [
    "df = pd.read_json('../data/agora_hack_products.json')"
   ]
  },
  {
   "cell_type": "code",
   "execution_count": 54,
   "id": "0599915f",
   "metadata": {},
   "outputs": [
    {
     "data": {
      "text/html": [
       "<div>\n",
       "<style scoped>\n",
       "    .dataframe tbody tr th:only-of-type {\n",
       "        vertical-align: middle;\n",
       "    }\n",
       "\n",
       "    .dataframe tbody tr th {\n",
       "        vertical-align: top;\n",
       "    }\n",
       "\n",
       "    .dataframe thead th {\n",
       "        text-align: right;\n",
       "    }\n",
       "</style>\n",
       "<table border=\"1\" class=\"dataframe\">\n",
       "  <thead>\n",
       "    <tr style=\"text-align: right;\">\n",
       "      <th></th>\n",
       "      <th>product_id</th>\n",
       "      <th>name</th>\n",
       "      <th>props</th>\n",
       "      <th>is_reference</th>\n",
       "      <th>reference_id</th>\n",
       "    </tr>\n",
       "  </thead>\n",
       "  <tbody>\n",
       "    <tr>\n",
       "      <th>0</th>\n",
       "      <td>0007302f2fe1d54d</td>\n",
       "      <td>Классическая сплит-система ROYAL CLIMA PANDORA...</td>\n",
       "      <td>[Класс  энергоэффективности\\tA, Мощность  конд...</td>\n",
       "      <td>False</td>\n",
       "      <td>f497219eb0077f84</td>\n",
       "    </tr>\n",
       "    <tr>\n",
       "      <th>1</th>\n",
       "      <td>000740b6c1cc763e</td>\n",
       "      <td>Смартфон Xiaomi Redmi Note 10S NFC 6/128 ГБ RU...</td>\n",
       "      <td>[Экран\\t6.43\" (2400x1080) AMOLED 60 Гц, 4 каме...</td>\n",
       "      <td>True</td>\n",
       "      <td>None</td>\n",
       "    </tr>\n",
       "    <tr>\n",
       "      <th>2</th>\n",
       "      <td>0039af5efceac4ab</td>\n",
       "      <td>Холодильник Бирюса 118</td>\n",
       "      <td>[Мощность  замораживания  4 кг/сутки]</td>\n",
       "      <td>False</td>\n",
       "      <td>28085e941cde1639</td>\n",
       "    </tr>\n",
       "    <tr>\n",
       "      <th>3</th>\n",
       "      <td>004f2158acb8165c</td>\n",
       "      <td>ASUS TUF-GTX1660S-O6G-GAMING Видеокарта</td>\n",
       "      <td>[Объем  видеопамяти\\t6144 МБ, Частота  памяти\\...</td>\n",
       "      <td>False</td>\n",
       "      <td>9afe55bb4bf1e8a8</td>\n",
       "    </tr>\n",
       "    <tr>\n",
       "      <th>4</th>\n",
       "      <td>005cddb29e1677ec</td>\n",
       "      <td>Кофемашина Saeco Lirika One Touch Cappuccino, ...</td>\n",
       "      <td>[Приготовление  капучино\\tавтоматическое, Мате...</td>\n",
       "      <td>False</td>\n",
       "      <td>1f21918ceb5d345c</td>\n",
       "    </tr>\n",
       "  </tbody>\n",
       "</table>\n",
       "</div>"
      ],
      "text/plain": [
       "         product_id                                               name  \\\n",
       "0  0007302f2fe1d54d  Классическая сплит-система ROYAL CLIMA PANDORA...   \n",
       "1  000740b6c1cc763e  Смартфон Xiaomi Redmi Note 10S NFC 6/128 ГБ RU...   \n",
       "2  0039af5efceac4ab                             Холодильник Бирюса 118   \n",
       "3  004f2158acb8165c            ASUS TUF-GTX1660S-O6G-GAMING Видеокарта   \n",
       "4  005cddb29e1677ec  Кофемашина Saeco Lirika One Touch Cappuccino, ...   \n",
       "\n",
       "                                               props  is_reference  \\\n",
       "0  [Класс  энергоэффективности\\tA, Мощность  конд...         False   \n",
       "1  [Экран\\t6.43\" (2400x1080) AMOLED 60 Гц, 4 каме...          True   \n",
       "2              [Мощность  замораживания  4 кг/сутки]         False   \n",
       "3  [Объем  видеопамяти\\t6144 МБ, Частота  памяти\\...         False   \n",
       "4  [Приготовление  капучино\\tавтоматическое, Мате...         False   \n",
       "\n",
       "       reference_id  \n",
       "0  f497219eb0077f84  \n",
       "1              None  \n",
       "2  28085e941cde1639  \n",
       "3  9afe55bb4bf1e8a8  \n",
       "4  1f21918ceb5d345c  "
      ]
     },
     "execution_count": 54,
     "metadata": {},
     "output_type": "execute_result"
    }
   ],
   "source": [
    "df.head()"
   ]
  },
  {
   "cell_type": "code",
   "execution_count": null,
   "id": "2ae06627",
   "metadata": {},
   "outputs": [],
   "source": []
  }
 ],
 "metadata": {
  "kernelspec": {
   "display_name": "Python 3 (ipykernel)",
   "language": "python",
   "name": "python3"
  },
  "language_info": {
   "codemirror_mode": {
    "name": "ipython",
    "version": 3
   },
   "file_extension": ".py",
   "mimetype": "text/x-python",
   "name": "python",
   "nbconvert_exporter": "python",
   "pygments_lexer": "ipython3",
   "version": "3.8.10"
  }
 },
=======
 "cells": [],
 "metadata": {},
>>>>>>> main
 "nbformat": 4,
 "nbformat_minor": 5
}
