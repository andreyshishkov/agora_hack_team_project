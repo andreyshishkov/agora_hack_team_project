{
 "cells": [
  {
   "cell_type": "code",
   "execution_count": 50,
   "id": "4f675b4e",
   "metadata": {},
   "outputs": [
    {
     "name": "stderr",
     "output_type": "stream",
     "text": [
      "/usr/lib/python3/dist-packages/requests/__init__.py:89: RequestsDependencyWarning: urllib3 (1.26.11) or chardet (3.0.4) doesn't match a supported version!\n",
      "  warnings.warn(\"urllib3 ({}) or chardet ({}) doesn't match a supported \"\n"
     ]
    }
   ],
   "source": [
    "import requests"
   ]
  },
  {
   "cell_type": "code",
   "execution_count": 51,
   "id": "a6c5863a",
   "metadata": {},
   "outputs": [],
   "source": [
    "import pandas as pd"
   ]
  },
  {
   "cell_type": "code",
   "execution_count": 53,
   "id": "23d807a4",
   "metadata": {},
   "outputs": [],
   "source": [
    "df = pd.read_json('../data/agora_hack_products.json')"
   ]
  },
  {
   "cell_type": "code",
   "execution_count": 54,
   "id": "f5c46ae2",
   "metadata": {},
   "outputs": [
    {
     "data": {
      "text/html": [
       "<div>\n",
       "<style scoped>\n",
       "    .dataframe tbody tr th:only-of-type {\n",
       "        vertical-align: middle;\n",
       "    }\n",
       "\n",
       "    .dataframe tbody tr th {\n",
       "        vertical-align: top;\n",
       "    }\n",
       "\n",
       "    .dataframe thead th {\n",
       "        text-align: right;\n",
       "    }\n",
       "</style>\n",
       "<table border=\"1\" class=\"dataframe\">\n",
       "  <thead>\n",
       "    <tr style=\"text-align: right;\">\n",
       "      <th></th>\n",
       "      <th>product_id</th>\n",
       "      <th>name</th>\n",
       "      <th>props</th>\n",
       "      <th>is_reference</th>\n",
       "      <th>reference_id</th>\n",
       "    </tr>\n",
       "  </thead>\n",
       "  <tbody>\n",
       "    <tr>\n",
       "      <th>0</th>\n",
       "      <td>0007302f2fe1d54d</td>\n",
       "      <td>Классическая сплит-система ROYAL CLIMA PANDORA...</td>\n",
       "      <td>[Класс  энергоэффективности\\tA, Мощность  конд...</td>\n",
       "      <td>False</td>\n",
       "      <td>f497219eb0077f84</td>\n",
       "    </tr>\n",
       "    <tr>\n",
       "      <th>1</th>\n",
       "      <td>000740b6c1cc763e</td>\n",
       "      <td>Смартфон Xiaomi Redmi Note 10S NFC 6/128 ГБ RU...</td>\n",
       "      <td>[Экран\\t6.43\" (2400x1080) AMOLED 60 Гц, 4 каме...</td>\n",
       "      <td>True</td>\n",
       "      <td>None</td>\n",
       "    </tr>\n",
       "    <tr>\n",
       "      <th>2</th>\n",
       "      <td>0039af5efceac4ab</td>\n",
       "      <td>Холодильник Бирюса 118</td>\n",
       "      <td>[Мощность  замораживания  4 кг/сутки]</td>\n",
       "      <td>False</td>\n",
       "      <td>28085e941cde1639</td>\n",
       "    </tr>\n",
       "    <tr>\n",
       "      <th>3</th>\n",
       "      <td>004f2158acb8165c</td>\n",
       "      <td>ASUS TUF-GTX1660S-O6G-GAMING Видеокарта</td>\n",
       "      <td>[Объем  видеопамяти\\t6144 МБ, Частота  памяти\\...</td>\n",
       "      <td>False</td>\n",
       "      <td>9afe55bb4bf1e8a8</td>\n",
       "    </tr>\n",
       "    <tr>\n",
       "      <th>4</th>\n",
       "      <td>005cddb29e1677ec</td>\n",
       "      <td>Кофемашина Saeco Lirika One Touch Cappuccino, ...</td>\n",
       "      <td>[Приготовление  капучино\\tавтоматическое, Мате...</td>\n",
       "      <td>False</td>\n",
       "      <td>1f21918ceb5d345c</td>\n",
       "    </tr>\n",
       "  </tbody>\n",
       "</table>\n",
       "</div>"
      ],
      "text/plain": [
       "         product_id                                               name  \\\n",
       "0  0007302f2fe1d54d  Классическая сплит-система ROYAL CLIMA PANDORA...   \n",
       "1  000740b6c1cc763e  Смартфон Xiaomi Redmi Note 10S NFC 6/128 ГБ RU...   \n",
       "2  0039af5efceac4ab                             Холодильник Бирюса 118   \n",
       "3  004f2158acb8165c            ASUS TUF-GTX1660S-O6G-GAMING Видеокарта   \n",
       "4  005cddb29e1677ec  Кофемашина Saeco Lirika One Touch Cappuccino, ...   \n",
       "\n",
       "                                               props  is_reference  \\\n",
       "0  [Класс  энергоэффективности\\tA, Мощность  конд...         False   \n",
       "1  [Экран\\t6.43\" (2400x1080) AMOLED 60 Гц, 4 каме...          True   \n",
       "2              [Мощность  замораживания  4 кг/сутки]         False   \n",
       "3  [Объем  видеопамяти\\t6144 МБ, Частота  памяти\\...         False   \n",
       "4  [Приготовление  капучино\\tавтоматическое, Мате...         False   \n",
       "\n",
       "       reference_id  \n",
       "0  f497219eb0077f84  \n",
       "1              None  \n",
       "2  28085e941cde1639  \n",
       "3  9afe55bb4bf1e8a8  \n",
       "4  1f21918ceb5d345c  "
      ]
     },
     "execution_count": 54,
     "metadata": {},
     "output_type": "execute_result"
    }
   ],
   "source": [
    "df.head()"
   ]
  },
  {
   "cell_type": "code",
   "execution_count": 87,
   "id": "0d3b1179",
   "metadata": {},
   "outputs": [
    {
     "name": "stdout",
     "output_type": "stream",
     "text": [
      "<class 'pandas.core.frame.DataFrame'>\n",
      "RangeIndex: 3251 entries, 0 to 3250\n",
      "Data columns (total 5 columns):\n",
      " #   Column        Non-Null Count  Dtype \n",
      "---  ------        --------------  ----- \n",
      " 0   product_id    3251 non-null   object\n",
      " 1   name          3251 non-null   object\n",
      " 2   props         3251 non-null   object\n",
      " 3   is_reference  3251 non-null   bool  \n",
      " 4   reference_id  2780 non-null   object\n",
      "dtypes: bool(1), object(4)\n",
      "memory usage: 104.9+ KB\n"
     ]
    }
   ],
   "source": [
    "df.info()"
   ]
  },
  {
   "cell_type": "code",
   "execution_count": 64,
   "id": "b9ecae5d",
   "metadata": {},
   "outputs": [
    {
     "data": {
      "text/plain": [
       "['Класс  энергоэффективности\\tA',\n",
       " 'Мощность  кондиционера\\t9 BTU',\n",
       " 'Уровень  шума внутреннего блока\\t21.5 дБ - 38 дБ',\n",
       " 'Режим   работы\\tохлаждение / обогрев',\n",
       " 'Фильтр тонкой очистки\\tесть',\n",
       " 'Доп.   режимы турбо, экорежим, осушение, ночной, вентиляция']"
      ]
     },
     "execution_count": 64,
     "metadata": {},
     "output_type": "execute_result"
    }
   ],
   "source": [
    "df['props'][0]"
   ]
  },
  {
   "cell_type": "code",
   "execution_count": 55,
   "id": "20995bb9",
   "metadata": {},
   "outputs": [],
   "source": [
    "df_test = df.loc[:200]"
   ]
  },
  {
   "cell_type": "code",
   "execution_count": 56,
   "id": "cab1449e",
   "metadata": {},
   "outputs": [],
   "source": [
    "df_test = df_test.rename(columns={'product_id': 'id'}).drop(columns=['is_reference', 'reference_id'])"
   ]
  },
  {
   "cell_type": "code",
   "execution_count": 65,
   "id": "df9e3898",
   "metadata": {},
   "outputs": [],
   "source": [
    "request = [{'id': '0007302f2fe1d54d',\n",
    " 'name': 'Классическая сплит-система ROYAL CLIMA PANDORA RC-PD28HN, для комнат до 28 кв.метра, настенный кондиционер для дома/офиса, комплект',\n",
    " 'props': ['Класс  энергоэффективности\\tA',\n",
    "             'Мощность  кондиционера\\t9 BTU',\n",
    "             'Уровень  шума внутреннего блока\\t21.5 дБ - 38 дБ',\n",
    "             'Режим   работы\\tохлаждение / обогрев',\n",
    "             'Фильтр тонкой очистки\\tесть',\n",
    "             'Доп.   режимы турбо, экорежим, осушение, ночной, вентиляция']\n",
    " }]"
   ]
  },
  {
   "cell_type": "code",
   "execution_count": 72,
   "id": "fc1852d5",
   "metadata": {},
   "outputs": [],
   "source": [
    "req = {'items': request}"
   ]
  },
  {
   "cell_type": "code",
   "execution_count": 73,
   "id": "6fe3cda9",
   "metadata": {},
   "outputs": [
    {
     "data": {
      "text/plain": [
       "'{\"items\": [{\"id\": \"0007302f2fe1d54d\", \"name\": \"\\\\u041a\\\\u043b\\\\u0430\\\\u0441\\\\u0441\\\\u0438\\\\u0447\\\\u0435\\\\u0441\\\\u043a\\\\u0430\\\\u044f \\\\u0441\\\\u043f\\\\u043b\\\\u0438\\\\u0442-\\\\u0441\\\\u0438\\\\u0441\\\\u0442\\\\u0435\\\\u043c\\\\u0430 ROYAL CLIMA PANDORA RC-PD28HN, \\\\u0434\\\\u043b\\\\u044f \\\\u043a\\\\u043e\\\\u043c\\\\u043d\\\\u0430\\\\u0442 \\\\u0434\\\\u043e 28 \\\\u043a\\\\u0432.\\\\u043c\\\\u0435\\\\u0442\\\\u0440\\\\u0430, \\\\u043d\\\\u0430\\\\u0441\\\\u0442\\\\u0435\\\\u043d\\\\u043d\\\\u044b\\\\u0439 \\\\u043a\\\\u043e\\\\u043d\\\\u0434\\\\u0438\\\\u0446\\\\u0438\\\\u043e\\\\u043d\\\\u0435\\\\u0440 \\\\u0434\\\\u043b\\\\u044f \\\\u0434\\\\u043e\\\\u043c\\\\u0430/\\\\u043e\\\\u0444\\\\u0438\\\\u0441\\\\u0430, \\\\u043a\\\\u043e\\\\u043c\\\\u043f\\\\u043b\\\\u0435\\\\u043a\\\\u0442\", \"props\": [\"\\\\u041a\\\\u043b\\\\u0430\\\\u0441\\\\u0441  \\\\u044d\\\\u043d\\\\u0435\\\\u0440\\\\u0433\\\\u043e\\\\u044d\\\\u0444\\\\u0444\\\\u0435\\\\u043a\\\\u0442\\\\u0438\\\\u0432\\\\u043d\\\\u043e\\\\u0441\\\\u0442\\\\u0438\\\\tA\", \"\\\\u041c\\\\u043e\\\\u0449\\\\u043d\\\\u043e\\\\u0441\\\\u0442\\\\u044c  \\\\u043a\\\\u043e\\\\u043d\\\\u0434\\\\u0438\\\\u0446\\\\u0438\\\\u043e\\\\u043d\\\\u0435\\\\u0440\\\\u0430\\\\t9 BTU\", \"\\\\u0423\\\\u0440\\\\u043e\\\\u0432\\\\u0435\\\\u043d\\\\u044c  \\\\u0448\\\\u0443\\\\u043c\\\\u0430 \\\\u0432\\\\u043d\\\\u0443\\\\u0442\\\\u0440\\\\u0435\\\\u043d\\\\u043d\\\\u0435\\\\u0433\\\\u043e \\\\u0431\\\\u043b\\\\u043e\\\\u043a\\\\u0430\\\\t21.5 \\\\u0434\\\\u0411 - 38 \\\\u0434\\\\u0411\", \"\\\\u0420\\\\u0435\\\\u0436\\\\u0438\\\\u043c   \\\\u0440\\\\u0430\\\\u0431\\\\u043e\\\\u0442\\\\u044b\\\\t\\\\u043e\\\\u0445\\\\u043b\\\\u0430\\\\u0436\\\\u0434\\\\u0435\\\\u043d\\\\u0438\\\\u0435 / \\\\u043e\\\\u0431\\\\u043e\\\\u0433\\\\u0440\\\\u0435\\\\u0432\", \"\\\\u0424\\\\u0438\\\\u043b\\\\u044c\\\\u0442\\\\u0440 \\\\u0442\\\\u043e\\\\u043d\\\\u043a\\\\u043e\\\\u0439 \\\\u043e\\\\u0447\\\\u0438\\\\u0441\\\\u0442\\\\u043a\\\\u0438\\\\t\\\\u0435\\\\u0441\\\\u0442\\\\u044c\", \"\\\\u0414\\\\u043e\\\\u043f.   \\\\u0440\\\\u0435\\\\u0436\\\\u0438\\\\u043c\\\\u044b \\\\u0442\\\\u0443\\\\u0440\\\\u0431\\\\u043e, \\\\u044d\\\\u043a\\\\u043e\\\\u0440\\\\u0435\\\\u0436\\\\u0438\\\\u043c, \\\\u043e\\\\u0441\\\\u0443\\\\u0448\\\\u0435\\\\u043d\\\\u0438\\\\u0435, \\\\u043d\\\\u043e\\\\u0447\\\\u043d\\\\u043e\\\\u0439, \\\\u0432\\\\u0435\\\\u043d\\\\u0442\\\\u0438\\\\u043b\\\\u044f\\\\u0446\\\\u0438\\\\u044f\"]}]}'"
      ]
     },
     "execution_count": 73,
     "metadata": {},
     "output_type": "execute_result"
    }
   ],
   "source": [
    "json.dumps(req)"
   ]
  },
  {
   "cell_type": "code",
   "execution_count": 66,
   "id": "00f267d2",
   "metadata": {},
   "outputs": [],
   "source": [
    "import json"
   ]
  },
  {
   "cell_type": "code",
   "execution_count": 92,
   "id": "d56599bd",
   "metadata": {},
   "outputs": [],
   "source": [
    "response = requests.post('http://127.0.0.1:8000/get_results',\n",
    "                       data=json.dumps(req))"
   ]
  },
  {
   "cell_type": "code",
   "execution_count": 93,
   "id": "81195e06",
   "metadata": {},
   "outputs": [
    {
     "data": {
      "text/plain": [
       "200"
      ]
     },
     "execution_count": 93,
     "metadata": {},
     "output_type": "execute_result"
    }
   ],
   "source": [
    "response.status_code"
   ]
  },
  {
   "cell_type": "code",
   "execution_count": 94,
   "id": "12a089e9",
   "metadata": {},
   "outputs": [
    {
     "data": {
      "text/plain": [
       "b'{\"items\":[{\"id\":\"0007302f2fe1d54d\",\"reference_id\":\"f497219eb0077f84\"}]}'"
      ]
     },
     "execution_count": 94,
     "metadata": {},
     "output_type": "execute_result"
    }
   ],
   "source": [
    "response.content"
   ]
  },
  {
   "cell_type": "code",
   "execution_count": 76,
   "id": "f5653de8",
   "metadata": {},
   "outputs": [],
   "source": [
    "import pickle"
   ]
  },
  {
   "cell_type": "code",
   "execution_count": null,
   "id": "67c8e2a3",
   "metadata": {},
   "outputs": [],
   "source": [
    "with open('')"
   ]
  }
 ],
 "metadata": {
  "kernelspec": {
   "display_name": "Python 3 (ipykernel)",
   "language": "python",
   "name": "python3"
  },
  "language_info": {
   "codemirror_mode": {
    "name": "ipython",
    "version": 3
   },
   "file_extension": ".py",
   "mimetype": "text/x-python",
   "name": "python",
   "nbconvert_exporter": "python",
   "pygments_lexer": "ipython3",
   "version": "3.8.10"
  }
 },
 "nbformat": 4,
 "nbformat_minor": 5
}
