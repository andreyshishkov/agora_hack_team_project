{
 "cells": [
  {
   "cell_type": "code",
<<<<<<< HEAD
   "execution_count": 50,
   "id": "77d09641",
   "metadata": {},
   "outputs": [
    {
     "name": "stderr",
     "output_type": "stream",
     "text": [
      "/usr/lib/python3/dist-packages/requests/__init__.py:89: RequestsDependencyWarning: urllib3 (1.26.11) or chardet (3.0.4) doesn't match a supported version!\n",
      "  warnings.warn(\"urllib3 ({}) or chardet ({}) doesn't match a supported \"\n"
     ]
    }
   ],
   "source": [
    "import requests"
=======
   "execution_count": 1,
   "id": "81baadad",
   "metadata": {},
   "outputs": [],
   "source": [
    "import pandas as pd"
>>>>>>> main
   ]
  },
  {
   "cell_type": "code",
<<<<<<< HEAD
   "execution_count": 51,
   "id": "95c1b16d",
   "metadata": {},
   "outputs": [],
   "source": [
    "import pandas as pd"
=======
   "execution_count": 25,
   "id": "b7fce226",
   "metadata": {},
   "outputs": [],
   "source": [
    "import json"
>>>>>>> main
   ]
  },
  {
   "cell_type": "code",
<<<<<<< HEAD
   "execution_count": 53,
   "id": "a2f4f764",
   "metadata": {},
   "outputs": [],
   "source": [
    "df = pd.read_json('../data/agora_hack_products.json')"
=======
   "execution_count": 6,
   "id": "81ee1d8b",
   "metadata": {},
   "outputs": [],
   "source": [
    "! cd ../"
>>>>>>> main
   ]
  },
  {
   "cell_type": "code",
<<<<<<< HEAD
   "execution_count": 54,
   "id": "9bb60a15",
=======
   "execution_count": null,
   "id": "e9dd5216",
   "metadata": {},
   "outputs": [],
   "source": [
    "http://localhost:8888/edit/github/agorahack-case1-team0/data/test_request.json"
   ]
  },
  {
   "cell_type": "code",
   "execution_count": 24,
   "id": "7ac02a83",
   "metadata": {},
   "outputs": [
    {
     "ename": "ValueError",
     "evalue": "Expected object or value",
     "output_type": "error",
     "traceback": [
      "\u001b[0;31m---------------------------------------------------------------------------\u001b[0m",
      "\u001b[0;31mValueError\u001b[0m                                Traceback (most recent call last)",
      "\u001b[0;32m/tmp/ipykernel_42105/2579539072.py\u001b[0m in \u001b[0;36m<module>\u001b[0;34m\u001b[0m\n\u001b[0;32m----> 1\u001b[0;31m \u001b[0mdata\u001b[0m \u001b[0;34m=\u001b[0m \u001b[0mpd\u001b[0m\u001b[0;34m.\u001b[0m\u001b[0mread_json\u001b[0m\u001b[0;34m(\u001b[0m\u001b[0;34m'/home/andrey/github/agorahack-case1-team0/data/test_request_1.json'\u001b[0m\u001b[0;34m)\u001b[0m\u001b[0;34m\u001b[0m\u001b[0;34m\u001b[0m\u001b[0m\n\u001b[0m",
      "\u001b[0;32m/usr/local/lib/python3.8/dist-packages/pandas/util/_decorators.py\u001b[0m in \u001b[0;36mwrapper\u001b[0;34m(*args, **kwargs)\u001b[0m\n\u001b[1;32m    205\u001b[0m                 \u001b[0;32melse\u001b[0m\u001b[0;34m:\u001b[0m\u001b[0;34m\u001b[0m\u001b[0;34m\u001b[0m\u001b[0m\n\u001b[1;32m    206\u001b[0m                     \u001b[0mkwargs\u001b[0m\u001b[0;34m[\u001b[0m\u001b[0mnew_arg_name\u001b[0m\u001b[0;34m]\u001b[0m \u001b[0;34m=\u001b[0m \u001b[0mnew_arg_value\u001b[0m\u001b[0;34m\u001b[0m\u001b[0;34m\u001b[0m\u001b[0m\n\u001b[0;32m--> 207\u001b[0;31m             \u001b[0;32mreturn\u001b[0m \u001b[0mfunc\u001b[0m\u001b[0;34m(\u001b[0m\u001b[0;34m*\u001b[0m\u001b[0margs\u001b[0m\u001b[0;34m,\u001b[0m \u001b[0;34m**\u001b[0m\u001b[0mkwargs\u001b[0m\u001b[0;34m)\u001b[0m\u001b[0;34m\u001b[0m\u001b[0;34m\u001b[0m\u001b[0m\n\u001b[0m\u001b[1;32m    208\u001b[0m \u001b[0;34m\u001b[0m\u001b[0m\n\u001b[1;32m    209\u001b[0m         \u001b[0;32mreturn\u001b[0m \u001b[0mcast\u001b[0m\u001b[0;34m(\u001b[0m\u001b[0mF\u001b[0m\u001b[0;34m,\u001b[0m \u001b[0mwrapper\u001b[0m\u001b[0;34m)\u001b[0m\u001b[0;34m\u001b[0m\u001b[0;34m\u001b[0m\u001b[0m\n",
      "\u001b[0;32m/usr/local/lib/python3.8/dist-packages/pandas/util/_decorators.py\u001b[0m in \u001b[0;36mwrapper\u001b[0;34m(*args, **kwargs)\u001b[0m\n\u001b[1;32m    309\u001b[0m                     \u001b[0mstacklevel\u001b[0m\u001b[0;34m=\u001b[0m\u001b[0mstacklevel\u001b[0m\u001b[0;34m,\u001b[0m\u001b[0;34m\u001b[0m\u001b[0;34m\u001b[0m\u001b[0m\n\u001b[1;32m    310\u001b[0m                 )\n\u001b[0;32m--> 311\u001b[0;31m             \u001b[0;32mreturn\u001b[0m \u001b[0mfunc\u001b[0m\u001b[0;34m(\u001b[0m\u001b[0;34m*\u001b[0m\u001b[0margs\u001b[0m\u001b[0;34m,\u001b[0m \u001b[0;34m**\u001b[0m\u001b[0mkwargs\u001b[0m\u001b[0;34m)\u001b[0m\u001b[0;34m\u001b[0m\u001b[0;34m\u001b[0m\u001b[0m\n\u001b[0m\u001b[1;32m    312\u001b[0m \u001b[0;34m\u001b[0m\u001b[0m\n\u001b[1;32m    313\u001b[0m         \u001b[0;32mreturn\u001b[0m \u001b[0mwrapper\u001b[0m\u001b[0;34m\u001b[0m\u001b[0;34m\u001b[0m\u001b[0m\n",
      "\u001b[0;32m/usr/local/lib/python3.8/dist-packages/pandas/io/json/_json.py\u001b[0m in \u001b[0;36mread_json\u001b[0;34m(path_or_buf, orient, typ, dtype, convert_axes, convert_dates, keep_default_dates, numpy, precise_float, date_unit, encoding, encoding_errors, lines, chunksize, compression, nrows, storage_options)\u001b[0m\n\u001b[1;32m    612\u001b[0m \u001b[0;34m\u001b[0m\u001b[0m\n\u001b[1;32m    613\u001b[0m     \u001b[0;32mwith\u001b[0m \u001b[0mjson_reader\u001b[0m\u001b[0;34m:\u001b[0m\u001b[0;34m\u001b[0m\u001b[0;34m\u001b[0m\u001b[0m\n\u001b[0;32m--> 614\u001b[0;31m         \u001b[0;32mreturn\u001b[0m \u001b[0mjson_reader\u001b[0m\u001b[0;34m.\u001b[0m\u001b[0mread\u001b[0m\u001b[0;34m(\u001b[0m\u001b[0;34m)\u001b[0m\u001b[0;34m\u001b[0m\u001b[0;34m\u001b[0m\u001b[0m\n\u001b[0m\u001b[1;32m    615\u001b[0m \u001b[0;34m\u001b[0m\u001b[0m\n\u001b[1;32m    616\u001b[0m \u001b[0;34m\u001b[0m\u001b[0m\n",
      "\u001b[0;32m/usr/local/lib/python3.8/dist-packages/pandas/io/json/_json.py\u001b[0m in \u001b[0;36mread\u001b[0;34m(self)\u001b[0m\n\u001b[1;32m    746\u001b[0m                 \u001b[0mobj\u001b[0m \u001b[0;34m=\u001b[0m \u001b[0mself\u001b[0m\u001b[0;34m.\u001b[0m\u001b[0m_get_object_parser\u001b[0m\u001b[0;34m(\u001b[0m\u001b[0mself\u001b[0m\u001b[0;34m.\u001b[0m\u001b[0m_combine_lines\u001b[0m\u001b[0;34m(\u001b[0m\u001b[0mdata_lines\u001b[0m\u001b[0;34m)\u001b[0m\u001b[0;34m)\u001b[0m\u001b[0;34m\u001b[0m\u001b[0;34m\u001b[0m\u001b[0m\n\u001b[1;32m    747\u001b[0m         \u001b[0;32melse\u001b[0m\u001b[0;34m:\u001b[0m\u001b[0;34m\u001b[0m\u001b[0;34m\u001b[0m\u001b[0m\n\u001b[0;32m--> 748\u001b[0;31m             \u001b[0mobj\u001b[0m \u001b[0;34m=\u001b[0m \u001b[0mself\u001b[0m\u001b[0;34m.\u001b[0m\u001b[0m_get_object_parser\u001b[0m\u001b[0;34m(\u001b[0m\u001b[0mself\u001b[0m\u001b[0;34m.\u001b[0m\u001b[0mdata\u001b[0m\u001b[0;34m)\u001b[0m\u001b[0;34m\u001b[0m\u001b[0;34m\u001b[0m\u001b[0m\n\u001b[0m\u001b[1;32m    749\u001b[0m         \u001b[0mself\u001b[0m\u001b[0;34m.\u001b[0m\u001b[0mclose\u001b[0m\u001b[0;34m(\u001b[0m\u001b[0;34m)\u001b[0m\u001b[0;34m\u001b[0m\u001b[0;34m\u001b[0m\u001b[0m\n\u001b[1;32m    750\u001b[0m         \u001b[0;32mreturn\u001b[0m \u001b[0mobj\u001b[0m\u001b[0;34m\u001b[0m\u001b[0;34m\u001b[0m\u001b[0m\n",
      "\u001b[0;32m/usr/local/lib/python3.8/dist-packages/pandas/io/json/_json.py\u001b[0m in \u001b[0;36m_get_object_parser\u001b[0;34m(self, json)\u001b[0m\n\u001b[1;32m    768\u001b[0m         \u001b[0mobj\u001b[0m \u001b[0;34m=\u001b[0m \u001b[0;32mNone\u001b[0m\u001b[0;34m\u001b[0m\u001b[0;34m\u001b[0m\u001b[0m\n\u001b[1;32m    769\u001b[0m         \u001b[0;32mif\u001b[0m \u001b[0mtyp\u001b[0m \u001b[0;34m==\u001b[0m \u001b[0;34m\"frame\"\u001b[0m\u001b[0;34m:\u001b[0m\u001b[0;34m\u001b[0m\u001b[0;34m\u001b[0m\u001b[0m\n\u001b[0;32m--> 770\u001b[0;31m             \u001b[0mobj\u001b[0m \u001b[0;34m=\u001b[0m \u001b[0mFrameParser\u001b[0m\u001b[0;34m(\u001b[0m\u001b[0mjson\u001b[0m\u001b[0;34m,\u001b[0m \u001b[0;34m**\u001b[0m\u001b[0mkwargs\u001b[0m\u001b[0;34m)\u001b[0m\u001b[0;34m.\u001b[0m\u001b[0mparse\u001b[0m\u001b[0;34m(\u001b[0m\u001b[0;34m)\u001b[0m\u001b[0;34m\u001b[0m\u001b[0;34m\u001b[0m\u001b[0m\n\u001b[0m\u001b[1;32m    771\u001b[0m \u001b[0;34m\u001b[0m\u001b[0m\n\u001b[1;32m    772\u001b[0m         \u001b[0;32mif\u001b[0m \u001b[0mtyp\u001b[0m \u001b[0;34m==\u001b[0m \u001b[0;34m\"series\"\u001b[0m \u001b[0;32mor\u001b[0m \u001b[0mobj\u001b[0m \u001b[0;32mis\u001b[0m \u001b[0;32mNone\u001b[0m\u001b[0;34m:\u001b[0m\u001b[0;34m\u001b[0m\u001b[0;34m\u001b[0m\u001b[0m\n",
      "\u001b[0;32m/usr/local/lib/python3.8/dist-packages/pandas/io/json/_json.py\u001b[0m in \u001b[0;36mparse\u001b[0;34m(self)\u001b[0m\n\u001b[1;32m    883\u001b[0m \u001b[0;34m\u001b[0m\u001b[0m\n\u001b[1;32m    884\u001b[0m         \u001b[0;32melse\u001b[0m\u001b[0;34m:\u001b[0m\u001b[0;34m\u001b[0m\u001b[0;34m\u001b[0m\u001b[0m\n\u001b[0;32m--> 885\u001b[0;31m             \u001b[0mself\u001b[0m\u001b[0;34m.\u001b[0m\u001b[0m_parse_no_numpy\u001b[0m\u001b[0;34m(\u001b[0m\u001b[0;34m)\u001b[0m\u001b[0;34m\u001b[0m\u001b[0;34m\u001b[0m\u001b[0m\n\u001b[0m\u001b[1;32m    886\u001b[0m \u001b[0;34m\u001b[0m\u001b[0m\n\u001b[1;32m    887\u001b[0m         \u001b[0;32mif\u001b[0m \u001b[0mself\u001b[0m\u001b[0;34m.\u001b[0m\u001b[0mobj\u001b[0m \u001b[0;32mis\u001b[0m \u001b[0;32mNone\u001b[0m\u001b[0;34m:\u001b[0m\u001b[0;34m\u001b[0m\u001b[0;34m\u001b[0m\u001b[0m\n",
      "\u001b[0;32m/usr/local/lib/python3.8/dist-packages/pandas/io/json/_json.py\u001b[0m in \u001b[0;36m_parse_no_numpy\u001b[0;34m(self)\u001b[0m\n\u001b[1;32m   1138\u001b[0m         \u001b[0;32mif\u001b[0m \u001b[0morient\u001b[0m \u001b[0;34m==\u001b[0m \u001b[0;34m\"columns\"\u001b[0m\u001b[0;34m:\u001b[0m\u001b[0;34m\u001b[0m\u001b[0;34m\u001b[0m\u001b[0m\n\u001b[1;32m   1139\u001b[0m             self.obj = DataFrame(\n\u001b[0;32m-> 1140\u001b[0;31m                 \u001b[0mloads\u001b[0m\u001b[0;34m(\u001b[0m\u001b[0mjson\u001b[0m\u001b[0;34m,\u001b[0m \u001b[0mprecise_float\u001b[0m\u001b[0;34m=\u001b[0m\u001b[0mself\u001b[0m\u001b[0;34m.\u001b[0m\u001b[0mprecise_float\u001b[0m\u001b[0;34m)\u001b[0m\u001b[0;34m,\u001b[0m \u001b[0mdtype\u001b[0m\u001b[0;34m=\u001b[0m\u001b[0;32mNone\u001b[0m\u001b[0;34m\u001b[0m\u001b[0;34m\u001b[0m\u001b[0m\n\u001b[0m\u001b[1;32m   1141\u001b[0m             )\n\u001b[1;32m   1142\u001b[0m         \u001b[0;32melif\u001b[0m \u001b[0morient\u001b[0m \u001b[0;34m==\u001b[0m \u001b[0;34m\"split\"\u001b[0m\u001b[0;34m:\u001b[0m\u001b[0;34m\u001b[0m\u001b[0;34m\u001b[0m\u001b[0m\n",
      "\u001b[0;31mValueError\u001b[0m: Expected object or value"
     ]
    }
   ],
   "source": [
    "data = pd.read_json('/home/andrey/github/agorahack-case1-team0/data/test_request_1.json')"
   ]
  },
  {
   "cell_type": "code",
   "execution_count": 27,
   "id": "14f7efdb",
   "metadata": {},
   "outputs": [
    {
     "ename": "FileNotFoundError",
     "evalue": "[Errno 2] No such file or directory: '/home/andrey/github/agorahack-case1-team0/data/test_request_1.json'",
     "output_type": "error",
     "traceback": [
      "\u001b[0;31m---------------------------------------------------------------------------\u001b[0m",
      "\u001b[0;31mFileNotFoundError\u001b[0m                         Traceback (most recent call last)",
      "\u001b[0;32m/tmp/ipykernel_42105/2334449464.py\u001b[0m in \u001b[0;36m<module>\u001b[0;34m\u001b[0m\n\u001b[0;32m----> 1\u001b[0;31m \u001b[0;32mwith\u001b[0m \u001b[0mopen\u001b[0m\u001b[0;34m(\u001b[0m\u001b[0;34m'/home/andrey/github/agorahack-case1-team0/data/test_request_1.json'\u001b[0m\u001b[0;34m,\u001b[0m \u001b[0;34m'r'\u001b[0m\u001b[0;34m)\u001b[0m \u001b[0;32mas\u001b[0m \u001b[0mfile\u001b[0m\u001b[0;34m:\u001b[0m\u001b[0;34m\u001b[0m\u001b[0;34m\u001b[0m\u001b[0m\n\u001b[0m\u001b[1;32m      2\u001b[0m     \u001b[0ms\u001b[0m \u001b[0;34m=\u001b[0m \u001b[0mjson\u001b[0m\u001b[0;34m.\u001b[0m\u001b[0mload\u001b[0m\u001b[0;34m(\u001b[0m\u001b[0mfile\u001b[0m\u001b[0;34m)\u001b[0m\u001b[0;34m\u001b[0m\u001b[0;34m\u001b[0m\u001b[0m\n",
      "\u001b[0;31mFileNotFoundError\u001b[0m: [Errno 2] No such file or directory: '/home/andrey/github/agorahack-case1-team0/data/test_request_1.json'"
     ]
    }
   ],
   "source": [
    "with open('/home/andrey/github/agorahack-case1-team0/data/test_request_1.json', 'r') as file:\n",
    "    s = json.load(file)"
   ]
  },
  {
   "cell_type": "code",
   "execution_count": 29,
   "id": "45883606",
>>>>>>> main
   "metadata": {},
   "outputs": [
    {
     "data": {
      "text/html": [
       "<div>\n",
       "<style scoped>\n",
       "    .dataframe tbody tr th:only-of-type {\n",
       "        vertical-align: middle;\n",
       "    }\n",
       "\n",
       "    .dataframe tbody tr th {\n",
       "        vertical-align: top;\n",
       "    }\n",
       "\n",
       "    .dataframe thead th {\n",
       "        text-align: right;\n",
       "    }\n",
       "</style>\n",
       "<table border=\"1\" class=\"dataframe\">\n",
       "  <thead>\n",
       "    <tr style=\"text-align: right;\">\n",
       "      <th></th>\n",
<<<<<<< HEAD
       "      <th>product_id</th>\n",
       "      <th>name</th>\n",
       "      <th>props</th>\n",
       "      <th>is_reference</th>\n",
       "      <th>reference_id</th>\n",
=======
       "      <th>0</th>\n",
       "      <th>1</th>\n",
       "      <th>2</th>\n",
>>>>>>> main
       "    </tr>\n",
       "  </thead>\n",
       "  <tbody>\n",
       "    <tr>\n",
       "      <th>0</th>\n",
<<<<<<< HEAD
       "      <td>0007302f2fe1d54d</td>\n",
       "      <td>Классическая сплит-система ROYAL CLIMA PANDORA...</td>\n",
       "      <td>[Класс  энергоэффективности\\tA, Мощность  конд...</td>\n",
       "      <td>False</td>\n",
       "      <td>f497219eb0077f84</td>\n",
       "    </tr>\n",
       "    <tr>\n",
       "      <th>1</th>\n",
       "      <td>000740b6c1cc763e</td>\n",
       "      <td>Смартфон Xiaomi Redmi Note 10S NFC 6/128 ГБ RU...</td>\n",
       "      <td>[Экран\\t6.43\" (2400x1080) AMOLED 60 Гц, 4 каме...</td>\n",
       "      <td>True</td>\n",
       "      <td>None</td>\n",
       "    </tr>\n",
       "    <tr>\n",
       "      <th>2</th>\n",
       "      <td>0039af5efceac4ab</td>\n",
       "      <td>Холодильник Бирюса 118</td>\n",
       "      <td>[Мощность  замораживания  4 кг/сутки]</td>\n",
       "      <td>False</td>\n",
       "      <td>28085e941cde1639</td>\n",
       "    </tr>\n",
       "    <tr>\n",
       "      <th>3</th>\n",
       "      <td>004f2158acb8165c</td>\n",
       "      <td>ASUS TUF-GTX1660S-O6G-GAMING Видеокарта</td>\n",
       "      <td>[Объем  видеопамяти\\t6144 МБ, Частота  памяти\\...</td>\n",
       "      <td>False</td>\n",
       "      <td>9afe55bb4bf1e8a8</td>\n",
       "    </tr>\n",
       "    <tr>\n",
       "      <th>4</th>\n",
       "      <td>005cddb29e1677ec</td>\n",
       "      <td>Кофемашина Saeco Lirika One Touch Cappuccino, ...</td>\n",
       "      <td>[Приготовление  капучино\\tавтоматическое, Мате...</td>\n",
       "      <td>False</td>\n",
       "      <td>1f21918ceb5d345c</td>\n",
=======
       "      <td>1</td>\n",
       "      <td>2</td>\n",
       "      <td>3</td>\n",
       "    </tr>\n",
       "    <tr>\n",
       "      <th>1</th>\n",
       "      <td>3</td>\n",
       "      <td>4</td>\n",
       "      <td>5</td>\n",
>>>>>>> main
       "    </tr>\n",
       "  </tbody>\n",
       "</table>\n",
       "</div>"
      ],
      "text/plain": [
<<<<<<< HEAD
       "         product_id                                               name  \\\n",
       "0  0007302f2fe1d54d  Классическая сплит-система ROYAL CLIMA PANDORA...   \n",
       "1  000740b6c1cc763e  Смартфон Xiaomi Redmi Note 10S NFC 6/128 ГБ RU...   \n",
       "2  0039af5efceac4ab                             Холодильник Бирюса 118   \n",
       "3  004f2158acb8165c            ASUS TUF-GTX1660S-O6G-GAMING Видеокарта   \n",
       "4  005cddb29e1677ec  Кофемашина Saeco Lirika One Touch Cappuccino, ...   \n",
       "\n",
       "                                               props  is_reference  \\\n",
       "0  [Класс  энергоэффективности\\tA, Мощность  конд...         False   \n",
       "1  [Экран\\t6.43\" (2400x1080) AMOLED 60 Гц, 4 каме...          True   \n",
       "2              [Мощность  замораживания  4 кг/сутки]         False   \n",
       "3  [Объем  видеопамяти\\t6144 МБ, Частота  памяти\\...         False   \n",
       "4  [Приготовление  капучино\\tавтоматическое, Мате...         False   \n",
       "\n",
       "       reference_id  \n",
       "0  f497219eb0077f84  \n",
       "1              None  \n",
       "2  28085e941cde1639  \n",
       "3  9afe55bb4bf1e8a8  \n",
       "4  1f21918ceb5d345c  "
      ]
     },
     "execution_count": 54,
     "metadata": {},
     "output_type": "execute_result"
    }
   ],
   "source": [
    "df.head()"
   ]
  },
  {
   "cell_type": "code",
   "execution_count": 87,
   "id": "9cf11779",
   "metadata": {},
   "outputs": [
    {
     "name": "stdout",
     "output_type": "stream",
     "text": [
      "<class 'pandas.core.frame.DataFrame'>\n",
      "RangeIndex: 3251 entries, 0 to 3250\n",
      "Data columns (total 5 columns):\n",
      " #   Column        Non-Null Count  Dtype \n",
      "---  ------        --------------  ----- \n",
      " 0   product_id    3251 non-null   object\n",
      " 1   name          3251 non-null   object\n",
      " 2   props         3251 non-null   object\n",
      " 3   is_reference  3251 non-null   bool  \n",
      " 4   reference_id  2780 non-null   object\n",
      "dtypes: bool(1), object(4)\n",
      "memory usage: 104.9+ KB\n"
     ]
    }
   ],
   "source": [
    "df.info()"
   ]
  },
  {
   "cell_type": "code",
   "execution_count": 64,
   "id": "b397bde4",
   "metadata": {},
   "outputs": [
    {
     "data": {
      "text/plain": [
       "['Класс  энергоэффективности\\tA',\n",
       " 'Мощность  кондиционера\\t9 BTU',\n",
       " 'Уровень  шума внутреннего блока\\t21.5 дБ - 38 дБ',\n",
       " 'Режим   работы\\tохлаждение / обогрев',\n",
       " 'Фильтр тонкой очистки\\tесть',\n",
       " 'Доп.   режимы турбо, экорежим, осушение, ночной, вентиляция']"
      ]
     },
     "execution_count": 64,
     "metadata": {},
     "output_type": "execute_result"
    }
   ],
   "source": [
    "df['props'][0]"
   ]
  },
  {
   "cell_type": "code",
   "execution_count": 55,
   "id": "f4f461db",
   "metadata": {},
   "outputs": [],
   "source": [
    "df_test = df.loc[:200]"
   ]
  },
  {
   "cell_type": "code",
   "execution_count": 56,
   "id": "7dcf1a0b",
   "metadata": {},
   "outputs": [],
   "source": [
    "df_test = df_test.rename(columns={'product_id': 'id'}).drop(columns=['is_reference', 'reference_id'])"
   ]
  },
  {
   "cell_type": "code",
   "execution_count": 65,
   "id": "97654b94",
   "metadata": {},
   "outputs": [],
   "source": [
    "request = [{'id': '0007302f2fe1d54d',\n",
    " 'name': 'Классическая сплит-система ROYAL CLIMA PANDORA RC-PD28HN, для комнат до 28 кв.метра, настенный кондиционер для дома/офиса, комплект',\n",
    " 'props': ['Класс  энергоэффективности\\tA',\n",
    "             'Мощность  кондиционера\\t9 BTU',\n",
    "             'Уровень  шума внутреннего блока\\t21.5 дБ - 38 дБ',\n",
    "             'Режим   работы\\tохлаждение / обогрев',\n",
    "             'Фильтр тонкой очистки\\tесть',\n",
    "             'Доп.   режимы турбо, экорежим, осушение, ночной, вентиляция']\n",
    " }]"
   ]
  },
  {
   "cell_type": "code",
   "execution_count": 72,
   "id": "ed3e6bbb",
   "metadata": {},
   "outputs": [],
   "source": [
    "req = {'items': request}"
   ]
  },
  {
   "cell_type": "code",
   "execution_count": 73,
   "id": "4983dc31",
   "metadata": {},
   "outputs": [
    {
     "data": {
      "text/plain": [
       "'{\"items\": [{\"id\": \"0007302f2fe1d54d\", \"name\": \"\\\\u041a\\\\u043b\\\\u0430\\\\u0441\\\\u0441\\\\u0438\\\\u0447\\\\u0435\\\\u0441\\\\u043a\\\\u0430\\\\u044f \\\\u0441\\\\u043f\\\\u043b\\\\u0438\\\\u0442-\\\\u0441\\\\u0438\\\\u0441\\\\u0442\\\\u0435\\\\u043c\\\\u0430 ROYAL CLIMA PANDORA RC-PD28HN, \\\\u0434\\\\u043b\\\\u044f \\\\u043a\\\\u043e\\\\u043c\\\\u043d\\\\u0430\\\\u0442 \\\\u0434\\\\u043e 28 \\\\u043a\\\\u0432.\\\\u043c\\\\u0435\\\\u0442\\\\u0440\\\\u0430, \\\\u043d\\\\u0430\\\\u0441\\\\u0442\\\\u0435\\\\u043d\\\\u043d\\\\u044b\\\\u0439 \\\\u043a\\\\u043e\\\\u043d\\\\u0434\\\\u0438\\\\u0446\\\\u0438\\\\u043e\\\\u043d\\\\u0435\\\\u0440 \\\\u0434\\\\u043b\\\\u044f \\\\u0434\\\\u043e\\\\u043c\\\\u0430/\\\\u043e\\\\u0444\\\\u0438\\\\u0441\\\\u0430, \\\\u043a\\\\u043e\\\\u043c\\\\u043f\\\\u043b\\\\u0435\\\\u043a\\\\u0442\", \"props\": [\"\\\\u041a\\\\u043b\\\\u0430\\\\u0441\\\\u0441  \\\\u044d\\\\u043d\\\\u0435\\\\u0440\\\\u0433\\\\u043e\\\\u044d\\\\u0444\\\\u0444\\\\u0435\\\\u043a\\\\u0442\\\\u0438\\\\u0432\\\\u043d\\\\u043e\\\\u0441\\\\u0442\\\\u0438\\\\tA\", \"\\\\u041c\\\\u043e\\\\u0449\\\\u043d\\\\u043e\\\\u0441\\\\u0442\\\\u044c  \\\\u043a\\\\u043e\\\\u043d\\\\u0434\\\\u0438\\\\u0446\\\\u0438\\\\u043e\\\\u043d\\\\u0435\\\\u0440\\\\u0430\\\\t9 BTU\", \"\\\\u0423\\\\u0440\\\\u043e\\\\u0432\\\\u0435\\\\u043d\\\\u044c  \\\\u0448\\\\u0443\\\\u043c\\\\u0430 \\\\u0432\\\\u043d\\\\u0443\\\\u0442\\\\u0440\\\\u0435\\\\u043d\\\\u043d\\\\u0435\\\\u0433\\\\u043e \\\\u0431\\\\u043b\\\\u043e\\\\u043a\\\\u0430\\\\t21.5 \\\\u0434\\\\u0411 - 38 \\\\u0434\\\\u0411\", \"\\\\u0420\\\\u0435\\\\u0436\\\\u0438\\\\u043c   \\\\u0440\\\\u0430\\\\u0431\\\\u043e\\\\u0442\\\\u044b\\\\t\\\\u043e\\\\u0445\\\\u043b\\\\u0430\\\\u0436\\\\u0434\\\\u0435\\\\u043d\\\\u0438\\\\u0435 / \\\\u043e\\\\u0431\\\\u043e\\\\u0433\\\\u0440\\\\u0435\\\\u0432\", \"\\\\u0424\\\\u0438\\\\u043b\\\\u044c\\\\u0442\\\\u0440 \\\\u0442\\\\u043e\\\\u043d\\\\u043a\\\\u043e\\\\u0439 \\\\u043e\\\\u0447\\\\u0438\\\\u0441\\\\u0442\\\\u043a\\\\u0438\\\\t\\\\u0435\\\\u0441\\\\u0442\\\\u044c\", \"\\\\u0414\\\\u043e\\\\u043f.   \\\\u0440\\\\u0435\\\\u0436\\\\u0438\\\\u043c\\\\u044b \\\\u0442\\\\u0443\\\\u0440\\\\u0431\\\\u043e, \\\\u044d\\\\u043a\\\\u043e\\\\u0440\\\\u0435\\\\u0436\\\\u0438\\\\u043c, \\\\u043e\\\\u0441\\\\u0443\\\\u0448\\\\u0435\\\\u043d\\\\u0438\\\\u0435, \\\\u043d\\\\u043e\\\\u0447\\\\u043d\\\\u043e\\\\u0439, \\\\u0432\\\\u0435\\\\u043d\\\\u0442\\\\u0438\\\\u043b\\\\u044f\\\\u0446\\\\u0438\\\\u044f\"]}]}'"
      ]
     },
     "execution_count": 73,
=======
       "   0  1  2\n",
       "0  1  2  3\n",
       "1  3  4  5"
      ]
     },
     "execution_count": 29,
>>>>>>> main
     "metadata": {},
     "output_type": "execute_result"
    }
   ],
   "source": [
<<<<<<< HEAD
    "json.dumps(req)"
   ]
  },
  {
   "cell_type": "code",
   "execution_count": 66,
   "id": "a80dfa77",
   "metadata": {},
   "outputs": [],
   "source": [
    "import json"
=======
    "pd.DataFrame([[1, 2, 3],\n",
    "             [3, 4, 5]\n",
    "            ])"
   ]
  },
  {
   "cell_type": "markdown",
   "id": "e311608c",
   "metadata": {},
   "source": [
    "h > a    h < b"
>>>>>>> main
   ]
  },
  {
   "cell_type": "code",
<<<<<<< HEAD
   "execution_count": 97,
   "id": "a2dd42c2",
   "metadata": {},
   "outputs": [],
   "source": [
    "response = requests.post('http://127.0.0.1:8000/get_results',\n",
    "                       data=json.dumps(req))"
   ]
  },
  {
   "cell_type": "code",
   "execution_count": 98,
   "id": "21062af6",
   "metadata": {},
   "outputs": [
    {
     "data": {
      "text/plain": [
       "200"
      ]
     },
     "execution_count": 98,
     "metadata": {},
     "output_type": "execute_result"
    }
   ],
   "source": [
    "response.status_code"
   ]
  },
  {
   "cell_type": "code",
   "execution_count": 99,
   "id": "b593f3ac",
   "metadata": {},
   "outputs": [
    {
     "data": {
      "text/plain": [
       "b'{\"items\":[{\"id\":\"0007302f2fe1d54d\",\"reference_id\":\"f497219eb0077f84\"}]}'"
      ]
     },
     "execution_count": 99,
     "metadata": {},
     "output_type": "execute_result"
    }
   ],
   "source": [
    "response.content"
   ]
  },
  {
   "cell_type": "code",
   "execution_count": 76,
   "id": "c7d5d9e4",
   "metadata": {},
   "outputs": [],
   "source": [
    "import pickle"
   ]
  },
  {
   "cell_type": "code",
   "execution_count": null,
   "id": "14997bf1",
   "metadata": {},
   "outputs": [],
   "source": [
    "with open('')"
=======
   "execution_count": 31,
   "id": "c4870688",
   "metadata": {},
   "outputs": [
    {
     "name": "stdout",
     "output_type": "stream",
     "text": [
      "7\n",
      "8\n",
      "1\n",
      "Недосып\n"
     ]
    }
   ],
   "source": [
    "a = int(input())\n",
    "b = int(input())\n",
    "h = int(input())\n",
    "\n",
    "if h < a:\n",
    "    print('Недосып')\n",
    "elif h > b:\n",
    "    print('Пересып')\n",
    "else:\n",
    "    print('Все нормально')"
>>>>>>> main
   ]
  }
 ],
 "metadata": {
  "kernelspec": {
   "display_name": "Python 3 (ipykernel)",
   "language": "python",
   "name": "python3"
  },
  "language_info": {
   "codemirror_mode": {
    "name": "ipython",
    "version": 3
   },
   "file_extension": ".py",
   "mimetype": "text/x-python",
   "name": "python",
   "nbconvert_exporter": "python",
   "pygments_lexer": "ipython3",
   "version": "3.8.10"
  }
 },
 "nbformat": 4,
 "nbformat_minor": 5
}
