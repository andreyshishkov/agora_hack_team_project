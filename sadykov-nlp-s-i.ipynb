{
 "cells": [
  {
   "cell_type": "code",
   "execution_count": 1,
   "id": "098093ab",
   "metadata": {
    "_cell_guid": "b1076dfc-b9ad-4769-8c92-a6c4dae69d19",
    "_uuid": "8f2839f25d086af736a60e9eeb907d3b93b6e0e5",
    "execution": {
     "iopub.execute_input": "2022-08-03T18:30:46.422998Z",
     "iopub.status.busy": "2022-08-03T18:30:46.422178Z",
     "iopub.status.idle": "2022-08-03T18:30:46.446778Z",
     "shell.execute_reply": "2022-08-03T18:30:46.444971Z"
    },
    "papermill": {
     "duration": 0.081216,
     "end_time": "2022-08-03T18:30:46.451159",
     "exception": false,
     "start_time": "2022-08-03T18:30:46.369943",
     "status": "completed"
    },
    "tags": []
   },
   "outputs": [
    {
     "name": "stdout",
     "output_type": "stream",
     "text": [
      "/kaggle/input/scan-classification-challange/sample_submission.csv\n",
      "/kaggle/input/scan-classification-challange/df_train.csv\n",
      "/kaggle/input/scan-classification-challange/df_test.csv\n"
     ]
    }
   ],
   "source": [
    "# This Python 3 environment comes with many helpful analytics libraries installed\n",
    "# It is defined by the kaggle/python Docker image: https://github.com/kaggle/docker-python\n",
    "# For example, here's several helpful packages to load\n",
    "\n",
    "import numpy as np # linear algebra\n",
    "import pandas as pd # data processing, CSV file I/O (e.g. pd.read_csv)\n",
    "\n",
    "#import cudf\n",
    "\n",
    "from tqdm import tqdm\n",
    "\n",
    "tqdm.pandas()\n",
    "\n",
    "# Input data files are available in the read-only \"../input/\" directory\n",
    "# For example, running this (by clicking run or pressing Shift+Enter) will list all files under the input directory\n",
    "\n",
    "import os\n",
    "for dirname, _, filenames in os.walk('/kaggle/input'):\n",
    "    for filename in filenames:\n",
    "        print(os.path.join(dirname, filename))\n",
    "\n",
    "# You can write up to 20GB to the current directory (/kaggle/working/) that gets preserved as output when you create a version using \"Save & Run All\" \n",
    "# You can also write temporary files to /kaggle/temp/, but they won't be saved outside of the current session"
   ]
  },
  {
   "cell_type": "code",
   "execution_count": 2,
   "id": "e5686bf5",
   "metadata": {
    "execution": {
     "iopub.execute_input": "2022-08-03T18:30:46.516948Z",
     "iopub.status.busy": "2022-08-03T18:30:46.516333Z",
     "iopub.status.idle": "2022-08-03T18:30:55.032482Z",
     "shell.execute_reply": "2022-08-03T18:30:55.030733Z"
    },
    "papermill": {
     "duration": 8.551878,
     "end_time": "2022-08-03T18:30:55.036287",
     "exception": false,
     "start_time": "2022-08-03T18:30:46.484409",
     "status": "completed"
    },
    "tags": []
   },
   "outputs": [],
   "source": [
    "#%tensorflow_version 2.x\n",
    "from tensorflow.keras.models import Sequential\n",
    "from tensorflow.keras.layers import Dense, Embedding, MaxPooling1D, Conv1D, GlobalMaxPooling1D, Dropout, LSTM, GRU\n",
    "from tensorflow.keras import utils\n",
    "from tensorflow.keras.preprocessing.sequence import pad_sequences\n",
    "from tensorflow.keras.preprocessing.text import Tokenizer\n",
    "from tensorflow.keras.callbacks import ModelCheckpoint\n",
    "from tensorflow.keras import utils\n",
    "\n",
    "import matplotlib.pyplot as plt\n",
    "%matplotlib inline "
   ]
  },
  {
   "cell_type": "code",
   "execution_count": 3,
   "id": "24f4d800",
   "metadata": {
    "execution": {
     "iopub.execute_input": "2022-08-03T18:30:55.098220Z",
     "iopub.status.busy": "2022-08-03T18:30:55.097284Z",
     "iopub.status.idle": "2022-08-03T18:31:11.156463Z",
     "shell.execute_reply": "2022-08-03T18:31:11.154584Z"
    },
    "papermill": {
     "duration": 16.092757,
     "end_time": "2022-08-03T18:31:11.159255",
     "exception": false,
     "start_time": "2022-08-03T18:30:55.066498",
     "status": "completed"
    },
    "tags": []
   },
   "outputs": [
    {
     "name": "stdout",
     "output_type": "stream",
     "text": [
      "Collecting pymorphy2\r\n",
      "  Downloading pymorphy2-0.9.1-py3-none-any.whl (55 kB)\r\n",
      "\u001b[2K     \u001b[90m━━━━━━━━━━━━━━━━━━━━━━━━━━━━━━━━━━━━━━━\u001b[0m \u001b[32m55.5/55.5 kB\u001b[0m \u001b[31m613.9 kB/s\u001b[0m eta \u001b[36m0:00:00\u001b[0m\r\n",
      "\u001b[?25hCollecting pymorphy2-dicts-ru<3.0,>=2.4\r\n",
      "  Downloading pymorphy2_dicts_ru-2.4.417127.4579844-py2.py3-none-any.whl (8.2 MB)\r\n",
      "\u001b[2K     \u001b[90m━━━━━━━━━━━━━━━━━━━━━━━━━━━━━━━━━━━━━━━━\u001b[0m \u001b[32m8.2/8.2 MB\u001b[0m \u001b[31m17.1 MB/s\u001b[0m eta \u001b[36m0:00:00\u001b[0m\r\n",
      "\u001b[?25hRequirement already satisfied: docopt>=0.6 in /opt/conda/lib/python3.7/site-packages (from pymorphy2) (0.6.2)\r\n",
      "Collecting dawg-python>=0.7.1\r\n",
      "  Downloading DAWG_Python-0.7.2-py2.py3-none-any.whl (11 kB)\r\n",
      "Installing collected packages: pymorphy2-dicts-ru, dawg-python, pymorphy2\r\n",
      "Successfully installed dawg-python-0.7.2 pymorphy2-0.9.1 pymorphy2-dicts-ru-2.4.417127.4579844\r\n",
      "\u001b[33mWARNING: Running pip as the 'root' user can result in broken permissions and conflicting behaviour with the system package manager. It is recommended to use a virtual environment instead: https://pip.pypa.io/warnings/venv\u001b[0m\u001b[33m\r\n",
      "\u001b[0mNote: you may need to restart the kernel to use updated packages.\n"
     ]
    }
   ],
   "source": [
    "pip install pymorphy2"
   ]
  },
  {
   "cell_type": "code",
   "execution_count": 4,
   "id": "cc5936e9",
   "metadata": {
    "execution": {
     "iopub.execute_input": "2022-08-03T18:31:11.225327Z",
     "iopub.status.busy": "2022-08-03T18:31:11.224788Z",
     "iopub.status.idle": "2022-08-03T18:31:23.734098Z",
     "shell.execute_reply": "2022-08-03T18:31:23.732267Z"
    },
    "papermill": {
     "duration": 12.547785,
     "end_time": "2022-08-03T18:31:23.737384",
     "exception": false,
     "start_time": "2022-08-03T18:31:11.189599",
     "status": "completed"
    },
    "tags": []
   },
   "outputs": [
    {
     "name": "stdout",
     "output_type": "stream",
     "text": [
      "Requirement already satisfied: pymorphy2-dicts-ru in /opt/conda/lib/python3.7/site-packages (2.4.417127.4579844)\r\n",
      "\u001b[33mWARNING: Running pip as the 'root' user can result in broken permissions and conflicting behaviour with the system package manager. It is recommended to use a virtual environment instead: https://pip.pypa.io/warnings/venv\u001b[0m\u001b[33m\r\n",
      "\u001b[0mNote: you may need to restart the kernel to use updated packages.\n"
     ]
    }
   ],
   "source": [
    "pip install -U pymorphy2-dicts-ru"
   ]
  },
  {
   "cell_type": "code",
   "execution_count": 5,
   "id": "4e97ca35",
   "metadata": {
    "execution": {
     "iopub.execute_input": "2022-08-03T18:31:23.805788Z",
     "iopub.status.busy": "2022-08-03T18:31:23.805312Z",
     "iopub.status.idle": "2022-08-03T18:31:23.811208Z",
     "shell.execute_reply": "2022-08-03T18:31:23.809588Z"
    },
    "papermill": {
     "duration": 0.043384,
     "end_time": "2022-08-03T18:31:23.814804",
     "exception": false,
     "start_time": "2022-08-03T18:31:23.771420",
     "status": "completed"
    },
    "tags": []
   },
   "outputs": [],
   "source": [
    "PATH = '/kaggle/input/scan-classification-challange/'"
   ]
  },
  {
   "cell_type": "code",
   "execution_count": 6,
   "id": "840b78b9",
   "metadata": {
    "execution": {
     "iopub.execute_input": "2022-08-03T18:31:23.887386Z",
     "iopub.status.busy": "2022-08-03T18:31:23.886897Z",
     "iopub.status.idle": "2022-08-03T18:31:23.892666Z",
     "shell.execute_reply": "2022-08-03T18:31:23.891328Z"
    },
    "papermill": {
     "duration": 0.050648,
     "end_time": "2022-08-03T18:31:23.895693",
     "exception": false,
     "start_time": "2022-08-03T18:31:23.845045",
     "status": "completed"
    },
    "tags": []
   },
   "outputs": [],
   "source": [
    "# всегда фиксируйте RANDOM_SEED, чтобы ваши эксперименты были воспроизводимы!\n",
    "RANDOM_SEED = 42"
   ]
  },
  {
   "cell_type": "code",
   "execution_count": 7,
   "id": "620ad714",
   "metadata": {
    "execution": {
     "iopub.execute_input": "2022-08-03T18:31:23.977536Z",
     "iopub.status.busy": "2022-08-03T18:31:23.976473Z",
     "iopub.status.idle": "2022-08-03T18:31:24.555662Z",
     "shell.execute_reply": "2022-08-03T18:31:24.554367Z"
    },
    "papermill": {
     "duration": 0.621776,
     "end_time": "2022-08-03T18:31:24.558625",
     "exception": false,
     "start_time": "2022-08-03T18:31:23.936849",
     "status": "completed"
    },
    "tags": []
   },
   "outputs": [],
   "source": [
    "#посмотрим на трейн\n",
    "train = pd.read_csv(PATH + 'df_train.csv')"
   ]
  },
  {
   "cell_type": "code",
   "execution_count": 8,
   "id": "9f5cc893",
   "metadata": {
    "execution": {
     "iopub.execute_input": "2022-08-03T18:31:24.618814Z",
     "iopub.status.busy": "2022-08-03T18:31:24.618306Z",
     "iopub.status.idle": "2022-08-03T18:31:24.670772Z",
     "shell.execute_reply": "2022-08-03T18:31:24.669234Z"
    },
    "papermill": {
     "duration": 0.086251,
     "end_time": "2022-08-03T18:31:24.673696",
     "exception": false,
     "start_time": "2022-08-03T18:31:24.587445",
     "status": "completed"
    },
    "tags": []
   },
   "outputs": [
    {
     "name": "stdout",
     "output_type": "stream",
     "text": [
      "<class 'pandas.core.frame.DataFrame'>\n",
      "RangeIndex: 60000 entries, 0 to 59999\n",
      "Data columns (total 2 columns):\n",
      " #   Column  Non-Null Count  Dtype \n",
      "---  ------  --------------  ----- \n",
      " 0   text    60000 non-null  object\n",
      " 1   class   60000 non-null  object\n",
      "dtypes: object(2)\n",
      "memory usage: 937.6+ KB\n"
     ]
    }
   ],
   "source": [
    "train.info()"
   ]
  },
  {
   "cell_type": "code",
   "execution_count": 9,
   "id": "e28f1b77",
   "metadata": {
    "execution": {
     "iopub.execute_input": "2022-08-03T18:31:24.735154Z",
     "iopub.status.busy": "2022-08-03T18:31:24.734631Z",
     "iopub.status.idle": "2022-08-03T18:31:24.750918Z",
     "shell.execute_reply": "2022-08-03T18:31:24.749640Z"
    },
    "papermill": {
     "duration": 0.049274,
     "end_time": "2022-08-03T18:31:24.753345",
     "exception": false,
     "start_time": "2022-08-03T18:31:24.704071",
     "status": "completed"
    },
    "tags": []
   },
   "outputs": [
    {
     "data": {
      "text/plain": [
       "50"
      ]
     },
     "execution_count": 9,
     "metadata": {},
     "output_type": "execute_result"
    }
   ],
   "source": [
    "#посмотрим на количество классов\n",
    "train['class'].nunique()"
   ]
  },
  {
   "cell_type": "code",
   "execution_count": 10,
   "id": "2af3fd9f",
   "metadata": {
    "execution": {
     "iopub.execute_input": "2022-08-03T18:31:24.816302Z",
     "iopub.status.busy": "2022-08-03T18:31:24.815767Z",
     "iopub.status.idle": "2022-08-03T18:31:24.830796Z",
     "shell.execute_reply": "2022-08-03T18:31:24.829460Z"
    },
    "papermill": {
     "duration": 0.049593,
     "end_time": "2022-08-03T18:31:24.833976",
     "exception": false,
     "start_time": "2022-08-03T18:31:24.784383",
     "status": "completed"
    },
    "tags": []
   },
   "outputs": [
    {
     "data": {
      "text/plain": [
       "O                                                   40159\n",
       "Теракт                                               1898\n",
       "Взятки                                               1801\n",
       "Экстремизм                                           1798\n",
       "Уголовное обвинение                                  1634\n",
       "Пожары                                               1510\n",
       "Привлечение к уголовной ответственности              1475\n",
       "Землетрясение                                         841\n",
       "Утечка нефти                                          816\n",
       "Противодействие коррупции                             707\n",
       "Поддержка террористов                                 702\n",
       "Заключение под стражу                                 694\n",
       "Нарушение закона                                      636\n",
       "Коррупция                                             599\n",
       "Уголовное задержание                                  517\n",
       "Наводнение                                            489\n",
       "Кораблекрушение                                       378\n",
       "Авиакатастрофа                                        345\n",
       "Техногенные катастрофы                                326\n",
       "Экономические преступления                            306\n",
       "Убийство                                              231\n",
       "Убытки                                                212\n",
       "Падение продаж                                        196\n",
       "Извержение вулкана                                    175\n",
       "Растрата денежных средств                             172\n",
       "Проблемы с активами                                   166\n",
       "Закрытие предприятия или производства                 157\n",
       "Падение прибыли                                       140\n",
       "Чрезвычайные происшествия, чрезвычайные ситуации      138\n",
       "Стихийные бедствия                                    135\n",
       "Финансовые затруднения                                104\n",
       "Беспорядки, конфликты и войны                          59\n",
       "Взрыв газа                                             57\n",
       "Нарушение обязанностей                                 55\n",
       "Рост убытков                                           49\n",
       "Отзыв продукции                                        44\n",
       "Жалобы потребителей                                    41\n",
       "Ядерный взрыв                                          40\n",
       "Акционерный конфликт                                   35\n",
       "Мошенничество                                          29\n",
       "Обвал                                                  26\n",
       "Возбуждение уголовного дела                            25\n",
       "Катастрофы, крушения                                   24\n",
       "Падение метеорита                                      16\n",
       "Нарушение прав акционеров                              16\n",
       "Отмывание денег                                        10\n",
       "Закрытие филиала, представительства                     9\n",
       "Манипулирование рынком                                  4\n",
       "Выемки                                                  2\n",
       "Нападение                                               2\n",
       "Name: class, dtype: int64"
      ]
     },
     "execution_count": 10,
     "metadata": {},
     "output_type": "execute_result"
    }
   ],
   "source": [
    "#посмотрим на сами классы и их распределение\n",
    "train['class'].value_counts()"
   ]
  },
  {
   "cell_type": "code",
   "execution_count": 11,
   "id": "abe8200a",
   "metadata": {
    "execution": {
     "iopub.execute_input": "2022-08-03T18:31:24.896676Z",
     "iopub.status.busy": "2022-08-03T18:31:24.896164Z",
     "iopub.status.idle": "2022-08-03T18:31:26.333170Z",
     "shell.execute_reply": "2022-08-03T18:31:26.331943Z"
    },
    "papermill": {
     "duration": 1.472768,
     "end_time": "2022-08-03T18:31:26.336192",
     "exception": false,
     "start_time": "2022-08-03T18:31:24.863424",
     "status": "completed"
    },
    "tags": []
   },
   "outputs": [
    {
     "data": {
      "text/plain": [
       "<AxesSubplot:>"
      ]
     },
     "execution_count": 11,
     "metadata": {},
     "output_type": "execute_result"
    },
    {
     "data": {
      "image/png": "[encoded data removed]",
      "text/plain": [
       "<Figure size 432x288 with 1 Axes>"
      ]
     },
     "metadata": {
      "needs_background": "light"
     },
     "output_type": "display_data"
    }
   ],
   "source": [
    "train['class'].value_counts().plot(kind = 'barh')"
   ]
  },
  {
   "cell_type": "markdown",
   "id": "6c1177f4",
   "metadata": {
    "papermill": {
     "duration": 0.030945,
     "end_time": "2022-08-03T18:31:26.400192",
     "exception": false,
     "start_time": "2022-08-03T18:31:26.369247",
     "status": "completed"
    },
    "tags": []
   },
   "source": [
    "Распределение неравномерное. Доминирование класса \"О\". Мне кажется, что при автоматической разметке, этот класс присваивался текстам, которые не смогли определить к какому-нибудь классу. \n",
    "Эту неравномерность нужно будет учитывать при разделении на трейн и тест."
   ]
  },
  {
   "cell_type": "code",
   "execution_count": 12,
   "id": "3f3996f8",
   "metadata": {
    "execution": {
     "iopub.execute_input": "2022-08-03T18:31:26.471995Z",
     "iopub.status.busy": "2022-08-03T18:31:26.470373Z",
     "iopub.status.idle": "2022-08-03T18:31:26.493429Z",
     "shell.execute_reply": "2022-08-03T18:31:26.492198Z"
    },
    "papermill": {
     "duration": 0.05949,
     "end_time": "2022-08-03T18:31:26.496119",
     "exception": false,
     "start_time": "2022-08-03T18:31:26.436629",
     "status": "completed"
    },
    "tags": []
   },
   "outputs": [
    {
     "data": {
      "text/html": [
       "<div>\n",
       "<style scoped>\n",
       "    .dataframe tbody tr th:only-of-type {\n",
       "        vertical-align: middle;\n",
       "    }\n",
       "\n",
       "    .dataframe tbody tr th {\n",
       "        vertical-align: top;\n",
       "    }\n",
       "\n",
       "    .dataframe thead th {\n",
       "        text-align: right;\n",
       "    }\n",
       "</style>\n",
       "<table border=\"1\" class=\"dataframe\">\n",
       "  <thead>\n",
       "    <tr style=\"text-align: right;\">\n",
       "      <th></th>\n",
       "      <th>text</th>\n",
       "      <th>class</th>\n",
       "    </tr>\n",
       "  </thead>\n",
       "  <tbody>\n",
       "    <tr>\n",
       "      <th>20048</th>\n",
       "      <td>Эксперт поясняет – в тот момент девелоперы про...</td>\n",
       "      <td>O</td>\n",
       "    </tr>\n",
       "    <tr>\n",
       "      <th>30419</th>\n",
       "      <td>Агентством РК по противодействию коррупции изо...</td>\n",
       "      <td>O</td>\n",
       "    </tr>\n",
       "    <tr>\n",
       "      <th>8788</th>\n",
       "      <td>Это подтвердили приглашенные в суд свидетели\",...</td>\n",
       "      <td>O</td>\n",
       "    </tr>\n",
       "  </tbody>\n",
       "</table>\n",
       "</div>"
      ],
      "text/plain": [
       "                                                    text class\n",
       "20048  Эксперт поясняет – в тот момент девелоперы про...     O\n",
       "30419  Агентством РК по противодействию коррупции изо...     O\n",
       "8788   Это подтвердили приглашенные в суд свидетели\",...     O"
      ]
     },
     "execution_count": 12,
     "metadata": {},
     "output_type": "execute_result"
    }
   ],
   "source": [
    "#посмотрим несколко примеров\n",
    "train.sample(3)"
   ]
  },
  {
   "cell_type": "code",
   "execution_count": 13,
   "id": "d9be7848",
   "metadata": {
    "execution": {
     "iopub.execute_input": "2022-08-03T18:31:26.563830Z",
     "iopub.status.busy": "2022-08-03T18:31:26.562865Z",
     "iopub.status.idle": "2022-08-03T18:31:26.570678Z",
     "shell.execute_reply": "2022-08-03T18:31:26.569616Z"
    },
    "papermill": {
     "duration": 0.045253,
     "end_time": "2022-08-03T18:31:26.573022",
     "exception": false,
     "start_time": "2022-08-03T18:31:26.527769",
     "status": "completed"
    },
    "tags": []
   },
   "outputs": [
    {
     "data": {
      "text/plain": [
       "'И этому есть весомые причины, ведь авиакатострофы хоть и случаются нечасто, зато о них пишут и говорят в разы больше, чем об автоавариях, железнодорожных и кораблекрушениях.'"
      ]
     },
     "execution_count": 13,
     "metadata": {},
     "output_type": "execute_result"
    }
   ],
   "source": [
    "train['text'].iloc[44556]"
   ]
  },
  {
   "cell_type": "code",
   "execution_count": 14,
   "id": "931247f9",
   "metadata": {
    "execution": {
     "iopub.execute_input": "2022-08-03T18:31:26.637806Z",
     "iopub.status.busy": "2022-08-03T18:31:26.637283Z",
     "iopub.status.idle": "2022-08-03T18:31:26.644958Z",
     "shell.execute_reply": "2022-08-03T18:31:26.643868Z"
    },
    "papermill": {
     "duration": 0.042612,
     "end_time": "2022-08-03T18:31:26.647443",
     "exception": false,
     "start_time": "2022-08-03T18:31:26.604831",
     "status": "completed"
    },
    "tags": []
   },
   "outputs": [
    {
     "data": {
      "text/plain": [
       "'Кораблекрушение'"
      ]
     },
     "execution_count": 14,
     "metadata": {},
     "output_type": "execute_result"
    }
   ],
   "source": [
    "train['class'].iloc[44556]"
   ]
  },
  {
   "cell_type": "markdown",
   "id": "ee4be48a",
   "metadata": {
    "papermill": {
     "duration": 0.030054,
     "end_time": "2022-08-03T18:31:26.707860",
     "exception": false,
     "start_time": "2022-08-03T18:31:26.677806",
     "status": "completed"
    },
    "tags": []
   },
   "source": [
    "Как видно из примера выше, разметка не совсем корректная. Но:\n",
    "1. судя по всему тест размечен таким же образом, поэтому и корректировать классы будет не правильно;\n",
    "2. количество размеченных новостей, почти 20 тысяч, поэтому перебирать их нецелесообразно с точки зрения затраченного времени. "
   ]
  },
  {
   "cell_type": "markdown",
   "id": "bbfd3cbc",
   "metadata": {
    "papermill": {
     "duration": 0.031005,
     "end_time": "2022-08-03T18:31:26.769439",
     "exception": false,
     "start_time": "2022-08-03T18:31:26.738434",
     "status": "completed"
    },
    "tags": []
   },
   "source": [
    "### Подгoтовлю текст - переведу в нижний регистр, удалю пунктуацию, цифры и стоп-слова"
   ]
  },
  {
   "cell_type": "code",
   "execution_count": 15,
   "id": "0a828037",
   "metadata": {
    "execution": {
     "iopub.execute_input": "2022-08-03T18:31:26.836846Z",
     "iopub.status.busy": "2022-08-03T18:31:26.836302Z",
     "iopub.status.idle": "2022-08-03T18:31:26.843554Z",
     "shell.execute_reply": "2022-08-03T18:31:26.841719Z"
    },
    "papermill": {
     "duration": 0.043884,
     "end_time": "2022-08-03T18:31:26.846554",
     "exception": false,
     "start_time": "2022-08-03T18:31:26.802670",
     "status": "completed"
    },
    "tags": []
   },
   "outputs": [
    {
     "name": "stdout",
     "output_type": "stream",
     "text": [
      "!\"#$%&'()*+,-./:;<=>?@[\\]^_`{|}~«»—\"\"\n"
     ]
    }
   ],
   "source": [
    "import string\n",
    "spec_chars = string.punctuation + '«'+ '»'+ '—'+ '\"'+ '\"'\n",
    "print(spec_chars)"
   ]
  },
  {
   "cell_type": "code",
   "execution_count": 16,
   "id": "b5ec9360",
   "metadata": {
    "execution": {
     "iopub.execute_input": "2022-08-03T18:31:26.912496Z",
     "iopub.status.busy": "2022-08-03T18:31:26.911722Z",
     "iopub.status.idle": "2022-08-03T18:31:26.920704Z",
     "shell.execute_reply": "2022-08-03T18:31:26.919626Z"
    },
    "papermill": {
     "duration": 0.044874,
     "end_time": "2022-08-03T18:31:26.924185",
     "exception": false,
     "start_time": "2022-08-03T18:31:26.879311",
     "status": "completed"
    },
    "tags": []
   },
   "outputs": [],
   "source": [
    "def rem_spec_chars(x):\n",
    "    x = \"\".join([ch for ch in x if ch not in spec_chars])\n",
    "    x = \"\".join([x.replace('\\d+', '')])\n",
    "    return x"
   ]
  },
  {
   "cell_type": "code",
   "execution_count": 17,
   "id": "d61a015c",
   "metadata": {
    "execution": {
     "iopub.execute_input": "2022-08-03T18:31:26.993195Z",
     "iopub.status.busy": "2022-08-03T18:31:26.992252Z",
     "iopub.status.idle": "2022-08-03T18:31:28.482900Z",
     "shell.execute_reply": "2022-08-03T18:31:28.481715Z"
    },
    "papermill": {
     "duration": 1.530159,
     "end_time": "2022-08-03T18:31:28.488540",
     "exception": false,
     "start_time": "2022-08-03T18:31:26.958381",
     "status": "completed"
    },
    "tags": []
   },
   "outputs": [
    {
     "name": "stderr",
     "output_type": "stream",
     "text": [
      "100%|██████████| 60000/60000 [00:01<00:00, 40920.81it/s]\n"
     ]
    }
   ],
   "source": [
    "train['text_lem'] = train['text'].progress_apply(rem_spec_chars)"
   ]
  },
  {
   "cell_type": "code",
   "execution_count": 18,
   "id": "7691a35d",
   "metadata": {
    "execution": {
     "iopub.execute_input": "2022-08-03T18:31:28.561075Z",
     "iopub.status.busy": "2022-08-03T18:31:28.559804Z",
     "iopub.status.idle": "2022-08-03T18:31:28.568889Z",
     "shell.execute_reply": "2022-08-03T18:31:28.567551Z"
    },
    "papermill": {
     "duration": 0.048127,
     "end_time": "2022-08-03T18:31:28.571305",
     "exception": false,
     "start_time": "2022-08-03T18:31:28.523178",
     "status": "completed"
    },
    "tags": []
   },
   "outputs": [],
   "source": [
    "def low(x):\n",
    "  x = list(x.split())\n",
    "  x = [w.lower() for w in x]\n",
    "  return x"
   ]
  },
  {
   "cell_type": "code",
   "execution_count": 19,
   "id": "1435b36b",
   "metadata": {
    "execution": {
     "iopub.execute_input": "2022-08-03T18:31:28.644525Z",
     "iopub.status.busy": "2022-08-03T18:31:28.643994Z",
     "iopub.status.idle": "2022-08-03T18:31:29.455340Z",
     "shell.execute_reply": "2022-08-03T18:31:29.452593Z"
    },
    "papermill": {
     "duration": 0.851698,
     "end_time": "2022-08-03T18:31:29.458081",
     "exception": false,
     "start_time": "2022-08-03T18:31:28.606383",
     "status": "completed"
    },
    "tags": []
   },
   "outputs": [
    {
     "name": "stderr",
     "output_type": "stream",
     "text": [
      "100%|██████████| 60000/60000 [00:00<00:00, 76294.47it/s]\n"
     ]
    }
   ],
   "source": [
    "train['text_lem'] = train['text_lem'].progress_apply(low)"
   ]
  },
  {
   "cell_type": "code",
   "execution_count": 20,
   "id": "37f44b58",
   "metadata": {
    "execution": {
     "iopub.execute_input": "2022-08-03T18:31:29.532115Z",
     "iopub.status.busy": "2022-08-03T18:31:29.531255Z",
     "iopub.status.idle": "2022-08-03T18:31:31.828893Z",
     "shell.execute_reply": "2022-08-03T18:31:31.827786Z"
    },
    "papermill": {
     "duration": 2.338629,
     "end_time": "2022-08-03T18:31:31.831280",
     "exception": false,
     "start_time": "2022-08-03T18:31:29.492651",
     "status": "completed"
    },
    "tags": []
   },
   "outputs": [
    {
     "name": "stdout",
     "output_type": "stream",
     "text": [
      "[nltk_data] Downloading package stopwords to /usr/share/nltk_data...\n",
      "[nltk_data]   Unzipping corpora/stopwords.zip.\n"
     ]
    },
    {
     "data": {
      "text/plain": [
       "True"
      ]
     },
     "execution_count": 20,
     "metadata": {},
     "output_type": "execute_result"
    }
   ],
   "source": [
    "import nltk\n",
    "nltk.download('stopwords')"
   ]
  },
  {
   "cell_type": "code",
   "execution_count": 21,
   "id": "c000732f",
   "metadata": {
    "execution": {
     "iopub.execute_input": "2022-08-03T18:31:31.903848Z",
     "iopub.status.busy": "2022-08-03T18:31:31.903325Z",
     "iopub.status.idle": "2022-08-03T18:31:31.911743Z",
     "shell.execute_reply": "2022-08-03T18:31:31.910344Z"
    },
    "papermill": {
     "duration": 0.048258,
     "end_time": "2022-08-03T18:31:31.914735",
     "exception": false,
     "start_time": "2022-08-03T18:31:31.866477",
     "status": "completed"
    },
    "tags": []
   },
   "outputs": [],
   "source": [
    "from nltk.corpus import stopwords\n",
    "russian_stopwords = stopwords.words(\"russian\")"
   ]
  },
  {
   "cell_type": "code",
   "execution_count": 22,
   "id": "8dcfdde8",
   "metadata": {
    "execution": {
     "iopub.execute_input": "2022-08-03T18:31:31.989571Z",
     "iopub.status.busy": "2022-08-03T18:31:31.989041Z",
     "iopub.status.idle": "2022-08-03T18:31:31.994790Z",
     "shell.execute_reply": "2022-08-03T18:31:31.993428Z"
    },
    "papermill": {
     "duration": 0.048285,
     "end_time": "2022-08-03T18:31:31.997833",
     "exception": false,
     "start_time": "2022-08-03T18:31:31.949548",
     "status": "completed"
    },
    "tags": []
   },
   "outputs": [],
   "source": [
    "russian_stopwords.extend(['это', 'ктото'])"
   ]
  },
  {
   "cell_type": "code",
   "execution_count": 23,
   "id": "64dcfc22",
   "metadata": {
    "execution": {
     "iopub.execute_input": "2022-08-03T18:31:32.072951Z",
     "iopub.status.busy": "2022-08-03T18:31:32.071760Z",
     "iopub.status.idle": "2022-08-03T18:31:32.077811Z",
     "shell.execute_reply": "2022-08-03T18:31:32.076646Z"
    },
    "papermill": {
     "duration": 0.045546,
     "end_time": "2022-08-03T18:31:32.080748",
     "exception": false,
     "start_time": "2022-08-03T18:31:32.035202",
     "status": "completed"
    },
    "tags": []
   },
   "outputs": [],
   "source": [
    "def stop_words(x):\n",
    "  new_x = []\n",
    "  for w in x:\n",
    "    if w not in russian_stopwords:\n",
    "        new_x.append(w)\n",
    "  return new_x"
   ]
  },
  {
   "cell_type": "code",
   "execution_count": 24,
   "id": "c2a19cef",
   "metadata": {
    "execution": {
     "iopub.execute_input": "2022-08-03T18:31:32.152394Z",
     "iopub.status.busy": "2022-08-03T18:31:32.151275Z",
     "iopub.status.idle": "2022-08-03T18:31:35.141002Z",
     "shell.execute_reply": "2022-08-03T18:31:35.138823Z"
    },
    "papermill": {
     "duration": 3.029326,
     "end_time": "2022-08-03T18:31:35.145022",
     "exception": false,
     "start_time": "2022-08-03T18:31:32.115696",
     "status": "completed"
    },
    "tags": []
   },
   "outputs": [
    {
     "name": "stderr",
     "output_type": "stream",
     "text": [
      "100%|██████████| 60000/60000 [00:02<00:00, 20421.07it/s]\n"
     ]
    }
   ],
   "source": [
    "train['text_lem'] = train['text_lem'].progress_apply(stop_words)"
   ]
  },
  {
   "cell_type": "code",
   "execution_count": 25,
   "id": "a0d3ebe1",
   "metadata": {
    "execution": {
     "iopub.execute_input": "2022-08-03T18:31:35.220839Z",
     "iopub.status.busy": "2022-08-03T18:31:35.220319Z",
     "iopub.status.idle": "2022-08-03T18:31:35.250259Z",
     "shell.execute_reply": "2022-08-03T18:31:35.248782Z"
    },
    "papermill": {
     "duration": 0.071247,
     "end_time": "2022-08-03T18:31:35.253641",
     "exception": false,
     "start_time": "2022-08-03T18:31:35.182394",
     "status": "completed"
    },
    "tags": []
   },
   "outputs": [
    {
     "data": {
      "text/html": [
       "<div>\n",
       "<style scoped>\n",
       "    .dataframe tbody tr th:only-of-type {\n",
       "        vertical-align: middle;\n",
       "    }\n",
       "\n",
       "    .dataframe tbody tr th {\n",
       "        vertical-align: top;\n",
       "    }\n",
       "\n",
       "    .dataframe thead th {\n",
       "        text-align: right;\n",
       "    }\n",
       "</style>\n",
       "<table border=\"1\" class=\"dataframe\">\n",
       "  <thead>\n",
       "    <tr style=\"text-align: right;\">\n",
       "      <th></th>\n",
       "      <th>text</th>\n",
       "      <th>class</th>\n",
       "      <th>text_lem</th>\n",
       "    </tr>\n",
       "  </thead>\n",
       "  <tbody>\n",
       "    <tr>\n",
       "      <th>9293</th>\n",
       "      <td>Министр культуры и спорта РК Актоты Раимкулова...</td>\n",
       "      <td>O</td>\n",
       "      <td>[министр, культуры, спорта, рк, актоты, раимку...</td>\n",
       "    </tr>\n",
       "    <tr>\n",
       "      <th>42690</th>\n",
       "      <td>Он приговорен к пожизненному заключению.</td>\n",
       "      <td>Привлечение к уголовной ответственности</td>\n",
       "      <td>[приговорен, пожизненному, заключению]</td>\n",
       "    </tr>\n",
       "    <tr>\n",
       "      <th>31463</th>\n",
       "      <td>Вместе с тем Павел Корчагин, финансовый управл...</td>\n",
       "      <td>O</td>\n",
       "      <td>[вместе, павел, корчагин, финансовый, управляю...</td>\n",
       "    </tr>\n",
       "  </tbody>\n",
       "</table>\n",
       "</div>"
      ],
      "text/plain": [
       "                                                    text  \\\n",
       "9293   Министр культуры и спорта РК Актоты Раимкулова...   \n",
       "42690           Он приговорен к пожизненному заключению.   \n",
       "31463  Вместе с тем Павел Корчагин, финансовый управл...   \n",
       "\n",
       "                                         class  \\\n",
       "9293                                         O   \n",
       "42690  Привлечение к уголовной ответственности   \n",
       "31463                                        O   \n",
       "\n",
       "                                                text_lem  \n",
       "9293   [министр, культуры, спорта, рк, актоты, раимку...  \n",
       "42690             [приговорен, пожизненному, заключению]  \n",
       "31463  [вместе, павел, корчагин, финансовый, управляю...  "
      ]
     },
     "execution_count": 25,
     "metadata": {},
     "output_type": "execute_result"
    }
   ],
   "source": [
    "train.sample(3)"
   ]
  },
  {
   "cell_type": "markdown",
   "id": "42b95a3b",
   "metadata": {
    "papermill": {
     "duration": 0.03812,
     "end_time": "2022-08-03T18:31:35.330503",
     "exception": false,
     "start_time": "2022-08-03T18:31:35.292383",
     "status": "completed"
    },
    "tags": []
   },
   "source": [
    "### Лемматизирую текст"
   ]
  },
  {
   "cell_type": "code",
   "execution_count": 26,
   "id": "4deb247b",
   "metadata": {
    "execution": {
     "iopub.execute_input": "2022-08-03T18:31:35.412950Z",
     "iopub.status.busy": "2022-08-03T18:31:35.412410Z",
     "iopub.status.idle": "2022-08-03T18:31:35.433216Z",
     "shell.execute_reply": "2022-08-03T18:31:35.431797Z"
    },
    "papermill": {
     "duration": 0.064098,
     "end_time": "2022-08-03T18:31:35.435860",
     "exception": false,
     "start_time": "2022-08-03T18:31:35.371762",
     "status": "completed"
    },
    "tags": []
   },
   "outputs": [],
   "source": [
    "import pymorphy2 "
   ]
  },
  {
   "cell_type": "code",
   "execution_count": 27,
   "id": "333ae1e1",
   "metadata": {
    "execution": {
     "iopub.execute_input": "2022-08-03T18:31:35.514943Z",
     "iopub.status.busy": "2022-08-03T18:31:35.513791Z",
     "iopub.status.idle": "2022-08-03T18:31:35.826016Z",
     "shell.execute_reply": "2022-08-03T18:31:35.824634Z"
    },
    "papermill": {
     "duration": 0.354198,
     "end_time": "2022-08-03T18:31:35.828885",
     "exception": false,
     "start_time": "2022-08-03T18:31:35.474687",
     "status": "completed"
    },
    "tags": []
   },
   "outputs": [],
   "source": [
    "morph = pymorphy2.MorphAnalyzer()"
   ]
  },
  {
   "cell_type": "code",
   "execution_count": 28,
   "id": "2a5f8a37",
   "metadata": {
    "execution": {
     "iopub.execute_input": "2022-08-03T18:31:35.911404Z",
     "iopub.status.busy": "2022-08-03T18:31:35.909214Z",
     "iopub.status.idle": "2022-08-03T18:31:35.919600Z",
     "shell.execute_reply": "2022-08-03T18:31:35.918489Z"
    },
    "papermill": {
     "duration": 0.055948,
     "end_time": "2022-08-03T18:31:35.922961",
     "exception": false,
     "start_time": "2022-08-03T18:31:35.867013",
     "status": "completed"
    },
    "tags": []
   },
   "outputs": [],
   "source": [
    "def lem(x):\n",
    "    #x = list(x.split())\n",
    "    x = [morph.parse(w)[0].normal_form for w in x]\n",
    "    return x"
   ]
  },
  {
   "cell_type": "code",
   "execution_count": 29,
   "id": "ef45549c",
   "metadata": {
    "execution": {
     "iopub.execute_input": "2022-08-03T18:31:36.001761Z",
     "iopub.status.busy": "2022-08-03T18:31:36.000967Z",
     "iopub.status.idle": "2022-08-03T18:31:36.007096Z",
     "shell.execute_reply": "2022-08-03T18:31:36.006079Z"
    },
    "papermill": {
     "duration": 0.047483,
     "end_time": "2022-08-03T18:31:36.010117",
     "exception": false,
     "start_time": "2022-08-03T18:31:35.962634",
     "status": "completed"
    },
    "tags": []
   },
   "outputs": [],
   "source": [
    "#train_cuda = cudf.DataFrame(train)"
   ]
  },
  {
   "cell_type": "code",
   "execution_count": 30,
   "id": "d6af9d77",
   "metadata": {
    "execution": {
     "iopub.execute_input": "2022-08-03T18:31:36.087965Z",
     "iopub.status.busy": "2022-08-03T18:31:36.087174Z",
     "iopub.status.idle": "2022-08-03T18:35:31.686251Z",
     "shell.execute_reply": "2022-08-03T18:35:31.684411Z"
    },
    "papermill": {
     "duration": 235.642216,
     "end_time": "2022-08-03T18:35:31.689838",
     "exception": false,
     "start_time": "2022-08-03T18:31:36.047622",
     "status": "completed"
    },
    "tags": []
   },
   "outputs": [
    {
     "name": "stderr",
     "output_type": "stream",
     "text": [
      "100%|██████████| 60000/60000 [03:55<00:00, 254.74it/s]\n"
     ]
    }
   ],
   "source": [
    "train['text_lem'] = train['text_lem'].progress_apply(lem)"
   ]
  },
  {
   "cell_type": "code",
   "execution_count": 31,
   "id": "35043326",
   "metadata": {
    "execution": {
     "iopub.execute_input": "2022-08-03T18:35:32.138881Z",
     "iopub.status.busy": "2022-08-03T18:35:32.137977Z",
     "iopub.status.idle": "2022-08-03T18:35:32.154453Z",
     "shell.execute_reply": "2022-08-03T18:35:32.153326Z"
    },
    "papermill": {
     "duration": 0.191969,
     "end_time": "2022-08-03T18:35:32.156945",
     "exception": false,
     "start_time": "2022-08-03T18:35:31.964976",
     "status": "completed"
    },
    "tags": []
   },
   "outputs": [
    {
     "data": {
      "text/html": [
       "<div>\n",
       "<style scoped>\n",
       "    .dataframe tbody tr th:only-of-type {\n",
       "        vertical-align: middle;\n",
       "    }\n",
       "\n",
       "    .dataframe tbody tr th {\n",
       "        vertical-align: top;\n",
       "    }\n",
       "\n",
       "    .dataframe thead th {\n",
       "        text-align: right;\n",
       "    }\n",
       "</style>\n",
       "<table border=\"1\" class=\"dataframe\">\n",
       "  <thead>\n",
       "    <tr style=\"text-align: right;\">\n",
       "      <th></th>\n",
       "      <th>text</th>\n",
       "      <th>class</th>\n",
       "      <th>text_lem</th>\n",
       "    </tr>\n",
       "  </thead>\n",
       "  <tbody>\n",
       "    <tr>\n",
       "      <th>45650</th>\n",
       "      <td>Федеральный закон \"О противодействии экстремис...</td>\n",
       "      <td>Экстремизм</td>\n",
       "      <td>[федеральный, закон, противодействие, экстреми...</td>\n",
       "    </tr>\n",
       "    <tr>\n",
       "      <th>7551</th>\n",
       "      <td>Предприниматель заявлял о конфликте с местными...</td>\n",
       "      <td>O</td>\n",
       "      <td>[предприниматель, заявлять, конфликт, местный,...</td>\n",
       "    </tr>\n",
       "    <tr>\n",
       "      <th>23311</th>\n",
       "      <td>\"Точной даты пока нет\", - сказал представитель...</td>\n",
       "      <td>O</td>\n",
       "      <td>[точный, дата, пока, сказать, представитель, к...</td>\n",
       "    </tr>\n",
       "  </tbody>\n",
       "</table>\n",
       "</div>"
      ],
      "text/plain": [
       "                                                    text       class  \\\n",
       "45650  Федеральный закон \"О противодействии экстремис...  Экстремизм   \n",
       "7551   Предприниматель заявлял о конфликте с местными...           O   \n",
       "23311  \"Точной даты пока нет\", - сказал представитель...           O   \n",
       "\n",
       "                                                text_lem  \n",
       "45650  [федеральный, закон, противодействие, экстреми...  \n",
       "7551   [предприниматель, заявлять, конфликт, местный,...  \n",
       "23311  [точный, дата, пока, сказать, представитель, к...  "
      ]
     },
     "execution_count": 31,
     "metadata": {},
     "output_type": "execute_result"
    }
   ],
   "source": [
    "train.sample(3)"
   ]
  },
  {
   "cell_type": "code",
   "execution_count": 32,
   "id": "f628576b",
   "metadata": {
    "execution": {
     "iopub.execute_input": "2022-08-03T18:35:32.502465Z",
     "iopub.status.busy": "2022-08-03T18:35:32.501587Z",
     "iopub.status.idle": "2022-08-03T18:35:32.506061Z",
     "shell.execute_reply": "2022-08-03T18:35:32.505080Z"
    },
    "papermill": {
     "duration": 0.181957,
     "end_time": "2022-08-03T18:35:32.508778",
     "exception": false,
     "start_time": "2022-08-03T18:35:32.326821",
     "status": "completed"
    },
    "tags": []
   },
   "outputs": [],
   "source": [
    "#%time\n",
    "#train_cuda['text_lem'] = train['text'].apply(lem)"
   ]
  },
  {
   "cell_type": "code",
   "execution_count": 33,
   "id": "08a106a1",
   "metadata": {
    "execution": {
     "iopub.execute_input": "2022-08-03T18:35:32.879907Z",
     "iopub.status.busy": "2022-08-03T18:35:32.879082Z",
     "iopub.status.idle": "2022-08-03T18:35:34.958929Z",
     "shell.execute_reply": "2022-08-03T18:35:34.957430Z"
    },
    "papermill": {
     "duration": 2.264487,
     "end_time": "2022-08-03T18:35:34.962425",
     "exception": false,
     "start_time": "2022-08-03T18:35:32.697938",
     "status": "completed"
    },
    "tags": []
   },
   "outputs": [
    {
     "name": "stderr",
     "output_type": "stream",
     "text": [
      "100%|██████████| 60000/60000 [00:02<00:00, 29015.14it/s]\n"
     ]
    }
   ],
   "source": [
    "unique_words = {}\n",
    "for i in tqdm(train.index):\n",
    "    for j in set(train['text_lem'].loc[i]):\n",
    "        if len(j) == 1:\n",
    "            pass\n",
    "        else:\n",
    "            if j in unique_words.keys():\n",
    "                unique_words[j] += 1\n",
    "            else:\n",
    "                unique_words[j] = 1"
   ]
  },
  {
   "cell_type": "code",
   "execution_count": 34,
   "id": "dc22a710",
   "metadata": {
    "execution": {
     "iopub.execute_input": "2022-08-03T18:35:35.340650Z",
     "iopub.status.busy": "2022-08-03T18:35:35.340062Z",
     "iopub.status.idle": "2022-08-03T18:35:35.346757Z",
     "shell.execute_reply": "2022-08-03T18:35:35.345043Z"
    },
    "papermill": {
     "duration": 0.193484,
     "end_time": "2022-08-03T18:35:35.349705",
     "exception": false,
     "start_time": "2022-08-03T18:35:35.156221",
     "status": "completed"
    },
    "tags": []
   },
   "outputs": [],
   "source": [
    "#unique_words = {}\n",
    "#for i in tqdm(train_cuda.index):\n",
    "#    for j in set(train_cuda['text_lem'].loc[i]):\n",
    "#        if j in unique_words.keys():\n",
    "#            unique_words[j] += 1\n",
    "#        else:\n",
    "#            unique_words[j] = 1"
   ]
  },
  {
   "cell_type": "code",
   "execution_count": 35,
   "id": "f6a00880",
   "metadata": {
    "execution": {
     "iopub.execute_input": "2022-08-03T18:35:35.709013Z",
     "iopub.status.busy": "2022-08-03T18:35:35.708403Z",
     "iopub.status.idle": "2022-08-03T18:35:35.722273Z",
     "shell.execute_reply": "2022-08-03T18:35:35.720918Z"
    },
    "papermill": {
     "duration": 0.194461,
     "end_time": "2022-08-03T18:35:35.724778",
     "exception": false,
     "start_time": "2022-08-03T18:35:35.530317",
     "status": "completed"
    },
    "tags": []
   },
   "outputs": [
    {
     "data": {
      "text/plain": [
       "19"
      ]
     },
     "execution_count": 35,
     "metadata": {},
     "output_type": "execute_result"
    }
   ],
   "source": [
    "sorted(list(unique_words.values()), reverse = True)[5000]"
   ]
  },
  {
   "cell_type": "code",
   "execution_count": 36,
   "id": "8cc7cdf6",
   "metadata": {
    "execution": {
     "iopub.execute_input": "2022-08-03T18:35:36.083130Z",
     "iopub.status.busy": "2022-08-03T18:35:36.082622Z",
     "iopub.status.idle": "2022-08-03T18:35:36.088279Z",
     "shell.execute_reply": "2022-08-03T18:35:36.086964Z"
    },
    "papermill": {
     "duration": 0.190527,
     "end_time": "2022-08-03T18:35:36.091286",
     "exception": false,
     "start_time": "2022-08-03T18:35:35.900759",
     "status": "completed"
    },
    "tags": []
   },
   "outputs": [],
   "source": [
    "#train = pd.DataFrame(train_cuda)"
   ]
  },
  {
   "cell_type": "code",
   "execution_count": 37,
   "id": "98287671",
   "metadata": {
    "execution": {
     "iopub.execute_input": "2022-08-03T18:35:36.544413Z",
     "iopub.status.busy": "2022-08-03T18:35:36.543907Z",
     "iopub.status.idle": "2022-08-03T18:35:36.600374Z",
     "shell.execute_reply": "2022-08-03T18:35:36.599218Z"
    },
    "papermill": {
     "duration": 0.241216,
     "end_time": "2022-08-03T18:35:36.603822",
     "exception": false,
     "start_time": "2022-08-03T18:35:36.362606",
     "status": "completed"
    },
    "tags": []
   },
   "outputs": [
    {
     "name": "stderr",
     "output_type": "stream",
     "text": [
      "100%|██████████| 52938/52938 [00:00<00:00, 1169206.00it/s]\n"
     ]
    }
   ],
   "source": [
    "pop_words = []\n",
    "for i in tqdm(unique_words.keys()):\n",
    "    if unique_words[i] < 4:\n",
    "        pass\n",
    "    else:\n",
    "        pop_words.append(i)"
   ]
  },
  {
   "cell_type": "code",
   "execution_count": 38,
   "id": "ead06cfb",
   "metadata": {
    "collapsed": true,
    "execution": {
     "iopub.execute_input": "2022-08-03T18:35:37.001807Z",
     "iopub.status.busy": "2022-08-03T18:35:37.000610Z",
     "iopub.status.idle": "2022-08-03T18:35:37.031718Z",
     "shell.execute_reply": "2022-08-03T18:35:37.030624Z"
    },
    "jupyter": {
     "outputs_hidden": true
    },
    "papermill": {
     "duration": 0.25599,
     "end_time": "2022-08-03T18:35:37.035378",
     "exception": false,
     "start_time": "2022-08-03T18:35:36.779388",
     "status": "completed"
    },
    "tags": []
   },
   "outputs": [
    {
     "data": {
      "text/plain": [
       "['должный',\n",
       " 'лично',\n",
       " 'кудрин',\n",
       " 'нацпроект',\n",
       " 'продолжать',\n",
       " 'он',\n",
       " 'например',\n",
       " 'цель',\n",
       " 'вестись',\n",
       " 'работа',\n",
       " 'уверенный',\n",
       " 'обязать',\n",
       " 'задача',\n",
       " 'другой',\n",
       " 'сотрудник',\n",
       " 'взгляд',\n",
       " 'пользование',\n",
       " 'хранить',\n",
       " '1го',\n",
       " 'служебный',\n",
       " 'поездка',\n",
       " 'секретно',\n",
       " 'анкета',\n",
       " 'отдел',\n",
       " 'специальный',\n",
       " 'допуск',\n",
       " 'информация',\n",
       " 'политический',\n",
       " 'документ',\n",
       " 'работник',\n",
       " 'гриф',\n",
       " 'отмечать',\n",
       " 'граница',\n",
       " 'сирийский',\n",
       " 'это',\n",
       " 'отметить',\n",
       " 'необходимо',\n",
       " 'пока',\n",
       " 'активный',\n",
       " 'мера',\n",
       " 'служба',\n",
       " 'принимать',\n",
       " 'справляться',\n",
       " 'безопасность',\n",
       " 'тело',\n",
       " 'жертва',\n",
       " 'днк',\n",
       " 'совпасть',\n",
       " 'сообщить',\n",
       " 'найти',\n",
       " 'мужчина',\n",
       " 'образец',\n",
       " 'мвд',\n",
       " 'джена',\n",
       " 'пресссекретарить',\n",
       " 'дом',\n",
       " 'среда',\n",
       " 'регулярный',\n",
       " 'брифинг',\n",
       " 'журналист',\n",
       " 'псак',\n",
       " 'белый',\n",
       " 'обжаловать',\n",
       " 'добавить',\n",
       " 'быть',\n",
       " 'приговор',\n",
       " 'верхнекамский',\n",
       " 'район',\n",
       " 'милицейский',\n",
       " 'произойти',\n",
       " 'пожар',\n",
       " 'автомобиль',\n",
       " 'кирс',\n",
       " 'ул',\n",
       " 'госдума',\n",
       " 'брат',\n",
       " 'арестовать',\n",
       " 'кража',\n",
       " 'новость',\n",
       " 'фото',\n",
       " 'прокомментировать',\n",
       " 'уралинформбюро',\n",
       " 'альшевский',\n",
       " 'депутат',\n",
       " 'ласточка',\n",
       " 'такой',\n",
       " 'первый',\n",
       " 'баж',\n",
       " 'чувствительный',\n",
       " 'юрист',\n",
       " 'говорить',\n",
       " 'следствие',\n",
       " 'прикрытие',\n",
       " 'канада',\n",
       " 'сведение',\n",
       " 'вооружение',\n",
       " 'работать',\n",
       " 'российский',\n",
       " 'версия',\n",
       " 'британский',\n",
       " 'который',\n",
       " 'консалтинговый',\n",
       " 'фирма',\n",
       " 'спецслужба',\n",
       " 'секретный',\n",
       " 'сутягин',\n",
       " 'передать',\n",
       " 'игорь',\n",
       " 'сша',\n",
       " 'институт',\n",
       " 'суд',\n",
       " 'также',\n",
       " 'адвокат',\n",
       " 'указать',\n",
       " 'сам',\n",
       " 'заключение',\n",
       " 'хотя',\n",
       " 'материал',\n",
       " 'отсутствовать',\n",
       " 'поступить',\n",
       " 'представить',\n",
       " 'соглашение',\n",
       " 'место',\n",
       " 'министр',\n",
       " 'связь',\n",
       " 'сказать',\n",
       " 'должность',\n",
       " 'крым',\n",
       " 'арина',\n",
       " 'вадимович',\n",
       " 'освобождение',\n",
       " 'утрата',\n",
       " 'культура',\n",
       " 'доверие',\n",
       " 'аксёнов',\n",
       " 'указ',\n",
       " 'новосельский',\n",
       " 'сообщение',\n",
       " 'республика',\n",
       " 'подписать',\n",
       " 'уточнять',\n",
       " 'ответственность',\n",
       " 'административный',\n",
       " 'отправить',\n",
       " 'следственный',\n",
       " 'комитет',\n",
       " 'проверка',\n",
       " 'хулиганство',\n",
       " 'поступок',\n",
       " 'полиция',\n",
       " 'подпадать',\n",
       " 'помимо',\n",
       " 'грозить',\n",
       " 'блогер',\n",
       " 'риа',\n",
       " 'статья',\n",
       " 'уголовный',\n",
       " 'писать',\n",
       " 'дело',\n",
       " 'интересный',\n",
       " 'книга',\n",
       " 'читать',\n",
       " 'какой',\n",
       " 'целое',\n",
       " 'екатеринбургский',\n",
       " 'этаж',\n",
       " 'человек',\n",
       " 'пожарноспасательный',\n",
       " 'заместитель',\n",
       " 'гарнизон',\n",
       " 'мочь',\n",
       " 'паника',\n",
       " 'сообщать',\n",
       " 'начальник',\n",
       " 'анатолий',\n",
       " 'верхний',\n",
       " 'гибель',\n",
       " 'привести',\n",
       " 'тасс',\n",
       " 'зал',\n",
       " 'корреспондент',\n",
       " 'пленум',\n",
       " 'самостоятельный',\n",
       " 'верховный',\n",
       " 'рф',\n",
       " 'основание',\n",
       " 'возвращение',\n",
       " 'прокурор',\n",
       " 'являться',\n",
       " 'прессслужба',\n",
       " 'область',\n",
       " 'кемеровский',\n",
       " 'понедельник',\n",
       " 'уфсб',\n",
       " 'трибунал',\n",
       " 'заметить',\n",
       " 'немец',\n",
       " 'включить',\n",
       " 'кстати',\n",
       " 'нацизм',\n",
       " 'убить',\n",
       " 'соколов',\n",
       " 'преступление',\n",
       " 'нюрнбергский',\n",
       " 'польский',\n",
       " 'военнопленный',\n",
       " 'михаил',\n",
       " 'советский',\n",
       " 'отвергнуть',\n",
       " 'карьера',\n",
       " 'практика',\n",
       " 'взятка',\n",
       " 'показывать',\n",
       " 'судья',\n",
       " 'конец',\n",
       " 'маленький',\n",
       " 'супруг',\n",
       " 'лётчик',\n",
       " 'ярошенко',\n",
       " 'рассказать',\n",
       " 'виктория',\n",
       " 'скр',\n",
       " 'получение',\n",
       " 'возбудить',\n",
       " 'управление',\n",
       " 'региональный',\n",
       " 'подозрение',\n",
       " 'ук',\n",
       " 'следователь',\n",
       " 'иркутский',\n",
       " 'часть',\n",
       " '290',\n",
       " 'аскар',\n",
       " 'заявить',\n",
       " 'согласный',\n",
       " 'требование',\n",
       " 'особо',\n",
       " 'крупный',\n",
       " 'привезти',\n",
       " 'предъявить',\n",
       " 'обвинение',\n",
       " 'режиссёр',\n",
       " 'домашний',\n",
       " 'арест',\n",
       " 'мошенничество',\n",
       " 'размер',\n",
       " 'москва',\n",
       " 'нс',\n",
       " 'здание',\n",
       " 'разделиться',\n",
       " 'силовой',\n",
       " '23',\n",
       " 'затем',\n",
       " 'совершить',\n",
       " 'группа',\n",
       " 'боевик',\n",
       " 'уральск',\n",
       " 'одновременный',\n",
       " 'структура',\n",
       " 'атака',\n",
       " 'герат',\n",
       " 'слово',\n",
       " 'понести',\n",
       " 'бадгис',\n",
       " 'операция',\n",
       " 'нангархар',\n",
       " 'газни',\n",
       " 'потеря',\n",
       " 'провинция',\n",
       " 'балха',\n",
       " 'результат',\n",
       " '16',\n",
       " 'баглан',\n",
       " 'партизанский',\n",
       " 'тахара',\n",
       " 'парваный',\n",
       " 'против',\n",
       " 'кабул',\n",
       " 'лагман',\n",
       " 'ахмади',\n",
       " 'гора',\n",
       " 'фарьябнуть',\n",
       " 'капис',\n",
       " 'талибан',\n",
       " 'кунары',\n",
       " 'панджшер',\n",
       " 'успешный',\n",
       " 'звонить',\n",
       " 'сентябрь',\n",
       " 'данные',\n",
       " '14',\n",
       " 'родственник',\n",
       " 'последний',\n",
       " 'аброр',\n",
       " 'сбор',\n",
       " 'ред',\n",
       " 'потенциально',\n",
       " 'переводить',\n",
       " 'привлечь',\n",
       " 'благотворительный',\n",
       " 'получаться',\n",
       " 'этот',\n",
       " 'нвф',\n",
       " 'коготь',\n",
       " 'участие',\n",
       " 'обвинить',\n",
       " 'деньга',\n",
       " 'выясниться',\n",
       " 'организатор',\n",
       " 'украина',\n",
       " 'зеленский',\n",
       " 'нужно',\n",
       " 'задержание',\n",
       " 'азаттык',\n",
       " 'встретиться',\n",
       " 'орозайый',\n",
       " 'позволить',\n",
       " 'нарматовый',\n",
       " 'подзащитный',\n",
       " 'попасть',\n",
       " 'действовать',\n",
       " 'ваш',\n",
       " 'решительно',\n",
       " 'экстремистский',\n",
       " 'влияние',\n",
       " 'подозревать',\n",
       " 'организация',\n",
       " 'ребёнок',\n",
       " 'быстро',\n",
       " 'медик',\n",
       " 'исчезнуть',\n",
       " 'назад',\n",
       " 'алматинский',\n",
       " 'прививочный',\n",
       " 'пункт',\n",
       " 'китайский',\n",
       " 'неделя',\n",
       " 'вакцина',\n",
       " 'однако',\n",
       " '500',\n",
       " 'рубль',\n",
       " 'югорский',\n",
       " 'тысяча',\n",
       " 'варьироваться',\n",
       " 'сумма',\n",
       " 'су',\n",
       " '10',\n",
       " 'окружать',\n",
       " 'большинство',\n",
       " 'совет',\n",
       " 'столица',\n",
       " 'заседание',\n",
       " 'захватить',\n",
       " 'оон',\n",
       " 'аннуср',\n",
       " 'деэскалация',\n",
       " 'террорист',\n",
       " 'группировка',\n",
       " 'зона',\n",
       " 'кулить',\n",
       " 'джебхата',\n",
       " 'обстрел',\n",
       " '12',\n",
       " 'запретить',\n",
       " 'идлибский',\n",
       " 'прибыль',\n",
       " '2021',\n",
       " 'период',\n",
       " 'банк',\n",
       " 'финансовый',\n",
       " 'млн',\n",
       " 'евро',\n",
       " 'снизиться',\n",
       " 'отчёт',\n",
       " 'латвия',\n",
       " 'шесть',\n",
       " 'составить',\n",
       " 'месяц',\n",
       " '105',\n",
       " 'год',\n",
       " 'согласно',\n",
       " '2020',\n",
       " '114',\n",
       " 'главный',\n",
       " 'учреждение',\n",
       " 'специалист',\n",
       " 'получить',\n",
       " 'укс',\n",
       " 'интерес',\n",
       " '650',\n",
       " 'тыс',\n",
       " 'представлять',\n",
       " 'подрядчик',\n",
       " 'лицо',\n",
       " 'житель',\n",
       " 'должностной',\n",
       " 'ноябрь',\n",
       " '26',\n",
       " 'генпрокуратура',\n",
       " 'доказательство',\n",
       " 'исчерпывающий',\n",
       " 'гособвинитель',\n",
       " 'обоснованность',\n",
       " 'штат',\n",
       " 'северовосточный',\n",
       " 'вертолёт',\n",
       " 'рават',\n",
       " 'выжить',\n",
       " '2015',\n",
       " 'крушение',\n",
       " 'путём',\n",
       " 'ранний',\n",
       " 'влиять',\n",
       " 'публичный',\n",
       " 'любарский',\n",
       " 'застройщик',\n",
       " 'слушание',\n",
       " 'пытаться',\n",
       " 'собрание',\n",
       " 'свой',\n",
       " 'последователь',\n",
       " 'хасан',\n",
       " 'сеть',\n",
       " 'считать',\n",
       " 'оба',\n",
       " 'владелец',\n",
       " 'полицейский',\n",
       " 'член',\n",
       " 'террористический',\n",
       " 'ингушетия',\n",
       " 'сообщество',\n",
       " 'полонкоев',\n",
       " 'нападение',\n",
       " 'бизнесмен',\n",
       " 'создатель',\n",
       " 'песок',\n",
       " 'дальнейший',\n",
       " 'развитие',\n",
       " 'взаимодействие',\n",
       " 'мнение',\n",
       " 'план',\n",
       " 'обменяться',\n",
       " 'сторона',\n",
       " 'стратегический',\n",
       " 'президент',\n",
       " 'попытка',\n",
       " 'стабилизировать',\n",
       " 'соперник',\n",
       " 'россия',\n",
       " 'ресурс',\n",
       " 'бесконечный',\n",
       " 'миллион',\n",
       " 'известный',\n",
       " 'хотеть',\n",
       " 'истинный',\n",
       " 'доллар',\n",
       " 'байден',\n",
       " 'новый',\n",
       " 'ужасный',\n",
       " 'китай',\n",
       " 'стабилизация',\n",
       " 'наш',\n",
       " 'полномочие',\n",
       " 'создать',\n",
       " 'иметься',\n",
       " 'земельный',\n",
       " 'комиссия',\n",
       " 'атаковать',\n",
       " 'sohr',\n",
       " 'неизвестный',\n",
       " 'самолёт',\n",
       " 'около',\n",
       " 'населить',\n",
       " 'индия',\n",
       " 'процесс',\n",
       " 'возглавлять',\n",
       " 'последовательный',\n",
       " 'осуществлять',\n",
       " 'мирный',\n",
       " 'сторонник',\n",
       " 'афганец',\n",
       " 'сизый',\n",
       " 'остаться',\n",
       " 'районный',\n",
       " 'октябрь',\n",
       " 'самарский',\n",
       " '19',\n",
       " 'выстроить',\n",
       " 'заключить',\n",
       " 'встреча',\n",
       " 'путин',\n",
       " 'ошибка',\n",
       " 'очень',\n",
       " 'условие',\n",
       " 'серьёзный',\n",
       " 'частность',\n",
       " 'предварительный',\n",
       " 'признать',\n",
       " 'лишение',\n",
       " 'свобода',\n",
       " 'колония',\n",
       " 'отбывание',\n",
       " 'строгий',\n",
       " 'назначить',\n",
       " 'екатерина',\n",
       " 'пять',\n",
       " 'наказание',\n",
       " 'вид',\n",
       " 'объявить',\n",
       " 'режим',\n",
       " 'дать',\n",
       " 'передавать',\n",
       " 'апрель',\n",
       " 'отношение',\n",
       " 'приводить',\n",
       " 'обстоятельство',\n",
       " 'избрать',\n",
       " 'пресечение',\n",
       " 'постановить',\n",
       " 'стража',\n",
       " '2017',\n",
       " 'учитывать',\n",
       " 'польза',\n",
       " 'исход',\n",
       " 'заинтересовать',\n",
       " 'орган',\n",
       " 'трифонов',\n",
       " 'свердловский',\n",
       " 'гимрановый',\n",
       " 'прокуратура',\n",
       " 'поисковый',\n",
       " 'соответствие',\n",
       " 'примред',\n",
       " 'закон',\n",
       " 'яндекс',\n",
       " 'скрытый',\n",
       " 'федеральный',\n",
       " 'поиск',\n",
       " 'запрос',\n",
       " 'пояснение',\n",
       " 'общество',\n",
       " 'образ',\n",
       " 'привлекательный',\n",
       " 'криминал',\n",
       " 'формировать',\n",
       " 'заехать',\n",
       " 'сулейман',\n",
       " 'сокрытие',\n",
       " 'раскрытие',\n",
       " 'родитель',\n",
       " 'ибрагим',\n",
       " 'кроме',\n",
       " 'шок',\n",
       " 'протасевич',\n",
       " 'отец',\n",
       " 'интервью',\n",
       " 'роман',\n",
       " 'tutby',\n",
       " 'финансирование',\n",
       " 'веровать',\n",
       " 'деятельность',\n",
       " 'август',\n",
       " 'прохождение',\n",
       " 'ссылка',\n",
       " 'интерфакс',\n",
       " 'осуществление',\n",
       " 'обучение',\n",
       " 'хмао',\n",
       " 'самый',\n",
       " 'четыре',\n",
       " 'погибнуть',\n",
       " 'кипр',\n",
       " 'десятилетие',\n",
       " 'малый',\n",
       " 'сильный',\n",
       " 'лето',\n",
       " 'разрушить',\n",
       " 'подземный',\n",
       " 'погибший',\n",
       " 'толчок',\n",
       " 'порнография',\n",
       " 'провести',\n",
       " 'обвинять',\n",
       " 'паблик',\n",
       " '29',\n",
       " 'далее',\n",
       " 'клевета',\n",
       " 'вымогательство',\n",
       " 'омбудсмен',\n",
       " 'парк',\n",
       " 'воронцов',\n",
       " 'распространение',\n",
       " 'владимир',\n",
       " 'общий',\n",
       " 'стоимость',\n",
       " 'квартира',\n",
       " 'сообщник',\n",
       " 'мавридти',\n",
       " 'переписать',\n",
       " '55',\n",
       " 'пытать',\n",
       " 'удерживать',\n",
       " 'сосед',\n",
       " 'беларусь',\n",
       " 'выстраивать',\n",
       " 'подчеркнуть',\n",
       " 'союз',\n",
       " 'добрый',\n",
       " 'европейский',\n",
       " 'александр',\n",
       " 'лукашенко',\n",
       " 'анонимность',\n",
       " 'вечером',\n",
       " 'поздно',\n",
       " 'дверь',\n",
       " 'форма',\n",
       " 'ждать',\n",
       " 'пересмотреть',\n",
       " 'убийство',\n",
       " 'осудить',\n",
       " 'потребовать',\n",
       " 'маркелов',\n",
       " 'бабуров',\n",
       " 'еспча',\n",
       " 'страна',\n",
       " 'старый',\n",
       " 'американский',\n",
       " 'журнал',\n",
       " 'описывать',\n",
       " 'агентство',\n",
       " 'pajhwok',\n",
       " 'афганский',\n",
       " 'кампания',\n",
       " 'массовый',\n",
       " 'утверждение',\n",
       " 'возможность',\n",
       " 'повод',\n",
       " 'отзывный',\n",
       " 'сообщаться',\n",
       " 'проведение',\n",
       " 'пентагон',\n",
       " 'сайт',\n",
       " 'стенограмма',\n",
       " 'опубликовать',\n",
       " 'ведомость',\n",
       " 'бывший',\n",
       " 'возбуждение',\n",
       " 'опровергнуть',\n",
       " 'губернатор',\n",
       " 'сожалеть',\n",
       " 'решение',\n",
       " 'принять',\n",
       " 'множество',\n",
       " 'искренне',\n",
       " 'историк',\n",
       " 'архитектор',\n",
       " 'исследователь',\n",
       " 'мы',\n",
       " 'история',\n",
       " 'дмитрий',\n",
       " 'источник',\n",
       " 'кубань',\n",
       " 'голос',\n",
       " 'instagram',\n",
       " 'глава',\n",
       " 'олег',\n",
       " 'страница',\n",
       " 'регион',\n",
       " 'бизнес',\n",
       " 'online',\n",
       " 'раскаяться',\n",
       " 'чиновник',\n",
       " '2018',\n",
       " 'удача',\n",
       " '13',\n",
       " '11',\n",
       " 'солдат',\n",
       " 'губопик',\n",
       " 'причём',\n",
       " 'никулинский',\n",
       " 'подсудимый',\n",
       " 'добрынин',\n",
       " 'алексей',\n",
       " 'делить',\n",
       " 'кирсан',\n",
       " 'предприниматель',\n",
       " 'запросить',\n",
       " 'скамья',\n",
       " 'вершинин',\n",
       " 'наслать',\n",
       " 'рбк',\n",
       " 'оценить',\n",
       " 'мельников',\n",
       " 'лариса',\n",
       " 'актив',\n",
       " 'маркус',\n",
       " 'георгий',\n",
       " 'кейс',\n",
       " '100',\n",
       " 'сегодня',\n",
       " 'римский',\n",
       " '195',\n",
       " 'время',\n",
       " 'целесообразность',\n",
       " 'военный',\n",
       " 'пресс',\n",
       " 'беседа',\n",
       " 'ассошиэйтед',\n",
       " 'следовать',\n",
       " 'высказаться',\n",
       " 'финляндия',\n",
       " 'расширение',\n",
       " 'характер',\n",
       " 'контакт',\n",
       " 'милль',\n",
       " 'присвоение',\n",
       " 'янукович',\n",
       " 'отказать',\n",
       " 'нарушение',\n",
       " 'досудебный',\n",
       " 'межигорье',\n",
       " 'вакса',\n",
       " 'заочный',\n",
       " 'расследование',\n",
       " 'расти',\n",
       " 'выручка',\n",
       " 'отчитаться',\n",
       " 'убыток',\n",
       " 'девятый',\n",
       " 'постановление',\n",
       " 'апелляционный',\n",
       " 'отменить',\n",
       " 'определение',\n",
       " 'конкурсный',\n",
       " 'ооо',\n",
       " 'золотой',\n",
       " 'настоящий',\n",
       " 'управлять',\n",
       " 'арбитражный',\n",
       " 'гореть',\n",
       " 'весь',\n",
       " 'якутия',\n",
       " 'га',\n",
       " 'охватить',\n",
       " '31',\n",
       " 'огонь',\n",
       " '34',\n",
       " 'территория',\n",
       " 'краевой',\n",
       " 'вторник',\n",
       " 'саха',\n",
       " 'власть',\n",
       " 'директор',\n",
       " 'средство',\n",
       " 'злоупотребление',\n",
       " 'профессиональный',\n",
       " 'тайна',\n",
       " 'бюро',\n",
       " 'ди',\n",
       " 'разлив',\n",
       " 'колва',\n",
       " 'девять',\n",
       " 'нефтепродукт',\n",
       " 'тонна',\n",
       " 'река',\n",
       " 'вооружённый',\n",
       " 'хорасана',\n",
       " 'исламский',\n",
       " 'reuters',\n",
       " 'сила',\n",
       " 'командование',\n",
       " 'государство',\n",
       " 'наделить',\n",
       " 'необходимый',\n",
       " 'строительный',\n",
       " 'forbes',\n",
       " 'сохранять',\n",
       " 'сей',\n",
       " 'пора',\n",
       " 'рынок',\n",
       " 'оправдательный',\n",
       " 'алёна',\n",
       " 'экспертиза',\n",
       " 'вс',\n",
       " 'белогорск',\n",
       " 'город',\n",
       " 'администрация',\n",
       " 'усман',\n",
       " 'звать',\n",
       " 'bloomberg',\n",
       " 'студент',\n",
       " '18',\n",
       " '27',\n",
       " 'производственный',\n",
       " 'участок',\n",
       " 'взять',\n",
       " 'шахта',\n",
       " 'андрей',\n",
       " 'объект',\n",
       " 'промышленный',\n",
       " 'вменять',\n",
       " 'сергей',\n",
       " 'опзж',\n",
       " 'оппозиционный',\n",
       " 'превратить',\n",
       " 'украинский',\n",
       " 'ранее',\n",
       " 'политик',\n",
       " 'заложник',\n",
       " 'наводнение',\n",
       " 'землетрясение',\n",
       " 'сулавеси',\n",
       " 'индонезийский',\n",
       " 'число',\n",
       " 'остров',\n",
       " 'суммарный',\n",
       " '96',\n",
       " 'гражданский',\n",
       " 'правоохранительный',\n",
       " 'среди',\n",
       " 'население',\n",
       " 'фсб',\n",
       " 'пострадать',\n",
       " 'флаг',\n",
       " 'установить',\n",
       " 'штабквартира',\n",
       " 'движение',\n",
       " 'afp',\n",
       " 'офицер',\n",
       " 'давление',\n",
       " 'свидетель',\n",
       " 'скрыться',\n",
       " 'оказать',\n",
       " 'уничтожить',\n",
       " 'правосудие',\n",
       " 'воспользоваться',\n",
       " 'станислав',\n",
       " 'тихонов',\n",
       " 'январь',\n",
       " 'евгения',\n",
       " 'русский',\n",
       " 'журналистка',\n",
       " 'хасис',\n",
       " 'газета',\n",
       " 'борн',\n",
       " '2009',\n",
       " 'националист',\n",
       " 'анастасия',\n",
       " 'никита',\n",
       " 'боевой',\n",
       " 'репутация',\n",
       " 'медиа',\n",
       " 'деловой',\n",
       " 'контроль',\n",
       " 'сми',\n",
       " 'значительный',\n",
       " 'иметь',\n",
       " 'два',\n",
       " 'сотрудница',\n",
       " 'счёт',\n",
       " 'предприятие',\n",
       " 'зко',\n",
       " 'присвоить',\n",
       " 'один',\n",
       " 'департамент',\n",
       " 'сдавать',\n",
       " 'экономический',\n",
       " 'представитель',\n",
       " 'тоо',\n",
       " 'отделение',\n",
       " 'николай',\n",
       " 'записать',\n",
       " 'сытник',\n",
       " 'видеообращение',\n",
       " 'чаус',\n",
       " 'вести',\n",
       " 'ведомство',\n",
       " 'конфликт',\n",
       " 'артём',\n",
       " 'наб',\n",
       " 'оказаться',\n",
       " 'формальный',\n",
       " 'цру',\n",
       " 'юстиция',\n",
       " 'ассанж',\n",
       " 'всякий',\n",
       " 'министерство',\n",
       " 'опасаться',\n",
       " 'удаться',\n",
       " 'отбор',\n",
       " 'задолженность',\n",
       " 'претендент',\n",
       " 'отказ',\n",
       " 'грант',\n",
       " 'критерий',\n",
       " 'причина',\n",
       " 'наличие',\n",
       " 'танкер',\n",
       " 'ст',\n",
       " '425',\n",
       " 'небрежный',\n",
       " 'окружный',\n",
       " 'командир',\n",
       " 'приморский',\n",
       " 'отряд',\n",
       " 'обвинительный',\n",
       " 'корабль',\n",
       " 'факт',\n",
       " 'delfi',\n",
       " 'одесса',\n",
       " 'морской',\n",
       " 'направить',\n",
       " 'акт',\n",
       " 'охрана',\n",
       " 'одесский',\n",
       " 'шадаев',\n",
       " 'максут',\n",
       " 'жилой',\n",
       " 'адрес',\n",
       " 'недостаток',\n",
       " 'площадь',\n",
       " 'электрооборудование',\n",
       " 'замыкание',\n",
       " 'послужить',\n",
       " 'горный',\n",
       " 'квм',\n",
       " 'пер',\n",
       " 'возникновение',\n",
       " 'конструкция',\n",
       " 'короткий',\n",
       " 'северный',\n",
       " '90',\n",
       " 'изготовление',\n",
       " 'пусть',\n",
       " 'рассказывать',\n",
       " 'рс',\n",
       " 'запись',\n",
       " 'предоставить',\n",
       " 'основной',\n",
       " 'кайдалов',\n",
       " 'поймать',\n",
       " 'севастополь',\n",
       " 'шпион',\n",
       " 'диверсант',\n",
       " 'очередь',\n",
       " 'эксминистр',\n",
       " 'хищение',\n",
       " 'середина',\n",
       " 'кузнецов',\n",
       " 'подмосковье',\n",
       " 'финансы',\n",
       " 'декабрь',\n",
       " 'приговорить',\n",
       " 'млрд',\n",
       " 'детский',\n",
       " 'астахов',\n",
       " 'павел',\n",
       " 'антон',\n",
       " 'сын',\n",
       " 'понятно',\n",
       " 'господин',\n",
       " 'оговорить',\n",
       " 'заявлять',\n",
       " 'кляйн',\n",
       " 'любой',\n",
       " 'ситуация',\n",
       " 'центр',\n",
       " 'нкоиноагент',\n",
       " 'светлана',\n",
       " 'защита',\n",
       " 'оправдание',\n",
       " 'прокопьев',\n",
       " 'терроризм',\n",
       " 'право',\n",
       " 'правоохранитель',\n",
       " 'несмотря',\n",
       " 'резко',\n",
       " 'судебный',\n",
       " 'отставка',\n",
       " 'реформа',\n",
       " 'валентина',\n",
       " 'скорый',\n",
       " 'выступать',\n",
       " 'юридический',\n",
       " 'бесплатный',\n",
       " 'помощь',\n",
       " 'гражданин',\n",
       " 'подведомственный',\n",
       " 'законный',\n",
       " 'оказываться',\n",
       " 'государственный',\n",
       " 'исполнительный',\n",
       " 'намереваться',\n",
       " 'коррупция',\n",
       " 'случай',\n",
       " 'багдад',\n",
       " 'изз',\n",
       " 'посольство',\n",
       " 'обнаружение',\n",
       " 'иракский',\n",
       " ...]"
      ]
     },
     "execution_count": 38,
     "metadata": {},
     "output_type": "execute_result"
    }
   ],
   "source": [
    "pop_words"
   ]
  },
  {
   "cell_type": "code",
   "execution_count": 39,
   "id": "e22900fa",
   "metadata": {
    "execution": {
     "iopub.execute_input": "2022-08-03T18:35:37.404356Z",
     "iopub.status.busy": "2022-08-03T18:35:37.403829Z",
     "iopub.status.idle": "2022-08-03T18:35:37.409438Z",
     "shell.execute_reply": "2022-08-03T18:35:37.408468Z"
    },
    "papermill": {
     "duration": 0.192141,
     "end_time": "2022-08-03T18:35:37.412180",
     "exception": false,
     "start_time": "2022-08-03T18:35:37.220039",
     "status": "completed"
    },
    "tags": []
   },
   "outputs": [],
   "source": [
    "def text_lem_set(x):\n",
    "    y = []\n",
    "    for w in x:\n",
    "        if w in pop_words:\n",
    "            y.append(w)\n",
    "        else:\n",
    "            pass\n",
    "    return y          \n",
    "            "
   ]
  },
  {
   "cell_type": "code",
   "execution_count": 40,
   "id": "97a34e7e",
   "metadata": {
    "execution": {
     "iopub.execute_input": "2022-08-03T18:35:37.769196Z",
     "iopub.status.busy": "2022-08-03T18:35:37.768471Z",
     "iopub.status.idle": "2022-08-03T18:37:10.258600Z",
     "shell.execute_reply": "2022-08-03T18:37:10.257148Z"
    },
    "papermill": {
     "duration": 92.671557,
     "end_time": "2022-08-03T18:37:10.262390",
     "exception": false,
     "start_time": "2022-08-03T18:35:37.590833",
     "status": "completed"
    },
    "tags": []
   },
   "outputs": [
    {
     "name": "stderr",
     "output_type": "stream",
     "text": [
      "100%|██████████| 60000/60000 [01:32<00:00, 648.81it/s]\n"
     ]
    }
   ],
   "source": [
    "train['text_lem_set'] = train['text_lem'].progress_apply(lambda x: text_lem_set(x))"
   ]
  },
  {
   "cell_type": "code",
   "execution_count": 41,
   "id": "4ad04b48",
   "metadata": {
    "execution": {
     "iopub.execute_input": "2022-08-03T18:37:10.830724Z",
     "iopub.status.busy": "2022-08-03T18:37:10.830156Z",
     "iopub.status.idle": "2022-08-03T18:37:10.870243Z",
     "shell.execute_reply": "2022-08-03T18:37:10.868953Z"
    },
    "papermill": {
     "duration": 0.369212,
     "end_time": "2022-08-03T18:37:10.872928",
     "exception": false,
     "start_time": "2022-08-03T18:37:10.503716",
     "status": "completed"
    },
    "tags": []
   },
   "outputs": [
    {
     "data": {
      "text/html": [
       "<div>\n",
       "<style scoped>\n",
       "    .dataframe tbody tr th:only-of-type {\n",
       "        vertical-align: middle;\n",
       "    }\n",
       "\n",
       "    .dataframe tbody tr th {\n",
       "        vertical-align: top;\n",
       "    }\n",
       "\n",
       "    .dataframe thead th {\n",
       "        text-align: right;\n",
       "    }\n",
       "</style>\n",
       "<table border=\"1\" class=\"dataframe\">\n",
       "  <thead>\n",
       "    <tr style=\"text-align: right;\">\n",
       "      <th></th>\n",
       "      <th>text</th>\n",
       "      <th>class</th>\n",
       "      <th>text_lem</th>\n",
       "      <th>text_lem_set</th>\n",
       "    </tr>\n",
       "  </thead>\n",
       "  <tbody>\n",
       "    <tr>\n",
       "      <th>44037</th>\n",
       "      <td>По словам Дмитрия Медянцева, работы по общим з...</td>\n",
       "      <td>O</td>\n",
       "      <td>[слово, дмитрий, медянцев, работа, общий, заме...</td>\n",
       "      <td>[слово, дмитрий, работа, общий, наземный, съём...</td>\n",
       "    </tr>\n",
       "  </tbody>\n",
       "</table>\n",
       "</div>"
      ],
      "text/plain": [
       "                                                    text class  \\\n",
       "44037  По словам Дмитрия Медянцева, работы по общим з...     O   \n",
       "\n",
       "                                                text_lem  \\\n",
       "44037  [слово, дмитрий, медянцев, работа, общий, заме...   \n",
       "\n",
       "                                            text_lem_set  \n",
       "44037  [слово, дмитрий, работа, общий, наземный, съём...  "
      ]
     },
     "execution_count": 41,
     "metadata": {},
     "output_type": "execute_result"
    }
   ],
   "source": [
    "train.sample()"
   ]
  },
  {
   "cell_type": "code",
   "execution_count": 42,
   "id": "dc70376d",
   "metadata": {
    "execution": {
     "iopub.execute_input": "2022-08-03T18:37:11.339454Z",
     "iopub.status.busy": "2022-08-03T18:37:11.338419Z",
     "iopub.status.idle": "2022-08-03T18:37:11.379055Z",
     "shell.execute_reply": "2022-08-03T18:37:11.378027Z"
    },
    "papermill": {
     "duration": 0.274202,
     "end_time": "2022-08-03T18:37:11.381704",
     "exception": false,
     "start_time": "2022-08-03T18:37:11.107502",
     "status": "completed"
    },
    "tags": []
   },
   "outputs": [],
   "source": [
    "train['text_lem_set_len'] = train['text_lem_set'].apply(lambda x: len(x))"
   ]
  },
  {
   "cell_type": "code",
   "execution_count": 43,
   "id": "f212c4da",
   "metadata": {
    "execution": {
     "iopub.execute_input": "2022-08-03T18:37:11.845703Z",
     "iopub.status.busy": "2022-08-03T18:37:11.844958Z",
     "iopub.status.idle": "2022-08-03T18:37:12.131838Z",
     "shell.execute_reply": "2022-08-03T18:37:12.130758Z"
    },
    "papermill": {
     "duration": 0.526599,
     "end_time": "2022-08-03T18:37:12.135234",
     "exception": false,
     "start_time": "2022-08-03T18:37:11.608635",
     "status": "completed"
    },
    "tags": []
   },
   "outputs": [
    {
     "data": {
      "text/plain": [
       "<AxesSubplot:>"
      ]
     },
     "execution_count": 43,
     "metadata": {},
     "output_type": "execute_result"
    },
    {
     "data": {
      "image/png": "[encoded data removed]",
      "text/plain": [
       "<Figure size 720x360 with 1 Axes>"
      ]
     },
     "metadata": {
      "needs_background": "light"
     },
     "output_type": "display_data"
    }
   ],
   "source": [
    "train['text_lem_set_len'].value_counts(bins = 10).plot(kind = 'barh',figsize = (10, 5))"
   ]
  },
  {
   "cell_type": "code",
   "execution_count": 44,
   "id": "28aa4b04",
   "metadata": {
    "execution": {
     "iopub.execute_input": "2022-08-03T18:37:12.603702Z",
     "iopub.status.busy": "2022-08-03T18:37:12.602061Z",
     "iopub.status.idle": "2022-08-03T18:37:12.612612Z",
     "shell.execute_reply": "2022-08-03T18:37:12.611099Z"
    },
    "papermill": {
     "duration": 0.249287,
     "end_time": "2022-08-03T18:37:12.615762",
     "exception": false,
     "start_time": "2022-08-03T18:37:12.366475",
     "status": "completed"
    },
    "tags": []
   },
   "outputs": [
    {
     "data": {
      "text/plain": [
       "15260"
      ]
     },
     "execution_count": 44,
     "metadata": {},
     "output_type": "execute_result"
    }
   ],
   "source": [
    "len(pop_words)"
   ]
  },
  {
   "cell_type": "markdown",
   "id": "a1e21519",
   "metadata": {
    "papermill": {
     "duration": 0.234716,
     "end_time": "2022-08-03T18:37:13.083998",
     "exception": false,
     "start_time": "2022-08-03T18:37:12.849282",
     "status": "completed"
    },
    "tags": []
   },
   "source": [
    "Количество уникальных слов 162 000 \\\n",
    "Лемматизированных уникальных слов 109 627"
   ]
  },
  {
   "cell_type": "markdown",
   "id": "b0f9f4d7",
   "metadata": {
    "papermill": {
     "duration": 0.317167,
     "end_time": "2022-08-03T18:37:13.631566",
     "exception": false,
     "start_time": "2022-08-03T18:37:13.314399",
     "status": "completed"
    },
    "tags": []
   },
   "source": [
    "##  Попробую пойти по пути токенизации текста и моделей TesorFlow"
   ]
  },
  {
   "cell_type": "code",
   "execution_count": 45,
   "id": "c0dfbe9e",
   "metadata": {
    "execution": {
     "iopub.execute_input": "2022-08-03T18:37:14.097735Z",
     "iopub.status.busy": "2022-08-03T18:37:14.096849Z",
     "iopub.status.idle": "2022-08-03T18:37:14.101917Z",
     "shell.execute_reply": "2022-08-03T18:37:14.101018Z"
    },
    "papermill": {
     "duration": 0.242258,
     "end_time": "2022-08-03T18:37:14.104946",
     "exception": false,
     "start_time": "2022-08-03T18:37:13.862688",
     "status": "completed"
    },
    "tags": []
   },
   "outputs": [],
   "source": [
    "# Максимальное количество слов \n",
    "num_words = len(pop_words)\n",
    "# Максимальная длина новости\n",
    "max_news_len = 29\n",
    "# Количество классов новостей\n",
    "nb_classes = 50"
   ]
  },
  {
   "cell_type": "code",
   "execution_count": 46,
   "id": "e628fd7b",
   "metadata": {
    "execution": {
     "iopub.execute_input": "2022-08-03T18:37:14.568208Z",
     "iopub.status.busy": "2022-08-03T18:37:14.567313Z",
     "iopub.status.idle": "2022-08-03T18:37:14.605122Z",
     "shell.execute_reply": "2022-08-03T18:37:14.604243Z"
    },
    "papermill": {
     "duration": 0.272456,
     "end_time": "2022-08-03T18:37:14.607539",
     "exception": false,
     "start_time": "2022-08-03T18:37:14.335083",
     "status": "completed"
    },
    "tags": []
   },
   "outputs": [
    {
     "data": {
      "text/html": [
       "<div>\n",
       "<style scoped>\n",
       "    .dataframe tbody tr th:only-of-type {\n",
       "        vertical-align: middle;\n",
       "    }\n",
       "\n",
       "    .dataframe tbody tr th {\n",
       "        vertical-align: top;\n",
       "    }\n",
       "\n",
       "    .dataframe thead th {\n",
       "        text-align: right;\n",
       "    }\n",
       "</style>\n",
       "<table border=\"1\" class=\"dataframe\">\n",
       "  <thead>\n",
       "    <tr style=\"text-align: right;\">\n",
       "      <th></th>\n",
       "      <th>text</th>\n",
       "      <th>class</th>\n",
       "      <th>text_lem</th>\n",
       "      <th>text_lem_set</th>\n",
       "      <th>text_lem_set_len</th>\n",
       "      <th>class_cat</th>\n",
       "    </tr>\n",
       "  </thead>\n",
       "  <tbody>\n",
       "    <tr>\n",
       "      <th>48627</th>\n",
       "      <td>Охотминимум включает в себя знание правил охот...</td>\n",
       "      <td>O</td>\n",
       "      <td>[охотминимум, включать, знание, правило, охота...</td>\n",
       "      <td>[включать, знание, правило, охота, требование,...</td>\n",
       "      <td>12</td>\n",
       "      <td>0</td>\n",
       "    </tr>\n",
       "    <tr>\n",
       "      <th>43136</th>\n",
       "      <td>Землетрясение магнитудой 3,1 произошло у села ...</td>\n",
       "      <td>Землетрясение</td>\n",
       "      <td>[землетрясение, магнитуда, 31, произойти, село...</td>\n",
       "      <td>[землетрясение, магнитуда, 31, произойти, село...</td>\n",
       "      <td>22</td>\n",
       "      <td>12</td>\n",
       "    </tr>\n",
       "    <tr>\n",
       "      <th>43775</th>\n",
       "      <td>Об этом заявили в Генпрокуратуре самопровозгла...</td>\n",
       "      <td>O</td>\n",
       "      <td>[заявить, генпрокуратура, самопровозглашённый,...</td>\n",
       "      <td>[заявить, генпрокуратура, самопровозглашённый,...</td>\n",
       "      <td>4</td>\n",
       "      <td>0</td>\n",
       "    </tr>\n",
       "  </tbody>\n",
       "</table>\n",
       "</div>"
      ],
      "text/plain": [
       "                                                    text          class  \\\n",
       "48627  Охотминимум включает в себя знание правил охот...              O   \n",
       "43136  Землетрясение магнитудой 3,1 произошло у села ...  Землетрясение   \n",
       "43775  Об этом заявили в Генпрокуратуре самопровозгла...              O   \n",
       "\n",
       "                                                text_lem  \\\n",
       "48627  [охотминимум, включать, знание, правило, охота...   \n",
       "43136  [землетрясение, магнитуда, 31, произойти, село...   \n",
       "43775  [заявить, генпрокуратура, самопровозглашённый,...   \n",
       "\n",
       "                                            text_lem_set  text_lem_set_len  \\\n",
       "48627  [включать, знание, правило, охота, требование,...                12   \n",
       "43136  [землетрясение, магнитуда, 31, произойти, село...                22   \n",
       "43775  [заявить, генпрокуратура, самопровозглашённый,...                 4   \n",
       "\n",
       "       class_cat  \n",
       "48627          0  \n",
       "43136         12  \n",
       "43775          0  "
      ]
     },
     "execution_count": 46,
     "metadata": {},
     "output_type": "execute_result"
    }
   ],
   "source": [
    "train['class'] = train['class'].astype('category')\n",
    "train['class_cat'] = train['class'].cat.codes\n",
    "train.sample(3)"
   ]
  },
  {
   "cell_type": "code",
   "execution_count": 47,
   "id": "7c4bdbd5",
   "metadata": {
    "execution": {
     "iopub.execute_input": "2022-08-03T18:37:15.077944Z",
     "iopub.status.busy": "2022-08-03T18:37:15.077363Z",
     "iopub.status.idle": "2022-08-03T18:37:15.083541Z",
     "shell.execute_reply": "2022-08-03T18:37:15.082204Z"
    },
    "papermill": {
     "duration": 0.24491,
     "end_time": "2022-08-03T18:37:15.086480",
     "exception": false,
     "start_time": "2022-08-03T18:37:14.841570",
     "status": "completed"
    },
    "tags": []
   },
   "outputs": [],
   "source": [
    "X = train['text_lem_set']\n",
    "y = train['class']"
   ]
  },
  {
   "cell_type": "code",
   "execution_count": 48,
   "id": "c0b42230",
   "metadata": {
    "execution": {
     "iopub.execute_input": "2022-08-03T18:37:15.561580Z",
     "iopub.status.busy": "2022-08-03T18:37:15.560690Z",
     "iopub.status.idle": "2022-08-03T18:37:15.583827Z",
     "shell.execute_reply": "2022-08-03T18:37:15.582760Z"
    },
    "papermill": {
     "duration": 0.258779,
     "end_time": "2022-08-03T18:37:15.586471",
     "exception": false,
     "start_time": "2022-08-03T18:37:15.327692",
     "status": "completed"
    },
    "tags": []
   },
   "outputs": [],
   "source": [
    "y = pd.get_dummies(y)"
   ]
  },
  {
   "cell_type": "code",
   "execution_count": 49,
   "id": "27f5b088",
   "metadata": {
    "execution": {
     "iopub.execute_input": "2022-08-03T18:37:16.169645Z",
     "iopub.status.busy": "2022-08-03T18:37:16.168786Z",
     "iopub.status.idle": "2022-08-03T18:37:16.198968Z",
     "shell.execute_reply": "2022-08-03T18:37:16.197791Z"
    },
    "papermill": {
     "duration": 0.282089,
     "end_time": "2022-08-03T18:37:16.201704",
     "exception": false,
     "start_time": "2022-08-03T18:37:15.919615",
     "status": "completed"
    },
    "tags": []
   },
   "outputs": [
    {
     "data": {
      "text/html": [
       "<div>\n",
       "<style scoped>\n",
       "    .dataframe tbody tr th:only-of-type {\n",
       "        vertical-align: middle;\n",
       "    }\n",
       "\n",
       "    .dataframe tbody tr th {\n",
       "        vertical-align: top;\n",
       "    }\n",
       "\n",
       "    .dataframe thead th {\n",
       "        text-align: right;\n",
       "    }\n",
       "</style>\n",
       "<table border=\"1\" class=\"dataframe\">\n",
       "  <thead>\n",
       "    <tr style=\"text-align: right;\">\n",
       "      <th></th>\n",
       "      <th>O</th>\n",
       "      <th>Авиакатастрофа</th>\n",
       "      <th>Акционерный конфликт</th>\n",
       "      <th>Беспорядки, конфликты и войны</th>\n",
       "      <th>Взрыв газа</th>\n",
       "      <th>Взятки</th>\n",
       "      <th>Возбуждение уголовного дела</th>\n",
       "      <th>Выемки</th>\n",
       "      <th>Жалобы потребителей</th>\n",
       "      <th>Заключение под стражу</th>\n",
       "      <th>...</th>\n",
       "      <th>Убийство</th>\n",
       "      <th>Убытки</th>\n",
       "      <th>Уголовное задержание</th>\n",
       "      <th>Уголовное обвинение</th>\n",
       "      <th>Утечка нефти</th>\n",
       "      <th>Финансовые затруднения</th>\n",
       "      <th>Чрезвычайные происшествия, чрезвычайные ситуации</th>\n",
       "      <th>Экономические преступления</th>\n",
       "      <th>Экстремизм</th>\n",
       "      <th>Ядерный взрыв</th>\n",
       "    </tr>\n",
       "  </thead>\n",
       "  <tbody>\n",
       "    <tr>\n",
       "      <th>47265</th>\n",
       "      <td>1</td>\n",
       "      <td>0</td>\n",
       "      <td>0</td>\n",
       "      <td>0</td>\n",
       "      <td>0</td>\n",
       "      <td>0</td>\n",
       "      <td>0</td>\n",
       "      <td>0</td>\n",
       "      <td>0</td>\n",
       "      <td>0</td>\n",
       "      <td>...</td>\n",
       "      <td>0</td>\n",
       "      <td>0</td>\n",
       "      <td>0</td>\n",
       "      <td>0</td>\n",
       "      <td>0</td>\n",
       "      <td>0</td>\n",
       "      <td>0</td>\n",
       "      <td>0</td>\n",
       "      <td>0</td>\n",
       "      <td>0</td>\n",
       "    </tr>\n",
       "  </tbody>\n",
       "</table>\n",
       "<p>1 rows × 50 columns</p>\n",
       "</div>"
      ],
      "text/plain": [
       "       O  Авиакатастрофа  Акционерный конфликт  Беспорядки, конфликты и войны  \\\n",
       "47265  1               0                     0                              0   \n",
       "\n",
       "       Взрыв газа  Взятки  Возбуждение уголовного дела  Выемки  \\\n",
       "47265           0       0                            0       0   \n",
       "\n",
       "       Жалобы потребителей  Заключение под стражу  ...  Убийство  Убытки  \\\n",
       "47265                    0                      0  ...         0       0   \n",
       "\n",
       "       Уголовное задержание  Уголовное обвинение  Утечка нефти  \\\n",
       "47265                     0                    0             0   \n",
       "\n",
       "       Финансовые затруднения  \\\n",
       "47265                       0   \n",
       "\n",
       "       Чрезвычайные происшествия, чрезвычайные ситуации  \\\n",
       "47265                                                 0   \n",
       "\n",
       "       Экономические преступления  Экстремизм  Ядерный взрыв  \n",
       "47265                           0           0              0  \n",
       "\n",
       "[1 rows x 50 columns]"
      ]
     },
     "execution_count": 49,
     "metadata": {},
     "output_type": "execute_result"
    }
   ],
   "source": [
    "y.sample()"
   ]
  },
  {
   "cell_type": "code",
   "execution_count": 50,
   "id": "166ac5f8",
   "metadata": {
    "execution": {
     "iopub.execute_input": "2022-08-03T18:37:16.662528Z",
     "iopub.status.busy": "2022-08-03T18:37:16.661791Z",
     "iopub.status.idle": "2022-08-03T18:37:18.964179Z",
     "shell.execute_reply": "2022-08-03T18:37:18.962671Z"
    },
    "papermill": {
     "duration": 2.538564,
     "end_time": "2022-08-03T18:37:18.967538",
     "exception": false,
     "start_time": "2022-08-03T18:37:16.428974",
     "status": "completed"
    },
    "tags": []
   },
   "outputs": [],
   "source": [
    "#разделяем на трейн и тест с учётом неравномернойти классов\n",
    "\n",
    "from sklearn.model_selection import train_test_split\n",
    "X_train, X_test, y_train, y_test = train_test_split(X, y,\n",
    "                                                    stratify=y, \n",
    "                                                    test_size=0.2)"
   ]
  },
  {
   "cell_type": "code",
   "execution_count": 51,
   "id": "db5e5248",
   "metadata": {
    "execution": {
     "iopub.execute_input": "2022-08-03T18:37:19.429653Z",
     "iopub.status.busy": "2022-08-03T18:37:19.428438Z",
     "iopub.status.idle": "2022-08-03T18:37:19.439594Z",
     "shell.execute_reply": "2022-08-03T18:37:19.438624Z"
    },
    "papermill": {
     "duration": 0.242487,
     "end_time": "2022-08-03T18:37:19.442038",
     "exception": false,
     "start_time": "2022-08-03T18:37:19.199551",
     "status": "completed"
    },
    "tags": []
   },
   "outputs": [
    {
     "data": {
      "text/plain": [
       "40360    [сотрудник, задержать, куликов, кабинет, здани...\n",
       "2442               [вывод, прокурор, вполне, закономерный]\n",
       "44260    [количество, жертва, землетрясение, возле, бер...\n",
       "20575    [арестовать, 1989, год, приговорить, пожизненн...\n",
       "41569                                [мельник, нормальный]\n",
       "                               ...                        \n",
       "37816    [олег, орлов, уголовный, ответственность, этот...\n",
       "53792    [украинский, спецслужба, экстремистский, орган...\n",
       "59665    [мнение, левин, оказаться, выгодный, губернато...\n",
       "21417    [также, прокомментировать, ситуация, вызвать, ...\n",
       "20373    [мошенничество, зачастую, преступление, потерп...\n",
       "Name: text_lem_set, Length: 48000, dtype: object"
      ]
     },
     "execution_count": 51,
     "metadata": {},
     "output_type": "execute_result"
    }
   ],
   "source": [
    "X_train"
   ]
  },
  {
   "cell_type": "markdown",
   "id": "58a728fe",
   "metadata": {
    "papermill": {
     "duration": 0.227221,
     "end_time": "2022-08-03T18:37:19.898039",
     "exception": false,
     "start_time": "2022-08-03T18:37:19.670818",
     "status": "completed"
    },
    "tags": []
   },
   "source": [
    "Преобразую номера классов в кагориальную матрицу "
   ]
  },
  {
   "cell_type": "code",
   "execution_count": 52,
   "id": "a2de3cb5",
   "metadata": {
    "execution": {
     "iopub.execute_input": "2022-08-03T18:37:20.383712Z",
     "iopub.status.busy": "2022-08-03T18:37:20.382821Z",
     "iopub.status.idle": "2022-08-03T18:37:20.417406Z",
     "shell.execute_reply": "2022-08-03T18:37:20.416165Z"
    },
    "papermill": {
     "duration": 0.280995,
     "end_time": "2022-08-03T18:37:20.419723",
     "exception": false,
     "start_time": "2022-08-03T18:37:20.138728",
     "status": "completed"
    },
    "tags": []
   },
   "outputs": [
    {
     "data": {
      "text/html": [
       "<div>\n",
       "<style scoped>\n",
       "    .dataframe tbody tr th:only-of-type {\n",
       "        vertical-align: middle;\n",
       "    }\n",
       "\n",
       "    .dataframe tbody tr th {\n",
       "        vertical-align: top;\n",
       "    }\n",
       "\n",
       "    .dataframe thead th {\n",
       "        text-align: right;\n",
       "    }\n",
       "</style>\n",
       "<table border=\"1\" class=\"dataframe\">\n",
       "  <thead>\n",
       "    <tr style=\"text-align: right;\">\n",
       "      <th></th>\n",
       "      <th>O</th>\n",
       "      <th>Авиакатастрофа</th>\n",
       "      <th>Акционерный конфликт</th>\n",
       "      <th>Беспорядки, конфликты и войны</th>\n",
       "      <th>Взрыв газа</th>\n",
       "      <th>Взятки</th>\n",
       "      <th>Возбуждение уголовного дела</th>\n",
       "      <th>Выемки</th>\n",
       "      <th>Жалобы потребителей</th>\n",
       "      <th>Заключение под стражу</th>\n",
       "      <th>...</th>\n",
       "      <th>Убийство</th>\n",
       "      <th>Убытки</th>\n",
       "      <th>Уголовное задержание</th>\n",
       "      <th>Уголовное обвинение</th>\n",
       "      <th>Утечка нефти</th>\n",
       "      <th>Финансовые затруднения</th>\n",
       "      <th>Чрезвычайные происшествия, чрезвычайные ситуации</th>\n",
       "      <th>Экономические преступления</th>\n",
       "      <th>Экстремизм</th>\n",
       "      <th>Ядерный взрыв</th>\n",
       "    </tr>\n",
       "  </thead>\n",
       "  <tbody>\n",
       "    <tr>\n",
       "      <th>40360</th>\n",
       "      <td>0</td>\n",
       "      <td>0</td>\n",
       "      <td>0</td>\n",
       "      <td>0</td>\n",
       "      <td>0</td>\n",
       "      <td>1</td>\n",
       "      <td>0</td>\n",
       "      <td>0</td>\n",
       "      <td>0</td>\n",
       "      <td>0</td>\n",
       "      <td>...</td>\n",
       "      <td>0</td>\n",
       "      <td>0</td>\n",
       "      <td>0</td>\n",
       "      <td>0</td>\n",
       "      <td>0</td>\n",
       "      <td>0</td>\n",
       "      <td>0</td>\n",
       "      <td>0</td>\n",
       "      <td>0</td>\n",
       "      <td>0</td>\n",
       "    </tr>\n",
       "    <tr>\n",
       "      <th>2442</th>\n",
       "      <td>1</td>\n",
       "      <td>0</td>\n",
       "      <td>0</td>\n",
       "      <td>0</td>\n",
       "      <td>0</td>\n",
       "      <td>0</td>\n",
       "      <td>0</td>\n",
       "      <td>0</td>\n",
       "      <td>0</td>\n",
       "      <td>0</td>\n",
       "      <td>...</td>\n",
       "      <td>0</td>\n",
       "      <td>0</td>\n",
       "      <td>0</td>\n",
       "      <td>0</td>\n",
       "      <td>0</td>\n",
       "      <td>0</td>\n",
       "      <td>0</td>\n",
       "      <td>0</td>\n",
       "      <td>0</td>\n",
       "      <td>0</td>\n",
       "    </tr>\n",
       "    <tr>\n",
       "      <th>44260</th>\n",
       "      <td>0</td>\n",
       "      <td>0</td>\n",
       "      <td>0</td>\n",
       "      <td>0</td>\n",
       "      <td>0</td>\n",
       "      <td>0</td>\n",
       "      <td>0</td>\n",
       "      <td>0</td>\n",
       "      <td>0</td>\n",
       "      <td>0</td>\n",
       "      <td>...</td>\n",
       "      <td>0</td>\n",
       "      <td>0</td>\n",
       "      <td>0</td>\n",
       "      <td>0</td>\n",
       "      <td>0</td>\n",
       "      <td>0</td>\n",
       "      <td>0</td>\n",
       "      <td>0</td>\n",
       "      <td>0</td>\n",
       "      <td>0</td>\n",
       "    </tr>\n",
       "    <tr>\n",
       "      <th>20575</th>\n",
       "      <td>0</td>\n",
       "      <td>0</td>\n",
       "      <td>0</td>\n",
       "      <td>0</td>\n",
       "      <td>0</td>\n",
       "      <td>0</td>\n",
       "      <td>0</td>\n",
       "      <td>0</td>\n",
       "      <td>0</td>\n",
       "      <td>0</td>\n",
       "      <td>...</td>\n",
       "      <td>0</td>\n",
       "      <td>0</td>\n",
       "      <td>0</td>\n",
       "      <td>0</td>\n",
       "      <td>0</td>\n",
       "      <td>0</td>\n",
       "      <td>0</td>\n",
       "      <td>0</td>\n",
       "      <td>0</td>\n",
       "      <td>0</td>\n",
       "    </tr>\n",
       "    <tr>\n",
       "      <th>41569</th>\n",
       "      <td>1</td>\n",
       "      <td>0</td>\n",
       "      <td>0</td>\n",
       "      <td>0</td>\n",
       "      <td>0</td>\n",
       "      <td>0</td>\n",
       "      <td>0</td>\n",
       "      <td>0</td>\n",
       "      <td>0</td>\n",
       "      <td>0</td>\n",
       "      <td>...</td>\n",
       "      <td>0</td>\n",
       "      <td>0</td>\n",
       "      <td>0</td>\n",
       "      <td>0</td>\n",
       "      <td>0</td>\n",
       "      <td>0</td>\n",
       "      <td>0</td>\n",
       "      <td>0</td>\n",
       "      <td>0</td>\n",
       "      <td>0</td>\n",
       "    </tr>\n",
       "    <tr>\n",
       "      <th>...</th>\n",
       "      <td>...</td>\n",
       "      <td>...</td>\n",
       "      <td>...</td>\n",
       "      <td>...</td>\n",
       "      <td>...</td>\n",
       "      <td>...</td>\n",
       "      <td>...</td>\n",
       "      <td>...</td>\n",
       "      <td>...</td>\n",
       "      <td>...</td>\n",
       "      <td>...</td>\n",
       "      <td>...</td>\n",
       "      <td>...</td>\n",
       "      <td>...</td>\n",
       "      <td>...</td>\n",
       "      <td>...</td>\n",
       "      <td>...</td>\n",
       "      <td>...</td>\n",
       "      <td>...</td>\n",
       "      <td>...</td>\n",
       "      <td>...</td>\n",
       "    </tr>\n",
       "    <tr>\n",
       "      <th>37816</th>\n",
       "      <td>1</td>\n",
       "      <td>0</td>\n",
       "      <td>0</td>\n",
       "      <td>0</td>\n",
       "      <td>0</td>\n",
       "      <td>0</td>\n",
       "      <td>0</td>\n",
       "      <td>0</td>\n",
       "      <td>0</td>\n",
       "      <td>0</td>\n",
       "      <td>...</td>\n",
       "      <td>0</td>\n",
       "      <td>0</td>\n",
       "      <td>0</td>\n",
       "      <td>0</td>\n",
       "      <td>0</td>\n",
       "      <td>0</td>\n",
       "      <td>0</td>\n",
       "      <td>0</td>\n",
       "      <td>0</td>\n",
       "      <td>0</td>\n",
       "    </tr>\n",
       "    <tr>\n",
       "      <th>53792</th>\n",
       "      <td>0</td>\n",
       "      <td>0</td>\n",
       "      <td>0</td>\n",
       "      <td>0</td>\n",
       "      <td>0</td>\n",
       "      <td>0</td>\n",
       "      <td>0</td>\n",
       "      <td>0</td>\n",
       "      <td>0</td>\n",
       "      <td>0</td>\n",
       "      <td>...</td>\n",
       "      <td>0</td>\n",
       "      <td>0</td>\n",
       "      <td>0</td>\n",
       "      <td>0</td>\n",
       "      <td>0</td>\n",
       "      <td>0</td>\n",
       "      <td>0</td>\n",
       "      <td>0</td>\n",
       "      <td>1</td>\n",
       "      <td>0</td>\n",
       "    </tr>\n",
       "    <tr>\n",
       "      <th>59665</th>\n",
       "      <td>1</td>\n",
       "      <td>0</td>\n",
       "      <td>0</td>\n",
       "      <td>0</td>\n",
       "      <td>0</td>\n",
       "      <td>0</td>\n",
       "      <td>0</td>\n",
       "      <td>0</td>\n",
       "      <td>0</td>\n",
       "      <td>0</td>\n",
       "      <td>...</td>\n",
       "      <td>0</td>\n",
       "      <td>0</td>\n",
       "      <td>0</td>\n",
       "      <td>0</td>\n",
       "      <td>0</td>\n",
       "      <td>0</td>\n",
       "      <td>0</td>\n",
       "      <td>0</td>\n",
       "      <td>0</td>\n",
       "      <td>0</td>\n",
       "    </tr>\n",
       "    <tr>\n",
       "      <th>21417</th>\n",
       "      <td>1</td>\n",
       "      <td>0</td>\n",
       "      <td>0</td>\n",
       "      <td>0</td>\n",
       "      <td>0</td>\n",
       "      <td>0</td>\n",
       "      <td>0</td>\n",
       "      <td>0</td>\n",
       "      <td>0</td>\n",
       "      <td>0</td>\n",
       "      <td>...</td>\n",
       "      <td>0</td>\n",
       "      <td>0</td>\n",
       "      <td>0</td>\n",
       "      <td>0</td>\n",
       "      <td>0</td>\n",
       "      <td>0</td>\n",
       "      <td>0</td>\n",
       "      <td>0</td>\n",
       "      <td>0</td>\n",
       "      <td>0</td>\n",
       "    </tr>\n",
       "    <tr>\n",
       "      <th>20373</th>\n",
       "      <td>0</td>\n",
       "      <td>0</td>\n",
       "      <td>0</td>\n",
       "      <td>0</td>\n",
       "      <td>0</td>\n",
       "      <td>0</td>\n",
       "      <td>0</td>\n",
       "      <td>0</td>\n",
       "      <td>0</td>\n",
       "      <td>0</td>\n",
       "      <td>...</td>\n",
       "      <td>0</td>\n",
       "      <td>0</td>\n",
       "      <td>0</td>\n",
       "      <td>0</td>\n",
       "      <td>0</td>\n",
       "      <td>0</td>\n",
       "      <td>0</td>\n",
       "      <td>1</td>\n",
       "      <td>0</td>\n",
       "      <td>0</td>\n",
       "    </tr>\n",
       "  </tbody>\n",
       "</table>\n",
       "<p>48000 rows × 50 columns</p>\n",
       "</div>"
      ],
      "text/plain": [
       "       O  Авиакатастрофа  Акционерный конфликт  Беспорядки, конфликты и войны  \\\n",
       "40360  0               0                     0                              0   \n",
       "2442   1               0                     0                              0   \n",
       "44260  0               0                     0                              0   \n",
       "20575  0               0                     0                              0   \n",
       "41569  1               0                     0                              0   \n",
       "...   ..             ...                   ...                            ...   \n",
       "37816  1               0                     0                              0   \n",
       "53792  0               0                     0                              0   \n",
       "59665  1               0                     0                              0   \n",
       "21417  1               0                     0                              0   \n",
       "20373  0               0                     0                              0   \n",
       "\n",
       "       Взрыв газа  Взятки  Возбуждение уголовного дела  Выемки  \\\n",
       "40360           0       1                            0       0   \n",
       "2442            0       0                            0       0   \n",
       "44260           0       0                            0       0   \n",
       "20575           0       0                            0       0   \n",
       "41569           0       0                            0       0   \n",
       "...           ...     ...                          ...     ...   \n",
       "37816           0       0                            0       0   \n",
       "53792           0       0                            0       0   \n",
       "59665           0       0                            0       0   \n",
       "21417           0       0                            0       0   \n",
       "20373           0       0                            0       0   \n",
       "\n",
       "       Жалобы потребителей  Заключение под стражу  ...  Убийство  Убытки  \\\n",
       "40360                    0                      0  ...         0       0   \n",
       "2442                     0                      0  ...         0       0   \n",
       "44260                    0                      0  ...         0       0   \n",
       "20575                    0                      0  ...         0       0   \n",
       "41569                    0                      0  ...         0       0   \n",
       "...                    ...                    ...  ...       ...     ...   \n",
       "37816                    0                      0  ...         0       0   \n",
       "53792                    0                      0  ...         0       0   \n",
       "59665                    0                      0  ...         0       0   \n",
       "21417                    0                      0  ...         0       0   \n",
       "20373                    0                      0  ...         0       0   \n",
       "\n",
       "       Уголовное задержание  Уголовное обвинение  Утечка нефти  \\\n",
       "40360                     0                    0             0   \n",
       "2442                      0                    0             0   \n",
       "44260                     0                    0             0   \n",
       "20575                     0                    0             0   \n",
       "41569                     0                    0             0   \n",
       "...                     ...                  ...           ...   \n",
       "37816                     0                    0             0   \n",
       "53792                     0                    0             0   \n",
       "59665                     0                    0             0   \n",
       "21417                     0                    0             0   \n",
       "20373                     0                    0             0   \n",
       "\n",
       "       Финансовые затруднения  \\\n",
       "40360                       0   \n",
       "2442                        0   \n",
       "44260                       0   \n",
       "20575                       0   \n",
       "41569                       0   \n",
       "...                       ...   \n",
       "37816                       0   \n",
       "53792                       0   \n",
       "59665                       0   \n",
       "21417                       0   \n",
       "20373                       0   \n",
       "\n",
       "       Чрезвычайные происшествия, чрезвычайные ситуации  \\\n",
       "40360                                                 0   \n",
       "2442                                                  0   \n",
       "44260                                                 0   \n",
       "20575                                                 0   \n",
       "41569                                                 0   \n",
       "...                                                 ...   \n",
       "37816                                                 0   \n",
       "53792                                                 0   \n",
       "59665                                                 0   \n",
       "21417                                                 0   \n",
       "20373                                                 0   \n",
       "\n",
       "       Экономические преступления  Экстремизм  Ядерный взрыв  \n",
       "40360                           0           0              0  \n",
       "2442                            0           0              0  \n",
       "44260                           0           0              0  \n",
       "20575                           0           0              0  \n",
       "41569                           0           0              0  \n",
       "...                           ...         ...            ...  \n",
       "37816                           0           0              0  \n",
       "53792                           0           1              0  \n",
       "59665                           0           0              0  \n",
       "21417                           0           0              0  \n",
       "20373                           1           0              0  \n",
       "\n",
       "[48000 rows x 50 columns]"
      ]
     },
     "execution_count": 52,
     "metadata": {},
     "output_type": "execute_result"
    }
   ],
   "source": [
    "y_train"
   ]
  },
  {
   "cell_type": "code",
   "execution_count": 53,
   "id": "8f6dbba9",
   "metadata": {
    "execution": {
     "iopub.execute_input": "2022-08-03T18:37:21.116502Z",
     "iopub.status.busy": "2022-08-03T18:37:21.115612Z",
     "iopub.status.idle": "2022-08-03T18:37:21.122836Z",
     "shell.execute_reply": "2022-08-03T18:37:21.121154Z"
    },
    "papermill": {
     "duration": 0.328097,
     "end_time": "2022-08-03T18:37:21.126124",
     "exception": false,
     "start_time": "2022-08-03T18:37:20.798027",
     "status": "completed"
    },
    "tags": []
   },
   "outputs": [],
   "source": [
    "y_train = np.array(y_train)"
   ]
  },
  {
   "cell_type": "code",
   "execution_count": 54,
   "id": "d095a105",
   "metadata": {
    "execution": {
     "iopub.execute_input": "2022-08-03T18:37:21.644060Z",
     "iopub.status.busy": "2022-08-03T18:37:21.643277Z",
     "iopub.status.idle": "2022-08-03T18:37:21.651210Z",
     "shell.execute_reply": "2022-08-03T18:37:21.649538Z"
    },
    "papermill": {
     "duration": 0.269499,
     "end_time": "2022-08-03T18:37:21.654095",
     "exception": false,
     "start_time": "2022-08-03T18:37:21.384596",
     "status": "completed"
    },
    "tags": []
   },
   "outputs": [
    {
     "data": {
      "text/plain": [
       "array([[0, 0, 0, ..., 0, 0, 0],\n",
       "       [1, 0, 0, ..., 0, 0, 0],\n",
       "       [0, 0, 0, ..., 0, 0, 0],\n",
       "       ...,\n",
       "       [1, 0, 0, ..., 0, 0, 0],\n",
       "       [1, 0, 0, ..., 0, 0, 0],\n",
       "       [0, 0, 0, ..., 1, 0, 0]], dtype=uint8)"
      ]
     },
     "execution_count": 54,
     "metadata": {},
     "output_type": "execute_result"
    }
   ],
   "source": [
    "y_train"
   ]
  },
  {
   "cell_type": "code",
   "execution_count": 55,
   "id": "39770700",
   "metadata": {
    "execution": {
     "iopub.execute_input": "2022-08-03T18:37:22.160963Z",
     "iopub.status.busy": "2022-08-03T18:37:22.160015Z",
     "iopub.status.idle": "2022-08-03T18:37:22.166205Z",
     "shell.execute_reply": "2022-08-03T18:37:22.165134Z"
    },
    "papermill": {
     "duration": 0.267459,
     "end_time": "2022-08-03T18:37:22.169282",
     "exception": false,
     "start_time": "2022-08-03T18:37:21.901823",
     "status": "completed"
    },
    "tags": []
   },
   "outputs": [],
   "source": [
    "y_test = np.array(y_test)"
   ]
  },
  {
   "cell_type": "code",
   "execution_count": 56,
   "id": "f11c4f3c",
   "metadata": {
    "execution": {
     "iopub.execute_input": "2022-08-03T18:37:22.775623Z",
     "iopub.status.busy": "2022-08-03T18:37:22.774673Z",
     "iopub.status.idle": "2022-08-03T18:37:22.782000Z",
     "shell.execute_reply": "2022-08-03T18:37:22.780887Z"
    },
    "papermill": {
     "duration": 0.356256,
     "end_time": "2022-08-03T18:37:22.784961",
     "exception": false,
     "start_time": "2022-08-03T18:37:22.428705",
     "status": "completed"
    },
    "tags": []
   },
   "outputs": [
    {
     "data": {
      "text/plain": [
       "array([[1, 0, 0, ..., 0, 0, 0],\n",
       "       [1, 0, 0, ..., 0, 0, 0],\n",
       "       [1, 0, 0, ..., 0, 0, 0],\n",
       "       ...,\n",
       "       [1, 0, 0, ..., 0, 0, 0],\n",
       "       [1, 0, 0, ..., 0, 0, 0],\n",
       "       [1, 0, 0, ..., 0, 0, 0]], dtype=uint8)"
      ]
     },
     "execution_count": 56,
     "metadata": {},
     "output_type": "execute_result"
    }
   ],
   "source": [
    "y_test"
   ]
  },
  {
   "cell_type": "code",
   "execution_count": 57,
   "id": "4b181f7c",
   "metadata": {
    "execution": {
     "iopub.execute_input": "2022-08-03T18:37:23.262692Z",
     "iopub.status.busy": "2022-08-03T18:37:23.261610Z",
     "iopub.status.idle": "2022-08-03T18:37:23.267550Z",
     "shell.execute_reply": "2022-08-03T18:37:23.266641Z"
    },
    "papermill": {
     "duration": 0.248868,
     "end_time": "2022-08-03T18:37:23.270324",
     "exception": false,
     "start_time": "2022-08-03T18:37:23.021456",
     "status": "completed"
    },
    "tags": []
   },
   "outputs": [],
   "source": [
    "tokenizer = Tokenizer(num_words=num_words)"
   ]
  },
  {
   "cell_type": "code",
   "execution_count": 58,
   "id": "432cae1d",
   "metadata": {
    "execution": {
     "iopub.execute_input": "2022-08-03T18:37:23.762188Z",
     "iopub.status.busy": "2022-08-03T18:37:23.761357Z",
     "iopub.status.idle": "2022-08-03T18:37:24.920279Z",
     "shell.execute_reply": "2022-08-03T18:37:24.918884Z"
    },
    "papermill": {
     "duration": 1.409139,
     "end_time": "2022-08-03T18:37:24.923258",
     "exception": false,
     "start_time": "2022-08-03T18:37:23.514119",
     "status": "completed"
    },
    "tags": []
   },
   "outputs": [],
   "source": [
    "tokenizer.fit_on_texts(train['text_lem_set'])"
   ]
  },
  {
   "cell_type": "code",
   "execution_count": 59,
   "id": "e68268b6",
   "metadata": {
    "execution": {
     "iopub.execute_input": "2022-08-03T18:37:25.407327Z",
     "iopub.status.busy": "2022-08-03T18:37:25.406405Z",
     "iopub.status.idle": "2022-08-03T18:37:26.580114Z",
     "shell.execute_reply": "2022-08-03T18:37:26.578454Z"
    },
    "papermill": {
     "duration": 1.420119,
     "end_time": "2022-08-03T18:37:26.583465",
     "exception": false,
     "start_time": "2022-08-03T18:37:25.163346",
     "status": "completed"
    },
    "tags": []
   },
   "outputs": [],
   "source": [
    "train_sequences = tokenizer.texts_to_sequences(X_train)\n",
    "\n",
    "x_train = pad_sequences(train_sequences, maxlen=max_news_len)\n",
    "\n",
    "test_sequences = tokenizer.texts_to_sequences(X_test)\n",
    "\n",
    "x_test = pad_sequences(test_sequences, maxlen=max_news_len)"
   ]
  },
  {
   "cell_type": "markdown",
   "id": "99c5b9ea",
   "metadata": {
    "papermill": {
     "duration": 0.262586,
     "end_time": "2022-08-03T18:37:27.087259",
     "exception": false,
     "start_time": "2022-08-03T18:37:26.824673",
     "status": "completed"
    },
    "tags": []
   },
   "source": [
    "## Сверточная нейронная сеть"
   ]
  },
  {
   "cell_type": "code",
   "execution_count": 60,
   "id": "c879c0f7",
   "metadata": {
    "execution": {
     "iopub.execute_input": "2022-08-03T18:37:27.564961Z",
     "iopub.status.busy": "2022-08-03T18:37:27.563658Z",
     "iopub.status.idle": "2022-08-03T18:37:28.218521Z",
     "shell.execute_reply": "2022-08-03T18:37:28.217236Z"
    },
    "papermill": {
     "duration": 0.893257,
     "end_time": "2022-08-03T18:37:28.221662",
     "exception": false,
     "start_time": "2022-08-03T18:37:27.328405",
     "status": "completed"
    },
    "tags": []
   },
   "outputs": [
    {
     "name": "stderr",
     "output_type": "stream",
     "text": [
      "2022-08-03 18:37:27.611737: I tensorflow/core/common_runtime/process_util.cc:146] Creating new thread pool with default inter op setting: 2. Tune using inter_op_parallelism_threads for best performance.\n"
     ]
    }
   ],
   "source": [
    "model_cnn = Sequential()\n",
    "model_cnn.add(Embedding(num_words, 32, input_length=max_news_len))\n",
    "model_cnn.add(Conv1D(250, 5, padding='valid', activation='relu'))\n",
    "model_cnn.add(GlobalMaxPooling1D())\n",
    "model_cnn.add(Dense(128, activation='relu'))\n",
    "model_cnn.add(Dense(50, activation='softmax'))"
   ]
  },
  {
   "cell_type": "code",
   "execution_count": 61,
   "id": "186e5101",
   "metadata": {
    "execution": {
     "iopub.execute_input": "2022-08-03T18:37:28.784820Z",
     "iopub.status.busy": "2022-08-03T18:37:28.783984Z",
     "iopub.status.idle": "2022-08-03T18:37:28.804616Z",
     "shell.execute_reply": "2022-08-03T18:37:28.803294Z"
    },
    "papermill": {
     "duration": 0.25658,
     "end_time": "2022-08-03T18:37:28.807540",
     "exception": false,
     "start_time": "2022-08-03T18:37:28.550960",
     "status": "completed"
    },
    "tags": []
   },
   "outputs": [],
   "source": [
    "model_cnn.compile(optimizer='adam', \n",
    "              loss='categorical_crossentropy', \n",
    "              metrics=['accuracy'])"
   ]
  },
  {
   "cell_type": "code",
   "execution_count": 62,
   "id": "6143c163",
   "metadata": {
    "execution": {
     "iopub.execute_input": "2022-08-03T18:37:29.279881Z",
     "iopub.status.busy": "2022-08-03T18:37:29.278646Z",
     "iopub.status.idle": "2022-08-03T18:37:29.286694Z",
     "shell.execute_reply": "2022-08-03T18:37:29.285577Z"
    },
    "papermill": {
     "duration": 0.24603,
     "end_time": "2022-08-03T18:37:29.289238",
     "exception": false,
     "start_time": "2022-08-03T18:37:29.043208",
     "status": "completed"
    },
    "tags": []
   },
   "outputs": [
    {
     "name": "stdout",
     "output_type": "stream",
     "text": [
      "Model: \"sequential\"\n",
      "_________________________________________________________________\n",
      "Layer (type)                 Output Shape              Param #   \n",
      "=================================================================\n",
      "embedding (Embedding)        (None, 29, 32)            488320    \n",
      "_________________________________________________________________\n",
      "conv1d (Conv1D)              (None, 25, 250)           40250     \n",
      "_________________________________________________________________\n",
      "global_max_pooling1d (Global (None, 250)               0         \n",
      "_________________________________________________________________\n",
      "dense (Dense)                (None, 128)               32128     \n",
      "_________________________________________________________________\n",
      "dense_1 (Dense)              (None, 50)                6450      \n",
      "=================================================================\n",
      "Total params: 567,148\n",
      "Trainable params: 567,148\n",
      "Non-trainable params: 0\n",
      "_________________________________________________________________\n"
     ]
    }
   ],
   "source": [
    "model_cnn.summary()"
   ]
  },
  {
   "cell_type": "code",
   "execution_count": 63,
   "id": "53372965",
   "metadata": {
    "execution": {
     "iopub.execute_input": "2022-08-03T18:37:29.785785Z",
     "iopub.status.busy": "2022-08-03T18:37:29.784387Z",
     "iopub.status.idle": "2022-08-03T18:37:29.791157Z",
     "shell.execute_reply": "2022-08-03T18:37:29.790133Z"
    },
    "papermill": {
     "duration": 0.260097,
     "end_time": "2022-08-03T18:37:29.794527",
     "exception": false,
     "start_time": "2022-08-03T18:37:29.534430",
     "status": "completed"
    },
    "tags": []
   },
   "outputs": [],
   "source": [
    "model_cnn_save_path = './model_weights/best_model_cnn.h5'\n",
    "checkpoint_callback_cnn = ModelCheckpoint(model_cnn_save_path, \n",
    "                                      monitor='val_accuracy',\n",
    "                                      save_best_only=True,\n",
    "                                      verbose=1)"
   ]
  },
  {
   "cell_type": "code",
   "execution_count": 64,
   "id": "3c31753e",
   "metadata": {
    "execution": {
     "iopub.execute_input": "2022-08-03T18:37:30.280772Z",
     "iopub.status.busy": "2022-08-03T18:37:30.279059Z",
     "iopub.status.idle": "2022-08-03T18:38:23.494237Z",
     "shell.execute_reply": "2022-08-03T18:38:23.492834Z"
    },
    "papermill": {
     "duration": 53.458206,
     "end_time": "2022-08-03T18:38:23.496988",
     "exception": false,
     "start_time": "2022-08-03T18:37:30.038782",
     "status": "completed"
    },
    "tags": []
   },
   "outputs": [
    {
     "name": "stderr",
     "output_type": "stream",
     "text": [
      "2022-08-03 18:37:30.418549: I tensorflow/compiler/mlir/mlir_graph_optimization_pass.cc:185] None of the MLIR Optimization Passes are enabled (registered 2)\n"
     ]
    },
    {
     "name": "stdout",
     "output_type": "stream",
     "text": [
      "Epoch 1/5\n",
      "372/372 [==============================] - 11s 27ms/step - loss: 1.4132 - accuracy: 0.6974 - val_loss: 0.8875 - val_accuracy: 0.7875\n",
      "\n",
      "Epoch 00001: val_accuracy improved from -inf to 0.78750, saving model to ./model_weights/best_model_cnn.h5\n",
      "Epoch 2/5\n",
      "372/372 [==============================] - 10s 27ms/step - loss: 0.6010 - accuracy: 0.8460 - val_loss: 0.4832 - val_accuracy: 0.8938\n",
      "\n",
      "Epoch 00002: val_accuracy improved from 0.78750 to 0.89375, saving model to ./model_weights/best_model_cnn.h5\n",
      "Epoch 3/5\n",
      "372/372 [==============================] - 11s 30ms/step - loss: 0.3384 - accuracy: 0.9063 - val_loss: 0.3985 - val_accuracy: 0.9062\n",
      "\n",
      "Epoch 00003: val_accuracy improved from 0.89375 to 0.90625, saving model to ./model_weights/best_model_cnn.h5\n",
      "Epoch 4/5\n",
      "372/372 [==============================] - 10s 27ms/step - loss: 0.2298 - accuracy: 0.9318 - val_loss: 0.3914 - val_accuracy: 0.9187\n",
      "\n",
      "Epoch 00004: val_accuracy improved from 0.90625 to 0.91875, saving model to ./model_weights/best_model_cnn.h5\n",
      "Epoch 5/5\n",
      "372/372 [==============================] - 10s 27ms/step - loss: 0.1629 - accuracy: 0.9506 - val_loss: 0.4130 - val_accuracy: 0.9062\n",
      "\n",
      "Epoch 00005: val_accuracy did not improve from 0.91875\n"
     ]
    }
   ],
   "source": [
    "history_cnn = model_cnn.fit(x_train, \n",
    "                            y_train, \n",
    "                            epochs=5,\n",
    "                            batch_size=128,\n",
    "                            validation_split=0.01,\n",
    "                            callbacks=[checkpoint_callback_cnn])\n",
    "                            #use_multiprocessing=True)"
   ]
  },
  {
   "cell_type": "code",
   "execution_count": 65,
   "id": "0c55cd65",
   "metadata": {
    "execution": {
     "iopub.execute_input": "2022-08-03T18:38:24.108282Z",
     "iopub.status.busy": "2022-08-03T18:38:24.107630Z",
     "iopub.status.idle": "2022-08-03T18:38:24.322892Z",
     "shell.execute_reply": "2022-08-03T18:38:24.321726Z"
    },
    "papermill": {
     "duration": 0.521184,
     "end_time": "2022-08-03T18:38:24.325448",
     "exception": false,
     "start_time": "2022-08-03T18:38:23.804264",
     "status": "completed"
    },
    "tags": []
   },
   "outputs": [
    {
     "data": {
      "image/png": "[encoded data removed]",
      "text/plain": [
       "<Figure size 432x288 with 1 Axes>"
      ]
     },
     "metadata": {
      "needs_background": "light"
     },
     "output_type": "display_data"
    }
   ],
   "source": [
    "plt.plot(history_cnn.history['accuracy'], \n",
    "         label='Доля верных ответов на обучающем наборе')\n",
    "plt.plot(history_cnn.history['val_accuracy'], \n",
    "         label='Доля верных ответов на проверочном наборе')\n",
    "plt.xlabel('Эпоха обучения')\n",
    "plt.ylabel('Доля верных ответов')\n",
    "plt.legend()\n",
    "plt.show()"
   ]
  },
  {
   "cell_type": "markdown",
   "id": "9e139b2d",
   "metadata": {
    "papermill": {
     "duration": 0.291623,
     "end_time": "2022-08-03T18:38:24.911810",
     "exception": false,
     "start_time": "2022-08-03T18:38:24.620187",
     "status": "completed"
    },
    "tags": []
   },
   "source": [
    "## Cеть LSTM"
   ]
  },
  {
   "cell_type": "code",
   "execution_count": 66,
   "id": "3510bf7f",
   "metadata": {
    "execution": {
     "iopub.execute_input": "2022-08-03T18:38:25.579868Z",
     "iopub.status.busy": "2022-08-03T18:38:25.579410Z",
     "iopub.status.idle": "2022-08-03T18:38:25.849147Z",
     "shell.execute_reply": "2022-08-03T18:38:25.848343Z"
    },
    "papermill": {
     "duration": 0.655219,
     "end_time": "2022-08-03T18:38:25.851706",
     "exception": false,
     "start_time": "2022-08-03T18:38:25.196487",
     "status": "completed"
    },
    "tags": []
   },
   "outputs": [],
   "source": [
    "model_lstm = Sequential()\n",
    "model_lstm.add(Embedding(num_words, 32, input_length=max_news_len))\n",
    "model_lstm.add(LSTM(16))\n",
    "model_lstm.add(Dense(50, activation='softmax'))"
   ]
  },
  {
   "cell_type": "code",
   "execution_count": 67,
   "id": "e70e78ba",
   "metadata": {
    "execution": {
     "iopub.execute_input": "2022-08-03T18:38:26.422754Z",
     "iopub.status.busy": "2022-08-03T18:38:26.422014Z",
     "iopub.status.idle": "2022-08-03T18:38:26.431335Z",
     "shell.execute_reply": "2022-08-03T18:38:26.430598Z"
    },
    "papermill": {
     "duration": 0.297682,
     "end_time": "2022-08-03T18:38:26.433448",
     "exception": false,
     "start_time": "2022-08-03T18:38:26.135766",
     "status": "completed"
    },
    "tags": []
   },
   "outputs": [],
   "source": [
    "model_lstm.compile(optimizer='adam', \n",
    "              loss='categorical_crossentropy', \n",
    "              metrics=['accuracy'])"
   ]
  },
  {
   "cell_type": "code",
   "execution_count": 68,
   "id": "8fefa5da",
   "metadata": {
    "execution": {
     "iopub.execute_input": "2022-08-03T18:38:27.074783Z",
     "iopub.status.busy": "2022-08-03T18:38:27.074052Z",
     "iopub.status.idle": "2022-08-03T18:38:27.084140Z",
     "shell.execute_reply": "2022-08-03T18:38:27.082939Z"
    },
    "papermill": {
     "duration": 0.340763,
     "end_time": "2022-08-03T18:38:27.087659",
     "exception": false,
     "start_time": "2022-08-03T18:38:26.746896",
     "status": "completed"
    },
    "tags": []
   },
   "outputs": [
    {
     "name": "stdout",
     "output_type": "stream",
     "text": [
      "Model: \"sequential_1\"\n",
      "_________________________________________________________________\n",
      "Layer (type)                 Output Shape              Param #   \n",
      "=================================================================\n",
      "embedding_1 (Embedding)      (None, 29, 32)            488320    \n",
      "_________________________________________________________________\n",
      "lstm (LSTM)                  (None, 16)                3136      \n",
      "_________________________________________________________________\n",
      "dense_2 (Dense)              (None, 50)                850       \n",
      "=================================================================\n",
      "Total params: 492,306\n",
      "Trainable params: 492,306\n",
      "Non-trainable params: 0\n",
      "_________________________________________________________________\n"
     ]
    }
   ],
   "source": [
    "model_lstm.summary()"
   ]
  },
  {
   "cell_type": "code",
   "execution_count": 69,
   "id": "01ca12d2",
   "metadata": {
    "execution": {
     "iopub.execute_input": "2022-08-03T18:38:27.798780Z",
     "iopub.status.busy": "2022-08-03T18:38:27.797859Z",
     "iopub.status.idle": "2022-08-03T18:38:27.803852Z",
     "shell.execute_reply": "2022-08-03T18:38:27.802570Z"
    },
    "papermill": {
     "duration": 0.313909,
     "end_time": "2022-08-03T18:38:27.806813",
     "exception": false,
     "start_time": "2022-08-03T18:38:27.492904",
     "status": "completed"
    },
    "tags": []
   },
   "outputs": [],
   "source": [
    "model_lstm_save_path = './model_weights/best_model_lstm.h5'\n",
    "checkpoint_callback_lstm = ModelCheckpoint(model_lstm_save_path, \n",
    "                                      monitor='val_accuracy',\n",
    "                                      save_best_only=True,\n",
    "                                      verbose=1)"
   ]
  },
  {
   "cell_type": "code",
   "execution_count": 70,
   "id": "211e7249",
   "metadata": {
    "execution": {
     "iopub.execute_input": "2022-08-03T18:38:28.446348Z",
     "iopub.status.busy": "2022-08-03T18:38:28.445220Z",
     "iopub.status.idle": "2022-08-03T18:39:57.307477Z",
     "shell.execute_reply": "2022-08-03T18:39:57.306351Z"
    },
    "papermill": {
     "duration": 89.187075,
     "end_time": "2022-08-03T18:39:57.310938",
     "exception": false,
     "start_time": "2022-08-03T18:38:28.123863",
     "status": "completed"
    },
    "tags": []
   },
   "outputs": [
    {
     "name": "stdout",
     "output_type": "stream",
     "text": [
      "Epoch 1/6\n",
      "372/372 [==============================] - 17s 39ms/step - loss: 1.9382 - accuracy: 0.6631 - val_loss: 1.3243 - val_accuracy: 0.6979\n",
      "\n",
      "Epoch 00001: val_accuracy improved from -inf to 0.69792, saving model to ./model_weights/best_model_lstm.h5\n",
      "Epoch 2/6\n",
      "372/372 [==============================] - 15s 40ms/step - loss: 1.2323 - accuracy: 0.6835 - val_loss: 1.0917 - val_accuracy: 0.7250\n",
      "\n",
      "Epoch 00002: val_accuracy improved from 0.69792 to 0.72500, saving model to ./model_weights/best_model_lstm.h5\n",
      "Epoch 3/6\n",
      "372/372 [==============================] - 14s 37ms/step - loss: 1.0030 - accuracy: 0.7555 - val_loss: 0.9507 - val_accuracy: 0.7688\n",
      "\n",
      "Epoch 00003: val_accuracy improved from 0.72500 to 0.76875, saving model to ./model_weights/best_model_lstm.h5\n",
      "Epoch 4/6\n",
      "372/372 [==============================] - 14s 37ms/step - loss: 0.7976 - accuracy: 0.8028 - val_loss: 0.8172 - val_accuracy: 0.8042\n",
      "\n",
      "Epoch 00004: val_accuracy improved from 0.76875 to 0.80417, saving model to ./model_weights/best_model_lstm.h5\n",
      "Epoch 5/6\n",
      "372/372 [==============================] - 15s 40ms/step - loss: 0.6392 - accuracy: 0.8280 - val_loss: 0.7161 - val_accuracy: 0.8250\n",
      "\n",
      "Epoch 00005: val_accuracy improved from 0.80417 to 0.82500, saving model to ./model_weights/best_model_lstm.h5\n",
      "Epoch 6/6\n",
      "372/372 [==============================] - 14s 37ms/step - loss: 0.5269 - accuracy: 0.8632 - val_loss: 0.6579 - val_accuracy: 0.8458\n",
      "\n",
      "Epoch 00006: val_accuracy improved from 0.82500 to 0.84583, saving model to ./model_weights/best_model_lstm.h5\n"
     ]
    }
   ],
   "source": [
    "history_lstm = model_lstm.fit(x_train, \n",
    "                              y_train, \n",
    "                              epochs=6,\n",
    "                              batch_size=128,\n",
    "                              validation_split=0.01,\n",
    "                              callbacks=[checkpoint_callback_lstm],\n",
    "                              use_multiprocessing=True)"
   ]
  },
  {
   "cell_type": "code",
   "execution_count": 71,
   "id": "9f19607c",
   "metadata": {
    "execution": {
     "iopub.execute_input": "2022-08-03T18:39:58.066441Z",
     "iopub.status.busy": "2022-08-03T18:39:58.065936Z",
     "iopub.status.idle": "2022-08-03T18:39:58.269733Z",
     "shell.execute_reply": "2022-08-03T18:39:58.268313Z"
    },
    "papermill": {
     "duration": 0.58436,
     "end_time": "2022-08-03T18:39:58.272759",
     "exception": false,
     "start_time": "2022-08-03T18:39:57.688399",
     "status": "completed"
    },
    "tags": []
   },
   "outputs": [
    {
     "data": {
      "image/png": "[encoded data removed]",
      "text/plain": [
       "<Figure size 432x288 with 1 Axes>"
      ]
     },
     "metadata": {
      "needs_background": "light"
     },
     "output_type": "display_data"
    }
   ],
   "source": [
    "plt.plot(history_lstm.history['accuracy'], \n",
    "         label='Доля верных ответов на обучающем наборе')\n",
    "plt.plot(history_lstm.history['val_accuracy'], \n",
    "         label='Доля верных ответов на проверочном наборе')\n",
    "plt.xlabel('Эпоха обучения')\n",
    "plt.ylabel('Доля верных ответов')\n",
    "plt.legend()\n",
    "plt.show()"
   ]
  },
  {
   "cell_type": "markdown",
   "id": "7ea509aa",
   "metadata": {
    "papermill": {
     "duration": 0.357796,
     "end_time": "2022-08-03T18:39:58.984652",
     "exception": false,
     "start_time": "2022-08-03T18:39:58.626856",
     "status": "completed"
    },
    "tags": []
   },
   "source": [
    "## Cеть GRU"
   ]
  },
  {
   "cell_type": "code",
   "execution_count": 72,
   "id": "d8eaff79",
   "metadata": {
    "execution": {
     "iopub.execute_input": "2022-08-03T18:39:59.803792Z",
     "iopub.status.busy": "2022-08-03T18:39:59.802943Z",
     "iopub.status.idle": "2022-08-03T18:40:00.065790Z",
     "shell.execute_reply": "2022-08-03T18:40:00.064711Z"
    },
    "papermill": {
     "duration": 0.627514,
     "end_time": "2022-08-03T18:40:00.068453",
     "exception": false,
     "start_time": "2022-08-03T18:39:59.440939",
     "status": "completed"
    },
    "tags": []
   },
   "outputs": [],
   "source": [
    "model_gru = Sequential()\n",
    "model_gru.add(Embedding(num_words, 32, input_length=max_news_len))\n",
    "model_gru.add(GRU(16))\n",
    "model_gru.add(Dense(50, activation='softmax'))"
   ]
  },
  {
   "cell_type": "code",
   "execution_count": 73,
   "id": "8a7e0bcb",
   "metadata": {
    "execution": {
     "iopub.execute_input": "2022-08-03T18:40:00.798885Z",
     "iopub.status.busy": "2022-08-03T18:40:00.798343Z",
     "iopub.status.idle": "2022-08-03T18:40:00.810992Z",
     "shell.execute_reply": "2022-08-03T18:40:00.809376Z"
    },
    "papermill": {
     "duration": 0.381024,
     "end_time": "2022-08-03T18:40:00.813626",
     "exception": false,
     "start_time": "2022-08-03T18:40:00.432602",
     "status": "completed"
    },
    "tags": []
   },
   "outputs": [],
   "source": [
    "model_gru.compile(optimizer='adam', \n",
    "              loss='categorical_crossentropy', \n",
    "              metrics=['accuracy'])"
   ]
  },
  {
   "cell_type": "code",
   "execution_count": 74,
   "id": "dcd925b4",
   "metadata": {
    "execution": {
     "iopub.execute_input": "2022-08-03T18:40:01.677534Z",
     "iopub.status.busy": "2022-08-03T18:40:01.677006Z",
     "iopub.status.idle": "2022-08-03T18:40:01.685236Z",
     "shell.execute_reply": "2022-08-03T18:40:01.683663Z"
    },
    "papermill": {
     "duration": 0.461699,
     "end_time": "2022-08-03T18:40:01.688176",
     "exception": false,
     "start_time": "2022-08-03T18:40:01.226477",
     "status": "completed"
    },
    "tags": []
   },
   "outputs": [
    {
     "name": "stdout",
     "output_type": "stream",
     "text": [
      "Model: \"sequential_2\"\n",
      "_________________________________________________________________\n",
      "Layer (type)                 Output Shape              Param #   \n",
      "=================================================================\n",
      "embedding_2 (Embedding)      (None, 29, 32)            488320    \n",
      "_________________________________________________________________\n",
      "gru (GRU)                    (None, 16)                2400      \n",
      "_________________________________________________________________\n",
      "dense_3 (Dense)              (None, 50)                850       \n",
      "=================================================================\n",
      "Total params: 491,570\n",
      "Trainable params: 491,570\n",
      "Non-trainable params: 0\n",
      "_________________________________________________________________\n"
     ]
    }
   ],
   "source": [
    "model_gru.summary()"
   ]
  },
  {
   "cell_type": "code",
   "execution_count": 75,
   "id": "500617a1",
   "metadata": {
    "execution": {
     "iopub.execute_input": "2022-08-03T18:40:02.436193Z",
     "iopub.status.busy": "2022-08-03T18:40:02.435763Z",
     "iopub.status.idle": "2022-08-03T18:40:02.442286Z",
     "shell.execute_reply": "2022-08-03T18:40:02.441131Z"
    },
    "papermill": {
     "duration": 0.386634,
     "end_time": "2022-08-03T18:40:02.446811",
     "exception": false,
     "start_time": "2022-08-03T18:40:02.060177",
     "status": "completed"
    },
    "tags": []
   },
   "outputs": [],
   "source": [
    "model_gru_save_path = './model_weights/best_model_gru.h5'\n",
    "checkpoint_callback_gru = ModelCheckpoint(model_gru_save_path, \n",
    "                                      monitor='val_accuracy',\n",
    "                                      save_best_only=True,\n",
    "                                      verbose=1)"
   ]
  },
  {
   "cell_type": "code",
   "execution_count": 76,
   "id": "52d4e8e5",
   "metadata": {
    "execution": {
     "iopub.execute_input": "2022-08-03T18:40:03.196927Z",
     "iopub.status.busy": "2022-08-03T18:40:03.196406Z",
     "iopub.status.idle": "2022-08-03T18:41:48.697584Z",
     "shell.execute_reply": "2022-08-03T18:41:48.695891Z"
    },
    "papermill": {
     "duration": 105.877574,
     "end_time": "2022-08-03T18:41:48.700792",
     "exception": false,
     "start_time": "2022-08-03T18:40:02.823218",
     "status": "completed"
    },
    "tags": []
   },
   "outputs": [
    {
     "name": "stdout",
     "output_type": "stream",
     "text": [
      "Epoch 1/6\n",
      "372/372 [==============================] - 20s 46ms/step - loss: 1.8897 - accuracy: 0.6632 - val_loss: 1.2713 - val_accuracy: 0.7000\n",
      "\n",
      "Epoch 00001: val_accuracy improved from -inf to 0.70000, saving model to ./model_weights/best_model_gru.h5\n",
      "Epoch 2/6\n",
      "372/372 [==============================] - 17s 45ms/step - loss: 1.1730 - accuracy: 0.7219 - val_loss: 0.9199 - val_accuracy: 0.7979\n",
      "\n",
      "Epoch 00002: val_accuracy improved from 0.70000 to 0.79792, saving model to ./model_weights/best_model_gru.h5\n",
      "Epoch 3/6\n",
      "372/372 [==============================] - 16s 44ms/step - loss: 0.8022 - accuracy: 0.8134 - val_loss: 0.6988 - val_accuracy: 0.8375\n",
      "\n",
      "Epoch 00003: val_accuracy improved from 0.79792 to 0.83750, saving model to ./model_weights/best_model_gru.h5\n",
      "Epoch 4/6\n",
      "372/372 [==============================] - 17s 47ms/step - loss: 0.6075 - accuracy: 0.8531 - val_loss: 0.6028 - val_accuracy: 0.8625\n",
      "\n",
      "Epoch 00004: val_accuracy improved from 0.83750 to 0.86250, saving model to ./model_weights/best_model_gru.h5\n",
      "Epoch 5/6\n",
      "372/372 [==============================] - 17s 44ms/step - loss: 0.4971 - accuracy: 0.8767 - val_loss: 0.5442 - val_accuracy: 0.8729\n",
      "\n",
      "Epoch 00005: val_accuracy improved from 0.86250 to 0.87292, saving model to ./model_weights/best_model_gru.h5\n",
      "Epoch 6/6\n",
      "372/372 [==============================] - 18s 49ms/step - loss: 0.4195 - accuracy: 0.8916 - val_loss: 0.5384 - val_accuracy: 0.8833\n",
      "\n",
      "Epoch 00006: val_accuracy improved from 0.87292 to 0.88333, saving model to ./model_weights/best_model_gru.h5\n"
     ]
    }
   ],
   "source": [
    "history_gru = model_gru.fit(x_train, \n",
    "                              y_train, \n",
    "                              epochs=6,\n",
    "                              batch_size=128,\n",
    "                              validation_split=0.01,\n",
    "                              callbacks=[checkpoint_callback_gru],\n",
    "                              use_multiprocessing=True)"
   ]
  },
  {
   "cell_type": "code",
   "execution_count": 77,
   "id": "1f120cbc",
   "metadata": {
    "execution": {
     "iopub.execute_input": "2022-08-03T18:41:49.771137Z",
     "iopub.status.busy": "2022-08-03T18:41:49.769974Z",
     "iopub.status.idle": "2022-08-03T18:41:49.993763Z",
     "shell.execute_reply": "2022-08-03T18:41:49.992188Z"
    },
    "papermill": {
     "duration": 0.803154,
     "end_time": "2022-08-03T18:41:49.996698",
     "exception": false,
     "start_time": "2022-08-03T18:41:49.193544",
     "status": "completed"
    },
    "tags": []
   },
   "outputs": [
    {
     "data": {
      "image/png": "[encoded data removed]",
      "text/plain": [
       "<Figure size 432x288 with 1 Axes>"
      ]
     },
     "metadata": {
      "needs_background": "light"
     },
     "output_type": "display_data"
    }
   ],
   "source": [
    "plt.plot(history_gru.history['accuracy'], \n",
    "         label='Доля верных ответов на обучающем наборе')\n",
    "plt.plot(history_gru.history['val_accuracy'], \n",
    "         label='Доля верных ответов на проверочном наборе')\n",
    "plt.xlabel('Эпоха обучения')\n",
    "plt.ylabel('Доля верных ответов')\n",
    "plt.legend()\n",
    "plt.show()"
   ]
  },
  {
   "cell_type": "markdown",
   "id": "39c0fb1b",
   "metadata": {
    "papermill": {
     "duration": 0.492485,
     "end_time": "2022-08-03T18:41:50.959860",
     "exception": false,
     "start_time": "2022-08-03T18:41:50.467375",
     "status": "completed"
    },
    "tags": []
   },
   "source": [
    "## Оцениваем качество работы сети на тестовом наборе данных"
   ]
  },
  {
   "cell_type": "markdown",
   "id": "8cefe607",
   "metadata": {
    "papermill": {
     "duration": 0.576365,
     "end_time": "2022-08-03T18:41:52.043673",
     "exception": false,
     "start_time": "2022-08-03T18:41:51.467308",
     "status": "completed"
    },
    "tags": []
   },
   "source": [
    "### Одномерная сверточная сеть "
   ]
  },
  {
   "cell_type": "code",
   "execution_count": 78,
   "id": "d592f17f",
   "metadata": {
    "execution": {
     "iopub.execute_input": "2022-08-03T18:41:52.982112Z",
     "iopub.status.busy": "2022-08-03T18:41:52.981638Z",
     "iopub.status.idle": "2022-08-03T18:41:52.998767Z",
     "shell.execute_reply": "2022-08-03T18:41:52.997682Z"
    },
    "papermill": {
     "duration": 0.47699,
     "end_time": "2022-08-03T18:41:53.001534",
     "exception": false,
     "start_time": "2022-08-03T18:41:52.524544",
     "status": "completed"
    },
    "tags": []
   },
   "outputs": [],
   "source": [
    "model_cnn.load_weights(model_cnn_save_path)"
   ]
  },
  {
   "cell_type": "code",
   "execution_count": 79,
   "id": "53c5e93f",
   "metadata": {
    "execution": {
     "iopub.execute_input": "2022-08-03T18:41:54.022282Z",
     "iopub.status.busy": "2022-08-03T18:41:54.021815Z",
     "iopub.status.idle": "2022-08-03T18:41:56.082696Z",
     "shell.execute_reply": "2022-08-03T18:41:56.081334Z"
    },
    "papermill": {
     "duration": 2.620928,
     "end_time": "2022-08-03T18:41:56.085871",
     "exception": false,
     "start_time": "2022-08-03T18:41:53.464943",
     "status": "completed"
    },
    "tags": []
   },
   "outputs": [
    {
     "name": "stdout",
     "output_type": "stream",
     "text": [
      "375/375 [==============================] - 2s 5ms/step - loss: 0.4058 - accuracy: 0.8873\n"
     ]
    },
    {
     "data": {
      "text/plain": [
       "[0.4057527184486389, 0.887333333492279]"
      ]
     },
     "execution_count": 79,
     "metadata": {},
     "output_type": "execute_result"
    }
   ],
   "source": [
    "model_cnn.evaluate(x_test, y_test, verbose=1)"
   ]
  },
  {
   "cell_type": "markdown",
   "id": "155bb660",
   "metadata": {
    "papermill": {
     "duration": 0.465235,
     "end_time": "2022-08-03T18:41:56.998877",
     "exception": false,
     "start_time": "2022-08-03T18:41:56.533642",
     "status": "completed"
    },
    "tags": []
   },
   "source": [
    "### Сеть LSTM"
   ]
  },
  {
   "cell_type": "code",
   "execution_count": 80,
   "id": "5ad2992a",
   "metadata": {
    "execution": {
     "iopub.execute_input": "2022-08-03T18:41:57.995900Z",
     "iopub.status.busy": "2022-08-03T18:41:57.994729Z",
     "iopub.status.idle": "2022-08-03T18:41:58.011170Z",
     "shell.execute_reply": "2022-08-03T18:41:58.009999Z"
    },
    "papermill": {
     "duration": 0.571499,
     "end_time": "2022-08-03T18:41:58.014473",
     "exception": false,
     "start_time": "2022-08-03T18:41:57.442974",
     "status": "completed"
    },
    "tags": []
   },
   "outputs": [],
   "source": [
    "model_lstm.load_weights(model_lstm_save_path)"
   ]
  },
  {
   "cell_type": "code",
   "execution_count": 81,
   "id": "a834f52f",
   "metadata": {
    "execution": {
     "iopub.execute_input": "2022-08-03T18:41:58.922544Z",
     "iopub.status.busy": "2022-08-03T18:41:58.921671Z",
     "iopub.status.idle": "2022-08-03T18:42:02.731893Z",
     "shell.execute_reply": "2022-08-03T18:42:02.730461Z"
    },
    "papermill": {
     "duration": 4.262498,
     "end_time": "2022-08-03T18:42:02.734354",
     "exception": false,
     "start_time": "2022-08-03T18:41:58.471856",
     "status": "completed"
    },
    "tags": []
   },
   "outputs": [
    {
     "name": "stdout",
     "output_type": "stream",
     "text": [
      "375/375 [==============================] - 4s 8ms/step - loss: 0.6406 - accuracy: 0.8412\n"
     ]
    },
    {
     "data": {
      "text/plain": [
       "[0.6405897736549377, 0.8411666750907898]"
      ]
     },
     "execution_count": 81,
     "metadata": {},
     "output_type": "execute_result"
    }
   ],
   "source": [
    "model_lstm.evaluate(x_test, y_test, verbose=1)"
   ]
  },
  {
   "cell_type": "markdown",
   "id": "760a32f3",
   "metadata": {
    "execution": {
     "iopub.execute_input": "2022-06-12T08:39:20.945649Z",
     "iopub.status.busy": "2022-06-12T08:39:20.944996Z",
     "iopub.status.idle": "2022-06-12T08:39:20.949751Z",
     "shell.execute_reply": "2022-06-12T08:39:20.948786Z",
     "shell.execute_reply.started": "2022-06-12T08:39:20.945592Z"
    },
    "papermill": {
     "duration": 0.45401,
     "end_time": "2022-08-03T18:42:03.752258",
     "exception": false,
     "start_time": "2022-08-03T18:42:03.298248",
     "status": "completed"
    },
    "tags": []
   },
   "source": [
    "### Сеть GRU"
   ]
  },
  {
   "cell_type": "code",
   "execution_count": 82,
   "id": "a33ab974",
   "metadata": {
    "execution": {
     "iopub.execute_input": "2022-08-03T18:42:04.681039Z",
     "iopub.status.busy": "2022-08-03T18:42:04.680476Z",
     "iopub.status.idle": "2022-08-03T18:42:04.698461Z",
     "shell.execute_reply": "2022-08-03T18:42:04.697166Z"
    },
    "papermill": {
     "duration": 0.492041,
     "end_time": "2022-08-03T18:42:04.701238",
     "exception": false,
     "start_time": "2022-08-03T18:42:04.209197",
     "status": "completed"
    },
    "tags": []
   },
   "outputs": [],
   "source": [
    "model_gru.load_weights(model_gru_save_path)"
   ]
  },
  {
   "cell_type": "code",
   "execution_count": 83,
   "id": "70826506",
   "metadata": {
    "execution": {
     "iopub.execute_input": "2022-08-03T18:42:05.758824Z",
     "iopub.status.busy": "2022-08-03T18:42:05.757933Z",
     "iopub.status.idle": "2022-08-03T18:42:10.941207Z",
     "shell.execute_reply": "2022-08-03T18:42:10.939745Z"
    },
    "papermill": {
     "duration": 5.666344,
     "end_time": "2022-08-03T18:42:10.944181",
     "exception": false,
     "start_time": "2022-08-03T18:42:05.277837",
     "status": "completed"
    },
    "tags": []
   },
   "outputs": [
    {
     "name": "stdout",
     "output_type": "stream",
     "text": [
      "375/375 [==============================] - 5s 12ms/step - loss: 0.5289 - accuracy: 0.8684\n"
     ]
    },
    {
     "data": {
      "text/plain": [
       "[0.5288543105125427, 0.8684166669845581]"
      ]
     },
     "execution_count": 83,
     "metadata": {},
     "output_type": "execute_result"
    }
   ],
   "source": [
    "model_gru.evaluate(x_test, y_test, verbose=1)"
   ]
  },
  {
   "cell_type": "markdown",
   "id": "9380a9d7",
   "metadata": {
    "papermill": {
     "duration": 0.469235,
     "end_time": "2022-08-03T18:42:11.877662",
     "exception": false,
     "start_time": "2022-08-03T18:42:11.408427",
     "status": "completed"
    },
    "tags": []
   },
   "source": [
    "# Загружу тестовые данные и получу предсказание"
   ]
  },
  {
   "cell_type": "code",
   "execution_count": 84,
   "id": "43b543e9",
   "metadata": {
    "execution": {
     "iopub.execute_input": "2022-08-03T18:42:12.928990Z",
     "iopub.status.busy": "2022-08-03T18:42:12.927028Z",
     "iopub.status.idle": "2022-08-03T18:42:13.364640Z",
     "shell.execute_reply": "2022-08-03T18:42:13.363359Z"
    },
    "papermill": {
     "duration": 0.932021,
     "end_time": "2022-08-03T18:42:13.368182",
     "exception": false,
     "start_time": "2022-08-03T18:42:12.436161",
     "status": "completed"
    },
    "tags": []
   },
   "outputs": [],
   "source": [
    "test = pd.read_csv(PATH + 'df_test.csv')\n",
    "test.drop(['Unnamed: 0'], axis = 1, inplace = True)"
   ]
  },
  {
   "cell_type": "code",
   "execution_count": 85,
   "id": "d0b2212b",
   "metadata": {
    "execution": {
     "iopub.execute_input": "2022-08-03T18:42:14.450192Z",
     "iopub.status.busy": "2022-08-03T18:42:14.449703Z",
     "iopub.status.idle": "2022-08-03T18:42:14.465636Z",
     "shell.execute_reply": "2022-08-03T18:42:14.464178Z"
    },
    "papermill": {
     "duration": 0.59745,
     "end_time": "2022-08-03T18:42:14.468552",
     "exception": false,
     "start_time": "2022-08-03T18:42:13.871102",
     "status": "completed"
    },
    "tags": []
   },
   "outputs": [
    {
     "data": {
      "text/html": [
       "<div>\n",
       "<style scoped>\n",
       "    .dataframe tbody tr th:only-of-type {\n",
       "        vertical-align: middle;\n",
       "    }\n",
       "\n",
       "    .dataframe tbody tr th {\n",
       "        vertical-align: top;\n",
       "    }\n",
       "\n",
       "    .dataframe thead th {\n",
       "        text-align: right;\n",
       "    }\n",
       "</style>\n",
       "<table border=\"1\" class=\"dataframe\">\n",
       "  <thead>\n",
       "    <tr style=\"text-align: right;\">\n",
       "      <th></th>\n",
       "      <th>text</th>\n",
       "      <th>class</th>\n",
       "    </tr>\n",
       "  </thead>\n",
       "  <tbody>\n",
       "    <tr>\n",
       "      <th>19858</th>\n",
       "      <td>Личной выгоды никакой не было\", – сказал тогда...</td>\n",
       "      <td>O</td>\n",
       "    </tr>\n",
       "    <tr>\n",
       "      <th>29682</th>\n",
       "      <td>Я хочу, чтобы процесс пошел дальше\", - сказала...</td>\n",
       "      <td>O</td>\n",
       "    </tr>\n",
       "    <tr>\n",
       "      <th>9580</th>\n",
       "      <td>\"В республику на развитие детского футбола еже...</td>\n",
       "      <td>O</td>\n",
       "    </tr>\n",
       "  </tbody>\n",
       "</table>\n",
       "</div>"
      ],
      "text/plain": [
       "                                                    text class\n",
       "19858  Личной выгоды никакой не было\", – сказал тогда...     O\n",
       "29682  Я хочу, чтобы процесс пошел дальше\", - сказала...     O\n",
       "9580   \"В республику на развитие детского футбола еже...     O"
      ]
     },
     "execution_count": 85,
     "metadata": {},
     "output_type": "execute_result"
    }
   ],
   "source": [
    "test.sample(3)"
   ]
  },
  {
   "cell_type": "code",
   "execution_count": 86,
   "id": "5125ed25",
   "metadata": {
    "execution": {
     "iopub.execute_input": "2022-08-03T18:42:15.424287Z",
     "iopub.status.busy": "2022-08-03T18:42:15.423500Z",
     "iopub.status.idle": "2022-08-03T18:42:15.448408Z",
     "shell.execute_reply": "2022-08-03T18:42:15.447112Z"
    },
    "papermill": {
     "duration": 0.514212,
     "end_time": "2022-08-03T18:42:15.452783",
     "exception": false,
     "start_time": "2022-08-03T18:42:14.938571",
     "status": "completed"
    },
    "tags": []
   },
   "outputs": [
    {
     "name": "stdout",
     "output_type": "stream",
     "text": [
      "<class 'pandas.core.frame.DataFrame'>\n",
      "RangeIndex: 40000 entries, 0 to 39999\n",
      "Data columns (total 2 columns):\n",
      " #   Column  Non-Null Count  Dtype \n",
      "---  ------  --------------  ----- \n",
      " 0   text    40000 non-null  object\n",
      " 1   class   40000 non-null  object\n",
      "dtypes: object(2)\n",
      "memory usage: 625.1+ KB\n"
     ]
    }
   ],
   "source": [
    "test.info()"
   ]
  },
  {
   "cell_type": "code",
   "execution_count": 87,
   "id": "91d1fac3",
   "metadata": {
    "execution": {
     "iopub.execute_input": "2022-08-03T18:42:16.481570Z",
     "iopub.status.busy": "2022-08-03T18:42:16.480728Z",
     "iopub.status.idle": "2022-08-03T18:42:17.457997Z",
     "shell.execute_reply": "2022-08-03T18:42:17.456676Z"
    },
    "papermill": {
     "duration": 1.540604,
     "end_time": "2022-08-03T18:42:17.460676",
     "exception": false,
     "start_time": "2022-08-03T18:42:15.920072",
     "status": "completed"
    },
    "tags": []
   },
   "outputs": [
    {
     "name": "stderr",
     "output_type": "stream",
     "text": [
      "100%|██████████| 40000/40000 [00:00<00:00, 41531.10it/s]\n"
     ]
    }
   ],
   "source": [
    "test['text_lem'] = test['text'].progress_apply(rem_spec_chars)"
   ]
  },
  {
   "cell_type": "code",
   "execution_count": 88,
   "id": "4931b9b4",
   "metadata": {
    "execution": {
     "iopub.execute_input": "2022-08-03T18:42:18.395286Z",
     "iopub.status.busy": "2022-08-03T18:42:18.394808Z",
     "iopub.status.idle": "2022-08-03T18:42:18.889602Z",
     "shell.execute_reply": "2022-08-03T18:42:18.888415Z"
    },
    "papermill": {
     "duration": 0.975375,
     "end_time": "2022-08-03T18:42:18.893709",
     "exception": false,
     "start_time": "2022-08-03T18:42:17.918334",
     "status": "completed"
    },
    "tags": []
   },
   "outputs": [
    {
     "name": "stderr",
     "output_type": "stream",
     "text": [
      "100%|██████████| 40000/40000 [00:00<00:00, 84251.39it/s]\n"
     ]
    }
   ],
   "source": [
    "test['text_lem'] = test['text_lem'].progress_apply(low)"
   ]
  },
  {
   "cell_type": "code",
   "execution_count": 89,
   "id": "54f77cb3",
   "metadata": {
    "execution": {
     "iopub.execute_input": "2022-08-03T18:42:19.931957Z",
     "iopub.status.busy": "2022-08-03T18:42:19.930697Z",
     "iopub.status.idle": "2022-08-03T18:42:22.599844Z",
     "shell.execute_reply": "2022-08-03T18:42:22.598290Z"
    },
    "papermill": {
     "duration": 3.143087,
     "end_time": "2022-08-03T18:42:22.604000",
     "exception": false,
     "start_time": "2022-08-03T18:42:19.460913",
     "status": "completed"
    },
    "tags": []
   },
   "outputs": [
    {
     "name": "stderr",
     "output_type": "stream",
     "text": [
      "100%|██████████| 40000/40000 [00:02<00:00, 15201.07it/s]\n"
     ]
    }
   ],
   "source": [
    "test['text_lem'] = test['text_lem'].progress_apply(stop_words)"
   ]
  },
  {
   "cell_type": "code",
   "execution_count": 90,
   "id": "4d518313",
   "metadata": {
    "execution": {
     "iopub.execute_input": "2022-08-03T18:42:23.551586Z",
     "iopub.status.busy": "2022-08-03T18:42:23.551028Z",
     "iopub.status.idle": "2022-08-03T18:44:54.710273Z",
     "shell.execute_reply": "2022-08-03T18:44:54.708345Z"
    },
    "papermill": {
     "duration": 151.64071,
     "end_time": "2022-08-03T18:44:54.714064",
     "exception": false,
     "start_time": "2022-08-03T18:42:23.073354",
     "status": "completed"
    },
    "tags": []
   },
   "outputs": [
    {
     "name": "stderr",
     "output_type": "stream",
     "text": [
      "100%|██████████| 40000/40000 [02:31<00:00, 264.70it/s]\n"
     ]
    }
   ],
   "source": [
    "test['text_lem'] = test['text_lem'].progress_apply(lem)"
   ]
  },
  {
   "cell_type": "code",
   "execution_count": 91,
   "id": "b5858d4c",
   "metadata": {
    "execution": {
     "iopub.execute_input": "2022-08-03T18:44:55.825223Z",
     "iopub.status.busy": "2022-08-03T18:44:55.824675Z",
     "iopub.status.idle": "2022-08-03T18:46:03.784491Z",
     "shell.execute_reply": "2022-08-03T18:46:03.782726Z"
    },
    "papermill": {
     "duration": 68.515371,
     "end_time": "2022-08-03T18:46:03.788652",
     "exception": false,
     "start_time": "2022-08-03T18:44:55.273281",
     "status": "completed"
    },
    "tags": []
   },
   "outputs": [
    {
     "name": "stderr",
     "output_type": "stream",
     "text": [
      "100%|██████████| 40000/40000 [01:07<00:00, 588.71it/s]\n"
     ]
    }
   ],
   "source": [
    "test['text_lem_set'] = test['text_lem'].progress_apply(lambda x: text_lem_set(x))"
   ]
  },
  {
   "cell_type": "code",
   "execution_count": 92,
   "id": "e7310f4d",
   "metadata": {
    "execution": {
     "iopub.execute_input": "2022-08-03T18:46:05.181437Z",
     "iopub.status.busy": "2022-08-03T18:46:05.180933Z",
     "iopub.status.idle": "2022-08-03T18:46:05.877874Z",
     "shell.execute_reply": "2022-08-03T18:46:05.876355Z"
    },
    "papermill": {
     "duration": 1.341784,
     "end_time": "2022-08-03T18:46:05.881213",
     "exception": false,
     "start_time": "2022-08-03T18:46:04.539429",
     "status": "completed"
    },
    "tags": []
   },
   "outputs": [],
   "source": [
    "test_2_sequences = tokenizer.texts_to_sequences(test['text_lem_set'])\n",
    "\n",
    "x_test_2 = pad_sequences(test_2_sequences, maxlen=max_news_len)"
   ]
  },
  {
   "cell_type": "code",
   "execution_count": 93,
   "id": "6755474b",
   "metadata": {
    "execution": {
     "iopub.execute_input": "2022-08-03T18:46:07.256164Z",
     "iopub.status.busy": "2022-08-03T18:46:07.255687Z",
     "iopub.status.idle": "2022-08-03T18:46:27.704459Z",
     "shell.execute_reply": "2022-08-03T18:46:27.703022Z"
    },
    "papermill": {
     "duration": 21.184168,
     "end_time": "2022-08-03T18:46:27.708475",
     "exception": false,
     "start_time": "2022-08-03T18:46:06.524307",
     "status": "completed"
    },
    "tags": []
   },
   "outputs": [
    {
     "name": "stdout",
     "output_type": "stream",
     "text": [
      "1250/1250 [==============================] - 6s 4ms/step\n",
      "1250/1250 [==============================] - 15s 11ms/step\n"
     ]
    }
   ],
   "source": [
    "y_test_pred_cnn = model_cnn.predict(x_test_2, verbose=1)\n",
    "#y_test_pred_lstm = model_lstm.predict(x_test_2, verbose=1)\n",
    "y_test_pred_gru = model_gru.predict(x_test_2, verbose=1)"
   ]
  },
  {
   "cell_type": "code",
   "execution_count": 94,
   "id": "3f6281e5",
   "metadata": {
    "execution": {
     "iopub.execute_input": "2022-08-03T18:46:29.115349Z",
     "iopub.status.busy": "2022-08-03T18:46:29.114737Z",
     "iopub.status.idle": "2022-08-03T18:46:31.214153Z",
     "shell.execute_reply": "2022-08-03T18:46:31.212701Z"
    },
    "papermill": {
     "duration": 2.800832,
     "end_time": "2022-08-03T18:46:31.217742",
     "exception": false,
     "start_time": "2022-08-03T18:46:28.416910",
     "status": "completed"
    },
    "tags": []
   },
   "outputs": [
    {
     "name": "stderr",
     "output_type": "stream",
     "text": [
      "100%|██████████| 40000/40000 [00:02<00:00, 19284.18it/s]\n"
     ]
    },
    {
     "data": {
      "text/plain": [
       "(40000, 50)"
      ]
     },
     "execution_count": 94,
     "metadata": {},
     "output_type": "execute_result"
    }
   ],
   "source": [
    "test_pred = np.zeros(y_test_pred_cnn.shape)\n",
    "for i in tqdm(range(y_test_pred_cnn.shape[0])):\n",
    "    for j in range(y_test_pred_cnn.shape[1]):\n",
    "        test_pred[i,j] = max(y_test_pred_cnn[i,j], y_test_pred_gru[i,j])\n",
    "\n",
    "test_pred.shape\n"
   ]
  },
  {
   "cell_type": "code",
   "execution_count": 95,
   "id": "4253e034",
   "metadata": {
    "execution": {
     "iopub.execute_input": "2022-08-03T18:46:32.581770Z",
     "iopub.status.busy": "2022-08-03T18:46:32.581199Z",
     "iopub.status.idle": "2022-08-03T18:46:32.590611Z",
     "shell.execute_reply": "2022-08-03T18:46:32.589092Z"
    },
    "papermill": {
     "duration": 0.64191,
     "end_time": "2022-08-03T18:46:32.593397",
     "exception": false,
     "start_time": "2022-08-03T18:46:31.951487",
     "status": "completed"
    },
    "tags": []
   },
   "outputs": [
    {
     "data": {
      "text/plain": [
       "0.9552508592605591"
      ]
     },
     "execution_count": 95,
     "metadata": {},
     "output_type": "execute_result"
    }
   ],
   "source": [
    "test_pred[1].max()"
   ]
  },
  {
   "cell_type": "code",
   "execution_count": 96,
   "id": "ad0790b9",
   "metadata": {
    "execution": {
     "iopub.execute_input": "2022-08-03T18:46:33.971152Z",
     "iopub.status.busy": "2022-08-03T18:46:33.970483Z",
     "iopub.status.idle": "2022-08-03T18:46:34.001479Z",
     "shell.execute_reply": "2022-08-03T18:46:34.000020Z"
    },
    "papermill": {
     "duration": 0.773077,
     "end_time": "2022-08-03T18:46:34.004204",
     "exception": false,
     "start_time": "2022-08-03T18:46:33.231127",
     "status": "completed"
    },
    "tags": []
   },
   "outputs": [
    {
     "data": {
      "text/html": [
       "<div>\n",
       "<style scoped>\n",
       "    .dataframe tbody tr th:only-of-type {\n",
       "        vertical-align: middle;\n",
       "    }\n",
       "\n",
       "    .dataframe tbody tr th {\n",
       "        vertical-align: top;\n",
       "    }\n",
       "\n",
       "    .dataframe thead th {\n",
       "        text-align: right;\n",
       "    }\n",
       "</style>\n",
       "<table border=\"1\" class=\"dataframe\">\n",
       "  <thead>\n",
       "    <tr style=\"text-align: right;\">\n",
       "      <th></th>\n",
       "      <th>text</th>\n",
       "      <th>class</th>\n",
       "      <th>text_lem</th>\n",
       "      <th>text_lem_set</th>\n",
       "    </tr>\n",
       "  </thead>\n",
       "  <tbody>\n",
       "    <tr>\n",
       "      <th>12099</th>\n",
       "      <td>Из разряда невозможного: дело против многодетн...</td>\n",
       "      <td>O</td>\n",
       "      <td>[разряд, невозможный, дело, против, многодетны...</td>\n",
       "      <td>[невозможный, дело, против, многодетный, мать,...</td>\n",
       "    </tr>\n",
       "    <tr>\n",
       "      <th>23103</th>\n",
       "      <td>Но очевидцы рассказывают, что по лондонским ма...</td>\n",
       "      <td>O</td>\n",
       "      <td>[очевидец, рассказывать, лондонский, магазин, ...</td>\n",
       "      <td>[очевидец, рассказывать, лондонский, магазин, ...</td>\n",
       "    </tr>\n",
       "    <tr>\n",
       "      <th>6572</th>\n",
       "      <td>В отношении начальника ГИБДД Ставрополья возбу...</td>\n",
       "      <td>O</td>\n",
       "      <td>[отношение, начальник, гибдд, ставрополье, воз...</td>\n",
       "      <td>[отношение, начальник, гибдд, ставрополье, воз...</td>\n",
       "    </tr>\n",
       "  </tbody>\n",
       "</table>\n",
       "</div>"
      ],
      "text/plain": [
       "                                                    text class  \\\n",
       "12099  Из разряда невозможного: дело против многодетн...     O   \n",
       "23103  Но очевидцы рассказывают, что по лондонским ма...     O   \n",
       "6572   В отношении начальника ГИБДД Ставрополья возбу...     O   \n",
       "\n",
       "                                                text_lem  \\\n",
       "12099  [разряд, невозможный, дело, против, многодетны...   \n",
       "23103  [очевидец, рассказывать, лондонский, магазин, ...   \n",
       "6572   [отношение, начальник, гибдд, ставрополье, воз...   \n",
       "\n",
       "                                            text_lem_set  \n",
       "12099  [невозможный, дело, против, многодетный, мать,...  \n",
       "23103  [очевидец, рассказывать, лондонский, магазин, ...  \n",
       "6572   [отношение, начальник, гибдд, ставрополье, воз...  "
      ]
     },
     "execution_count": 96,
     "metadata": {},
     "output_type": "execute_result"
    }
   ],
   "source": [
    "test.sample(3)"
   ]
  },
  {
   "cell_type": "code",
   "execution_count": 97,
   "id": "2ca1ddf1",
   "metadata": {
    "execution": {
     "iopub.execute_input": "2022-08-03T18:46:35.424690Z",
     "iopub.status.busy": "2022-08-03T18:46:35.424115Z",
     "iopub.status.idle": "2022-08-03T18:46:35.891091Z",
     "shell.execute_reply": "2022-08-03T18:46:35.889177Z"
    },
    "papermill": {
     "duration": 1.242359,
     "end_time": "2022-08-03T18:46:35.894830",
     "exception": false,
     "start_time": "2022-08-03T18:46:34.652471",
     "status": "completed"
    },
    "tags": []
   },
   "outputs": [],
   "source": [
    "test_pred_class = []\n",
    "for i in range(len(test_pred)):\n",
    "    index, max_value = max(enumerate(test_pred[i]), key=lambda i_v: i_v[1])\n",
    "    test_pred_class.append((index))"
   ]
  },
  {
   "cell_type": "code",
   "execution_count": 98,
   "id": "b1551daf",
   "metadata": {
    "execution": {
     "iopub.execute_input": "2022-08-03T18:46:37.271897Z",
     "iopub.status.busy": "2022-08-03T18:46:37.271338Z",
     "iopub.status.idle": "2022-08-03T18:46:37.279299Z",
     "shell.execute_reply": "2022-08-03T18:46:37.277974Z"
    },
    "papermill": {
     "duration": 0.705352,
     "end_time": "2022-08-03T18:46:37.282144",
     "exception": false,
     "start_time": "2022-08-03T18:46:36.576792",
     "status": "completed"
    },
    "tags": []
   },
   "outputs": [
    {
     "data": {
      "text/plain": [
       "(0, 40000)"
      ]
     },
     "execution_count": 98,
     "metadata": {},
     "output_type": "execute_result"
    }
   ],
   "source": [
    "test_pred_class[0], len(test_pred_class)"
   ]
  },
  {
   "cell_type": "code",
   "execution_count": 99,
   "id": "eb058085",
   "metadata": {
    "execution": {
     "iopub.execute_input": "2022-08-03T18:46:38.693927Z",
     "iopub.status.busy": "2022-08-03T18:46:38.693373Z",
     "iopub.status.idle": "2022-08-03T18:46:38.699846Z",
     "shell.execute_reply": "2022-08-03T18:46:38.698748Z"
    },
    "papermill": {
     "duration": 0.690613,
     "end_time": "2022-08-03T18:46:38.702075",
     "exception": false,
     "start_time": "2022-08-03T18:46:38.011462",
     "status": "completed"
    },
    "tags": []
   },
   "outputs": [],
   "source": [
    "test['class_cat'] = 0"
   ]
  },
  {
   "cell_type": "code",
   "execution_count": 100,
   "id": "f2fec93b",
   "metadata": {
    "execution": {
     "iopub.execute_input": "2022-08-03T18:46:40.058695Z",
     "iopub.status.busy": "2022-08-03T18:46:40.056969Z",
     "iopub.status.idle": "2022-08-03T18:46:40.064428Z",
     "shell.execute_reply": "2022-08-03T18:46:40.063591Z"
    },
    "papermill": {
     "duration": 0.621978,
     "end_time": "2022-08-03T18:46:40.066847",
     "exception": false,
     "start_time": "2022-08-03T18:46:39.444869",
     "status": "completed"
    },
    "tags": []
   },
   "outputs": [
    {
     "data": {
      "text/plain": [
       "'O'"
      ]
     },
     "execution_count": 100,
     "metadata": {},
     "output_type": "execute_result"
    }
   ],
   "source": [
    "y.columns[0]"
   ]
  },
  {
   "cell_type": "code",
   "execution_count": 101,
   "id": "afebee97",
   "metadata": {
    "execution": {
     "iopub.execute_input": "2022-08-03T18:46:41.386004Z",
     "iopub.status.busy": "2022-08-03T18:46:41.385116Z",
     "iopub.status.idle": "2022-08-03T18:46:56.463655Z",
     "shell.execute_reply": "2022-08-03T18:46:56.462103Z"
    },
    "papermill": {
     "duration": 15.780262,
     "end_time": "2022-08-03T18:46:56.467857",
     "exception": false,
     "start_time": "2022-08-03T18:46:40.687595",
     "status": "completed"
    },
    "tags": []
   },
   "outputs": [
    {
     "name": "stderr",
     "output_type": "stream",
     "text": [
      "  0%|          | 0/40000 [00:00<?, ?it/s]/opt/conda/lib/python3.7/site-packages/pandas/core/indexing.py:1732: SettingWithCopyWarning: \n",
      "A value is trying to be set on a copy of a slice from a DataFrame\n",
      "\n",
      "See the caveats in the documentation: https://pandas.pydata.org/pandas-docs/stable/user_guide/indexing.html#returning-a-view-versus-a-copy\n",
      "  self._setitem_single_block(indexer, value, name)\n",
      "100%|██████████| 40000/40000 [00:15<00:00, 2654.65it/s]\n"
     ]
    }
   ],
   "source": [
    "for i in tqdm(test.index):\n",
    "    test['class_cat'].iloc[i] = test_pred_class[i]"
   ]
  },
  {
   "cell_type": "code",
   "execution_count": 102,
   "id": "7065affb",
   "metadata": {
    "execution": {
     "iopub.execute_input": "2022-08-03T18:46:57.790870Z",
     "iopub.status.busy": "2022-08-03T18:46:57.790213Z",
     "iopub.status.idle": "2022-08-03T18:46:58.159564Z",
     "shell.execute_reply": "2022-08-03T18:46:58.158342Z"
    },
    "papermill": {
     "duration": 1.074408,
     "end_time": "2022-08-03T18:46:58.162461",
     "exception": false,
     "start_time": "2022-08-03T18:46:57.088053",
     "status": "completed"
    },
    "tags": []
   },
   "outputs": [],
   "source": [
    "test['class'] = test['class_cat'].apply(lambda x: y.columns[x])"
   ]
  },
  {
   "cell_type": "code",
   "execution_count": 103,
   "id": "bc382993",
   "metadata": {
    "execution": {
     "iopub.execute_input": "2022-08-03T18:46:59.443764Z",
     "iopub.status.busy": "2022-08-03T18:46:59.442501Z",
     "iopub.status.idle": "2022-08-03T18:46:59.460030Z",
     "shell.execute_reply": "2022-08-03T18:46:59.459118Z"
    },
    "papermill": {
     "duration": 0.683204,
     "end_time": "2022-08-03T18:46:59.462325",
     "exception": false,
     "start_time": "2022-08-03T18:46:58.779121",
     "status": "completed"
    },
    "tags": []
   },
   "outputs": [
    {
     "data": {
      "text/html": [
       "<div>\n",
       "<style scoped>\n",
       "    .dataframe tbody tr th:only-of-type {\n",
       "        vertical-align: middle;\n",
       "    }\n",
       "\n",
       "    .dataframe tbody tr th {\n",
       "        vertical-align: top;\n",
       "    }\n",
       "\n",
       "    .dataframe thead th {\n",
       "        text-align: right;\n",
       "    }\n",
       "</style>\n",
       "<table border=\"1\" class=\"dataframe\">\n",
       "  <thead>\n",
       "    <tr style=\"text-align: right;\">\n",
       "      <th></th>\n",
       "      <th>text</th>\n",
       "      <th>class</th>\n",
       "      <th>text_lem</th>\n",
       "      <th>text_lem_set</th>\n",
       "      <th>class_cat</th>\n",
       "    </tr>\n",
       "  </thead>\n",
       "  <tbody>\n",
       "    <tr>\n",
       "      <th>6722</th>\n",
       "      <td>Он выяснил, что Ситников якобы заплатил за сво...</td>\n",
       "      <td>O</td>\n",
       "      <td>[выяснить, ситниковый, якобы, заплатить, свобо...</td>\n",
       "      <td>[выяснить, ситниковый, якобы, заплатить, свобо...</td>\n",
       "      <td>0</td>\n",
       "    </tr>\n",
       "    <tr>\n",
       "      <th>37301</th>\n",
       "      <td>Ранее глава Крыма Сергей Аксенов сообщил, что ...</td>\n",
       "      <td>O</td>\n",
       "      <td>[ранее, глава, крым, сергей, аксёнов, сообщить...</td>\n",
       "      <td>[ранее, глава, крым, сергей, аксёнов, сообщить...</td>\n",
       "      <td>0</td>\n",
       "    </tr>\n",
       "    <tr>\n",
       "      <th>10215</th>\n",
       "      <td>По словам \"донецких\", российские кураторы ФСБ ...</td>\n",
       "      <td>O</td>\n",
       "      <td>[слово, донецкий, российский, куратор, фсб, дн...</td>\n",
       "      <td>[слово, донецкий, российский, куратор, фсб, дн...</td>\n",
       "      <td>0</td>\n",
       "    </tr>\n",
       "  </tbody>\n",
       "</table>\n",
       "</div>"
      ],
      "text/plain": [
       "                                                    text class  \\\n",
       "6722   Он выяснил, что Ситников якобы заплатил за сво...     O   \n",
       "37301  Ранее глава Крыма Сергей Аксенов сообщил, что ...     O   \n",
       "10215  По словам \"донецких\", российские кураторы ФСБ ...     O   \n",
       "\n",
       "                                                text_lem  \\\n",
       "6722   [выяснить, ситниковый, якобы, заплатить, свобо...   \n",
       "37301  [ранее, глава, крым, сергей, аксёнов, сообщить...   \n",
       "10215  [слово, донецкий, российский, куратор, фсб, дн...   \n",
       "\n",
       "                                            text_lem_set  class_cat  \n",
       "6722   [выяснить, ситниковый, якобы, заплатить, свобо...          0  \n",
       "37301  [ранее, глава, крым, сергей, аксёнов, сообщить...          0  \n",
       "10215  [слово, донецкий, российский, куратор, фсб, дн...          0  "
      ]
     },
     "execution_count": 103,
     "metadata": {},
     "output_type": "execute_result"
    }
   ],
   "source": [
    "test.sample(3)"
   ]
  },
  {
   "cell_type": "code",
   "execution_count": 104,
   "id": "0a6163ad",
   "metadata": {
    "execution": {
     "iopub.execute_input": "2022-08-03T18:47:00.833454Z",
     "iopub.status.busy": "2022-08-03T18:47:00.832554Z",
     "iopub.status.idle": "2022-08-03T18:47:00.844016Z",
     "shell.execute_reply": "2022-08-03T18:47:00.843045Z"
    },
    "papermill": {
     "duration": 0.680882,
     "end_time": "2022-08-03T18:47:00.847038",
     "exception": false,
     "start_time": "2022-08-03T18:47:00.166156",
     "status": "completed"
    },
    "tags": []
   },
   "outputs": [
    {
     "data": {
      "text/plain": [
       "O                                                   27510\n",
       "Теракт                                               1403\n",
       "Взятки                                               1357\n",
       "Экстремизм                                           1336\n",
       "Уголовное обвинение                                  1147\n",
       "Пожары                                               1010\n",
       "Привлечение к уголовной ответственности               991\n",
       "Землетрясение                                         638\n",
       "Утечка нефти                                          564\n",
       "Противодействие коррупции                             470\n",
       "Поддержка террористов                                 470\n",
       "Заключение под стражу                                 432\n",
       "Коррупция                                             377\n",
       "Наводнение                                            353\n",
       "Кораблекрушение                                       260\n",
       "Уголовное задержание                                  241\n",
       "Нарушение закона                                      233\n",
       "Авиакатастрофа                                        213\n",
       "Техногенные катастрофы                                158\n",
       "Извержение вулкана                                    141\n",
       "Падение продаж                                        125\n",
       "Убытки                                                118\n",
       "Падение прибыли                                        82\n",
       "Растрата денежных средств                              72\n",
       "Проблемы с активами                                    67\n",
       "Стихийные бедствия                                     51\n",
       "Чрезвычайные происшествия, чрезвычайные ситуации       33\n",
       "Экономические преступления                             32\n",
       "Закрытие предприятия или производства                  28\n",
       "Убийство                                               25\n",
       "Финансовые затруднения                                 24\n",
       "Рост убытков                                           15\n",
       "Ядерный взрыв                                           9\n",
       "Взрыв газа                                              6\n",
       "Отзыв продукции                                         5\n",
       "Акционерный конфликт                                    3\n",
       "Нарушение обязанностей                                  1\n",
       "Name: class, dtype: int64"
      ]
     },
     "execution_count": 104,
     "metadata": {},
     "output_type": "execute_result"
    }
   ],
   "source": [
    "test['class'].value_counts()"
   ]
  },
  {
   "cell_type": "code",
   "execution_count": 105,
   "id": "57cd1f99",
   "metadata": {
    "execution": {
     "iopub.execute_input": "2022-08-03T18:47:02.199750Z",
     "iopub.status.busy": "2022-08-03T18:47:02.199196Z",
     "iopub.status.idle": "2022-08-03T18:47:02.225996Z",
     "shell.execute_reply": "2022-08-03T18:47:02.224859Z"
    },
    "papermill": {
     "duration": 0.647188,
     "end_time": "2022-08-03T18:47:02.228954",
     "exception": false,
     "start_time": "2022-08-03T18:47:01.581766",
     "status": "completed"
    },
    "tags": []
   },
   "outputs": [],
   "source": [
    "sub = pd.read_csv(PATH + 'sample_submission.csv')"
   ]
  },
  {
   "cell_type": "code",
   "execution_count": 106,
   "id": "7867dbb2",
   "metadata": {
    "execution": {
     "iopub.execute_input": "2022-08-03T18:47:03.569812Z",
     "iopub.status.busy": "2022-08-03T18:47:03.569018Z",
     "iopub.status.idle": "2022-08-03T18:47:03.583407Z",
     "shell.execute_reply": "2022-08-03T18:47:03.582422Z"
    },
    "papermill": {
     "duration": 0.636363,
     "end_time": "2022-08-03T18:47:03.585725",
     "exception": false,
     "start_time": "2022-08-03T18:47:02.949362",
     "status": "completed"
    },
    "tags": []
   },
   "outputs": [
    {
     "data": {
      "text/html": [
       "<div>\n",
       "<style scoped>\n",
       "    .dataframe tbody tr th:only-of-type {\n",
       "        vertical-align: middle;\n",
       "    }\n",
       "\n",
       "    .dataframe tbody tr th {\n",
       "        vertical-align: top;\n",
       "    }\n",
       "\n",
       "    .dataframe thead th {\n",
       "        text-align: right;\n",
       "    }\n",
       "</style>\n",
       "<table border=\"1\" class=\"dataframe\">\n",
       "  <thead>\n",
       "    <tr style=\"text-align: right;\">\n",
       "      <th></th>\n",
       "      <th>id</th>\n",
       "      <th>class</th>\n",
       "    </tr>\n",
       "  </thead>\n",
       "  <tbody>\n",
       "    <tr>\n",
       "      <th>958</th>\n",
       "      <td>958</td>\n",
       "      <td>O</td>\n",
       "    </tr>\n",
       "    <tr>\n",
       "      <th>16486</th>\n",
       "      <td>16486</td>\n",
       "      <td>O</td>\n",
       "    </tr>\n",
       "    <tr>\n",
       "      <th>36542</th>\n",
       "      <td>36542</td>\n",
       "      <td>O</td>\n",
       "    </tr>\n",
       "    <tr>\n",
       "      <th>5026</th>\n",
       "      <td>5026</td>\n",
       "      <td>O</td>\n",
       "    </tr>\n",
       "    <tr>\n",
       "      <th>16763</th>\n",
       "      <td>16763</td>\n",
       "      <td>O</td>\n",
       "    </tr>\n",
       "  </tbody>\n",
       "</table>\n",
       "</div>"
      ],
      "text/plain": [
       "          id class\n",
       "958      958     O\n",
       "16486  16486     O\n",
       "36542  36542     O\n",
       "5026    5026     O\n",
       "16763  16763     O"
      ]
     },
     "execution_count": 106,
     "metadata": {},
     "output_type": "execute_result"
    }
   ],
   "source": [
    "sub.sample(5)"
   ]
  },
  {
   "cell_type": "code",
   "execution_count": 107,
   "id": "e54fe5e8",
   "metadata": {
    "execution": {
     "iopub.execute_input": "2022-08-03T18:47:04.914779Z",
     "iopub.status.busy": "2022-08-03T18:47:04.914212Z",
     "iopub.status.idle": "2022-08-03T18:47:04.921379Z",
     "shell.execute_reply": "2022-08-03T18:47:04.920011Z"
    },
    "papermill": {
     "duration": 0.724385,
     "end_time": "2022-08-03T18:47:04.924290",
     "exception": false,
     "start_time": "2022-08-03T18:47:04.199905",
     "status": "completed"
    },
    "tags": []
   },
   "outputs": [],
   "source": [
    "submission = pd.DataFrame({'id':test.index})"
   ]
  },
  {
   "cell_type": "code",
   "execution_count": 108,
   "id": "d8ce969c",
   "metadata": {
    "execution": {
     "iopub.execute_input": "2022-08-03T18:47:06.183769Z",
     "iopub.status.busy": "2022-08-03T18:47:06.182887Z",
     "iopub.status.idle": "2022-08-03T18:47:06.189133Z",
     "shell.execute_reply": "2022-08-03T18:47:06.188005Z"
    },
    "papermill": {
     "duration": 0.639015,
     "end_time": "2022-08-03T18:47:06.191921",
     "exception": false,
     "start_time": "2022-08-03T18:47:05.552906",
     "status": "completed"
    },
    "tags": []
   },
   "outputs": [],
   "source": [
    "submission['class'] = test['class']"
   ]
  },
  {
   "cell_type": "code",
   "execution_count": 109,
   "id": "1d23095a",
   "metadata": {
    "execution": {
     "iopub.execute_input": "2022-08-03T18:47:07.546272Z",
     "iopub.status.busy": "2022-08-03T18:47:07.545815Z",
     "iopub.status.idle": "2022-08-03T18:47:07.559763Z",
     "shell.execute_reply": "2022-08-03T18:47:07.558658Z"
    },
    "papermill": {
     "duration": 0.652884,
     "end_time": "2022-08-03T18:47:07.562488",
     "exception": false,
     "start_time": "2022-08-03T18:47:06.909604",
     "status": "completed"
    },
    "tags": []
   },
   "outputs": [
    {
     "data": {
      "text/html": [
       "<div>\n",
       "<style scoped>\n",
       "    .dataframe tbody tr th:only-of-type {\n",
       "        vertical-align: middle;\n",
       "    }\n",
       "\n",
       "    .dataframe tbody tr th {\n",
       "        vertical-align: top;\n",
       "    }\n",
       "\n",
       "    .dataframe thead th {\n",
       "        text-align: right;\n",
       "    }\n",
       "</style>\n",
       "<table border=\"1\" class=\"dataframe\">\n",
       "  <thead>\n",
       "    <tr style=\"text-align: right;\">\n",
       "      <th></th>\n",
       "      <th>id</th>\n",
       "      <th>class</th>\n",
       "    </tr>\n",
       "  </thead>\n",
       "  <tbody>\n",
       "    <tr>\n",
       "      <th>15691</th>\n",
       "      <td>15691</td>\n",
       "      <td>O</td>\n",
       "    </tr>\n",
       "    <tr>\n",
       "      <th>16122</th>\n",
       "      <td>16122</td>\n",
       "      <td>O</td>\n",
       "    </tr>\n",
       "    <tr>\n",
       "      <th>37323</th>\n",
       "      <td>37323</td>\n",
       "      <td>Кораблекрушение</td>\n",
       "    </tr>\n",
       "  </tbody>\n",
       "</table>\n",
       "</div>"
      ],
      "text/plain": [
       "          id            class\n",
       "15691  15691                O\n",
       "16122  16122                O\n",
       "37323  37323  Кораблекрушение"
      ]
     },
     "execution_count": 109,
     "metadata": {},
     "output_type": "execute_result"
    }
   ],
   "source": [
    "submission.sample(3)"
   ]
  },
  {
   "cell_type": "code",
   "execution_count": 110,
   "id": "1bccd851",
   "metadata": {
    "execution": {
     "iopub.execute_input": "2022-08-03T18:47:08.925993Z",
     "iopub.status.busy": "2022-08-03T18:47:08.925446Z",
     "iopub.status.idle": "2022-08-03T18:47:08.943863Z",
     "shell.execute_reply": "2022-08-03T18:47:08.942536Z"
    },
    "papermill": {
     "duration": 0.651939,
     "end_time": "2022-08-03T18:47:08.946564",
     "exception": false,
     "start_time": "2022-08-03T18:47:08.294625",
     "status": "completed"
    },
    "tags": []
   },
   "outputs": [
    {
     "name": "stdout",
     "output_type": "stream",
     "text": [
      "<class 'pandas.core.frame.DataFrame'>\n",
      "RangeIndex: 40000 entries, 0 to 39999\n",
      "Data columns (total 2 columns):\n",
      " #   Column  Non-Null Count  Dtype \n",
      "---  ------  --------------  ----- \n",
      " 0   id      40000 non-null  int64 \n",
      " 1   class   40000 non-null  object\n",
      "dtypes: int64(1), object(1)\n",
      "memory usage: 625.1+ KB\n"
     ]
    }
   ],
   "source": [
    "submission.info()"
   ]
  },
  {
   "cell_type": "code",
   "execution_count": 111,
   "id": "02b26d8e",
   "metadata": {
    "execution": {
     "iopub.execute_input": "2022-08-03T18:47:10.358643Z",
     "iopub.status.busy": "2022-08-03T18:47:10.357670Z",
     "iopub.status.idle": "2022-08-03T18:47:10.363386Z",
     "shell.execute_reply": "2022-08-03T18:47:10.362137Z"
    },
    "papermill": {
     "duration": 0.697736,
     "end_time": "2022-08-03T18:47:10.366314",
     "exception": false,
     "start_time": "2022-08-03T18:47:09.668578",
     "status": "completed"
    },
    "tags": []
   },
   "outputs": [],
   "source": [
    "#!pip install pandas==1.3.5"
   ]
  },
  {
   "cell_type": "code",
   "execution_count": 112,
   "id": "8d4fd88f",
   "metadata": {
    "execution": {
     "iopub.execute_input": "2022-08-03T18:47:11.708245Z",
     "iopub.status.busy": "2022-08-03T18:47:11.707375Z",
     "iopub.status.idle": "2022-08-03T18:47:11.766569Z",
     "shell.execute_reply": "2022-08-03T18:47:11.765103Z"
    },
    "papermill": {
     "duration": 0.782292,
     "end_time": "2022-08-03T18:47:11.769648",
     "exception": false,
     "start_time": "2022-08-03T18:47:10.987356",
     "status": "completed"
    },
    "tags": []
   },
   "outputs": [],
   "source": [
    "submission.to_csv('./submission.csv', index=False)"
   ]
  }
 ],
 "metadata": {
  "kernelspec": {
   "display_name": "Python 3.9.12 ('base')",
   "language": "python",
   "name": "python3"
  },
  "language_info": {
   "codemirror_mode": {
    "name": "ipython",
    "version": 3
   },
   "file_extension": ".py",
   "mimetype": "text/x-python",
   "name": "python",
   "nbconvert_exporter": "python",
   "pygments_lexer": "ipython3",
   "version": "3.9.12"
  },
  "papermill": {
   "default_parameters": {},
   "duration": 1003.834331,
   "end_time": "2022-08-03T18:47:15.565454",
   "environment_variables": {},
   "exception": null,
   "input_path": "__notebook__.ipynb",
   "output_path": "__notebook__.ipynb",
   "parameters": {},
   "start_time": "2022-08-03T18:30:31.731123",
   "version": "2.3.4"
  },
  "vscode": {
   "interpreter": {
    "hash": "11fd67006ca27d8c3de757c93fc3ec30e6504c490ec43f275b6f9d00aa4c6782"
   }
  }
 },
 "nbformat": 4,
 "nbformat_minor": 5
}
